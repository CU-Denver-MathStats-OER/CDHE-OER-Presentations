{
  "cells": [
    {
      "cell_type": "markdown",
      "metadata": {
        "id": "8qrTiVkzjz21"
      },
      "source": [
        "# Tutorial on Machine Learning: Overview and Workflow\n",
        "---\n"
      ]
    },
    {
      "cell_type": "markdown",
      "metadata": {
        "id": "k9HqxmHz3Yin"
      },
      "source": [
        "## Want to use Colab? [![Open in Colab](https://colab.research.google.com/assets/colab-badge.svg)](https://githubtocolab.com/CU-Denver-MathStats-OER/CDHE-OER-Presentations/blob/master/Tutorials/Basics_of_ML_in_Python_Tutorial.ipynb)\n",
        "\n",
        "---"
      ]
    },
    {
      "attachments": {},
      "cell_type": "markdown",
      "metadata": {
        "id": "3zr8tSdzvEAg"
      },
      "source": [
        "---\n",
        "\n",
        "\n",
        "***Disclaimer:*** \n",
        "\n",
        "- These tutorials are meant to convey high-level concepts and also show some advanced programming techniques and tricks. While some details are included for the sake of completeness or provide additional references for the interested reader, they are generally not required in order to follow the logical progression of ideas. \n",
        "\n",
        "- Moreover, you are not expected to know or understand all the details in great depth. In many cases, we specifically link details to specific courses so that you can plan your schedule around what you are most interested in learning.  \n",
        "\n",
        "***Level of assumed pre-requisite knowledge:*** \n",
        "\n",
        "- A \"pre-calculus\" level of mathematical proficiency is assumed that covers some [geometry formulas for areas/volumes of common shapes](https://en.wikipedia.org/wiki/List_of_formulas_in_elementary_geometry), [college algebra](https://en.wikipedia.org/wiki/Elementary_algebra), and also some familiarity with [common trigonometric functions](https://en.wikipedia.org/wiki/Trigonometric_functions). \n",
        "\n",
        "- Basic statistics revolving around the concept of a [line of best fit](https://en.wikipedia.org/wiki/Simple_linear_regression), i.e., fitting a line through data.\n",
        "\n",
        "- Introductory-level programming knowledge (in any language) involving variable types, user-defined functions, if-else statements, and for-loops. \n",
        "\n",
        "---"
      ]
    },
    {
      "attachments": {},
      "cell_type": "markdown",
      "metadata": {
        "id": "PBgIWciIxcg2"
      },
      "source": [
        "## ML, statistics, and optimization: The Big Picture\n",
        "---\n",
        "\n",
        "> Before machine learning, there was statistics...\n",
        "\n",
        "<img src=\"https://miro.medium.com/max/828/1*x7P7gqjo8k2_bj2rTQWAfg.webp\" width=50%>\n",
        "\n",
        "- We briefly review [linear regression](https://en.wikipedia.org/wiki/Linear_regression) to help set the stage and mindset for learning models from data. \n",
        "\n",
        "    - Linear regression is a commonly studied topic in statistics and computational science. \n",
        "\n",
        "    - Linear regression concepts are also at the core of many ML algorithms, which makes it a great place to start our studies.\n",
        "\n",
        "    - Moreover, the standard formulation of linear regression problems share many conceptual and quantitative features with ML algorithms in terms of \"learning\" some model parameters that help minimize some cost functional."
      ]
    },
    {
      "attachments": {},
      "cell_type": "markdown",
      "metadata": {
        "id": "UaG7B6JIGfJQ"
      },
      "source": [
        "\n",
        "> At the foundation of both regression and ML is *optimization.* But, underneath that is the bedrock, which is made of *linear algebra* (e.g., MATH 3191: Applied Linear Algebra).\n",
        "\n",
        "<br>\n",
        "\n",
        "<img src=\"https://imgs.xkcd.com/comics/machine_learning.png\">"
      ]
    },
    {
      "attachments": {},
      "cell_type": "markdown",
      "metadata": {
        "id": "vFZR9fIOKj3u"
      },
      "source": [
        "## Want to study deeper?\n",
        "---\n",
        "\n",
        "- To go much more in-depth on linear regression, see Dr. Joshua French's OER textbook [A Progressive Introduction to Linear Models](https://cu-denver-mathstats-oer.github.io/Applied-Regression-Analysis/), which is developed for the MATH 4387/5387: Applied Regression Analysis course at CU Denver.\n",
        "\n",
        "- Alternatively, watch some [videos](http://www.dataschool.io/15-hours-of-expert-machine-learning-videos/) or read this [quick reference guide](http://www.dataschool.io/applying-and-interpreting-linear-regression/) to various key points.\n",
        "\n",
        "- Want a gentler introduction that served as the main motivation for this notebook? Check out the [prologue lecture](https://github.com/CU-Denver-MathStats-OER/Programming-for-Data-Science/blob/main/Lectures-and-Assignments/06-Machine-Learning/lectures/06_lecture_prologue.ipynb) for module 06 in the MATH 1376: Programming for Data Science course for more details on regression and the [part a lecture](https://github.com/CU-Denver-MathStats-OER/Programming-for-Data-Science/blob/main/Lectures-and-Assignments/06-Machine-Learning/lectures/06_lecture_part_a.ipynb) for the same module that goes into deeper details on classifiers for ML.\n",
        "\n",
        "- More advanced? Check out [scikit-learn](https://scikit-learn.org/stable/) examples that are available as Jupyter notebooks (but lack quite a bit of text). "
      ]
    },
    {
      "attachments": {},
      "cell_type": "markdown",
      "metadata": {
        "id": "FNV3Oir2IUUv"
      },
      "source": [
        "## Libraries\n",
        "---\n",
        "\n",
        "- [scikit-learn](http://scikit-learn.org/stable/) is a popular module that you can use to perform linear regression and machine learning. \n",
        "\n",
        "    - You could devote an entire course to this library (and still only scratch the surface of what it has to offer).\n",
        "\n",
        "    - It is a good module for you to focus most of your energy/attention as you learn machine learning/data science since it provides a lot of the functionality for machine learning that you would in general need to use.\n",
        "\n",
        "- [Pandas](https://pandas.pydata.org/pandas-docs/stable/getting_started/overview.html) is a very impressive module that you may become intimately familiar with if you ever do any serious data analysis. The name is derived from the econometrics term [*panel data*](https://en.wikipedia.org/wiki/Panel_data#:~:text=In%20statistics%20and%20econometrics%2C%20panel,the%20same%20firms%20or%20individuals.) (sometimes referred to as longitudinal data by statisticians) that describes multi-dimensional data involving measurements over time. From the overview of pandas:\n",
        "\n",
        "    > ...[provides] fast, flexible, and expressive data structures designed to make working with “relational” or “labeled” data both easy and intuitive. [Pandas] aims to be the fundamental high-level building block for doing practical, real world data analysis in Python. Additionally, it has the broader goal of becoming the most powerful and flexible open source data analysis / manipulation tool available in any language. It is already well on its way toward this goal.\n",
        "\n",
        "    - I highly recommend taking 3-5 minutes and just reading the full [overview of pandas](https://pandas.pydata.org/pandas-docs/stable/getting_started/overview.html).\n",
        "   \n",
        "-   Pandas has its own method for scraping specific types of data from HTML. \n",
        "    - Specifically, the method [`read_html`](https://pandas.pydata.org/pandas-docs/stable/reference/api/pandas.read_html.html) will read HTML tables into a *list* of DataFrame objects whereas other `read_` commands exist for other more specialized purposes like [`read_csv`](https://pandas.pydata.org/docs/reference/api/pandas.read_csv.html) for reading csv files directly into a DataFrame.\n",
        "\n",
        "    - There is a rather thorough [10 minute introductory tutorial](https://pandas.pydata.org/pandas-docs/stable/user_guide/10min.html) to pandas that I recommend going through. \n",
        "\n",
        "        - In fact, you can easily take that 10 minute tutorial and turn it into your own Jupyter notebook, which is a good activity that I highly recommend.*"
      ]
    },
    {
      "cell_type": "code",
      "execution_count": 1,
      "metadata": {
        "id": "9CbErGggxcg4"
      },
      "outputs": [],
      "source": [
        "import pandas as pd\n",
        "import matplotlib.pyplot as plt\n",
        "import numpy as np"
      ]
    },
    {
      "cell_type": "markdown",
      "metadata": {
        "id": "TSwYnzNbxcg9"
      },
      "source": [
        "Let's take a look at some data, ask some questions about that data, and then use linear regression to answer those questions!"
      ]
    },
    {
      "cell_type": "code",
      "execution_count": 2,
      "metadata": {
        "id": "zjOilRxMxcg-"
      },
      "outputs": [],
      "source": [
        "# read data into a DataFrame\n",
        "url = 'https://github.com/CU-Denver-MathStats-OER/Programming-for-Data-Science/blob/main/Lectures-and-Assignments/06-Machine-Learning/lectures/Advertising.csv?raw=True'\n",
        "data = pd.read_csv(url, index_col=0)"
      ]
    },
    {
      "cell_type": "code",
      "execution_count": 3,
      "metadata": {
        "id": "VBQ9X5iJxchA"
      },
      "outputs": [
        {
          "data": {
            "text/plain": [
              "(200, 4)"
            ]
          },
          "execution_count": 3,
          "metadata": {},
          "output_type": "execute_result"
        }
      ],
      "source": [
        "# print the shape of the DataFrame\n",
        "data.shape"
      ]
    },
    {
      "cell_type": "code",
      "execution_count": 4,
      "metadata": {
        "id": "OSp43b5Yxcg-"
      },
      "outputs": [
        {
          "data": {
            "text/html": [
              "<div>\n",
              "<style scoped>\n",
              "    .dataframe tbody tr th:only-of-type {\n",
              "        vertical-align: middle;\n",
              "    }\n",
              "\n",
              "    .dataframe tbody tr th {\n",
              "        vertical-align: top;\n",
              "    }\n",
              "\n",
              "    .dataframe thead th {\n",
              "        text-align: right;\n",
              "    }\n",
              "</style>\n",
              "<table border=\"1\" class=\"dataframe\">\n",
              "  <thead>\n",
              "    <tr style=\"text-align: right;\">\n",
              "      <th></th>\n",
              "      <th>TV</th>\n",
              "      <th>Radio</th>\n",
              "      <th>Newspaper</th>\n",
              "      <th>Sales</th>\n",
              "    </tr>\n",
              "  </thead>\n",
              "  <tbody>\n",
              "    <tr>\n",
              "      <th>1</th>\n",
              "      <td>230.1</td>\n",
              "      <td>37.8</td>\n",
              "      <td>69.2</td>\n",
              "      <td>22.1</td>\n",
              "    </tr>\n",
              "    <tr>\n",
              "      <th>2</th>\n",
              "      <td>44.5</td>\n",
              "      <td>39.3</td>\n",
              "      <td>45.1</td>\n",
              "      <td>10.4</td>\n",
              "    </tr>\n",
              "    <tr>\n",
              "      <th>3</th>\n",
              "      <td>17.2</td>\n",
              "      <td>45.9</td>\n",
              "      <td>69.3</td>\n",
              "      <td>9.3</td>\n",
              "    </tr>\n",
              "    <tr>\n",
              "      <th>4</th>\n",
              "      <td>151.5</td>\n",
              "      <td>41.3</td>\n",
              "      <td>58.5</td>\n",
              "      <td>18.5</td>\n",
              "    </tr>\n",
              "    <tr>\n",
              "      <th>5</th>\n",
              "      <td>180.8</td>\n",
              "      <td>10.8</td>\n",
              "      <td>58.4</td>\n",
              "      <td>12.9</td>\n",
              "    </tr>\n",
              "    <tr>\n",
              "      <th>...</th>\n",
              "      <td>...</td>\n",
              "      <td>...</td>\n",
              "      <td>...</td>\n",
              "      <td>...</td>\n",
              "    </tr>\n",
              "    <tr>\n",
              "      <th>196</th>\n",
              "      <td>38.2</td>\n",
              "      <td>3.7</td>\n",
              "      <td>13.8</td>\n",
              "      <td>7.6</td>\n",
              "    </tr>\n",
              "    <tr>\n",
              "      <th>197</th>\n",
              "      <td>94.2</td>\n",
              "      <td>4.9</td>\n",
              "      <td>8.1</td>\n",
              "      <td>9.7</td>\n",
              "    </tr>\n",
              "    <tr>\n",
              "      <th>198</th>\n",
              "      <td>177.0</td>\n",
              "      <td>9.3</td>\n",
              "      <td>6.4</td>\n",
              "      <td>12.8</td>\n",
              "    </tr>\n",
              "    <tr>\n",
              "      <th>199</th>\n",
              "      <td>283.6</td>\n",
              "      <td>42.0</td>\n",
              "      <td>66.2</td>\n",
              "      <td>25.5</td>\n",
              "    </tr>\n",
              "    <tr>\n",
              "      <th>200</th>\n",
              "      <td>232.1</td>\n",
              "      <td>8.6</td>\n",
              "      <td>8.7</td>\n",
              "      <td>13.4</td>\n",
              "    </tr>\n",
              "  </tbody>\n",
              "</table>\n",
              "<p>200 rows × 4 columns</p>\n",
              "</div>"
            ],
            "text/plain": [
              "        TV  Radio  Newspaper  Sales\n",
              "1    230.1   37.8       69.2   22.1\n",
              "2     44.5   39.3       45.1   10.4\n",
              "3     17.2   45.9       69.3    9.3\n",
              "4    151.5   41.3       58.5   18.5\n",
              "5    180.8   10.8       58.4   12.9\n",
              "..     ...    ...        ...    ...\n",
              "196   38.2    3.7       13.8    7.6\n",
              "197   94.2    4.9        8.1    9.7\n",
              "198  177.0    9.3        6.4   12.8\n",
              "199  283.6   42.0       66.2   25.5\n",
              "200  232.1    8.6        8.7   13.4\n",
              "\n",
              "[200 rows x 4 columns]"
            ]
          },
          "execution_count": 4,
          "metadata": {},
          "output_type": "execute_result"
        }
      ],
      "source": [
        "data  # To get a \"big picture\" view of all data"
      ]
    },
    {
      "cell_type": "code",
      "execution_count": 5,
      "metadata": {
        "id": "6_NZv0sNxcg_"
      },
      "outputs": [
        {
          "data": {
            "text/html": [
              "<div>\n",
              "<style scoped>\n",
              "    .dataframe tbody tr th:only-of-type {\n",
              "        vertical-align: middle;\n",
              "    }\n",
              "\n",
              "    .dataframe tbody tr th {\n",
              "        vertical-align: top;\n",
              "    }\n",
              "\n",
              "    .dataframe thead th {\n",
              "        text-align: right;\n",
              "    }\n",
              "</style>\n",
              "<table border=\"1\" class=\"dataframe\">\n",
              "  <thead>\n",
              "    <tr style=\"text-align: right;\">\n",
              "      <th></th>\n",
              "      <th>TV</th>\n",
              "      <th>Radio</th>\n",
              "      <th>Newspaper</th>\n",
              "      <th>Sales</th>\n",
              "    </tr>\n",
              "  </thead>\n",
              "  <tbody>\n",
              "    <tr>\n",
              "      <th>1</th>\n",
              "      <td>230.1</td>\n",
              "      <td>37.8</td>\n",
              "      <td>69.2</td>\n",
              "      <td>22.1</td>\n",
              "    </tr>\n",
              "    <tr>\n",
              "      <th>2</th>\n",
              "      <td>44.5</td>\n",
              "      <td>39.3</td>\n",
              "      <td>45.1</td>\n",
              "      <td>10.4</td>\n",
              "    </tr>\n",
              "    <tr>\n",
              "      <th>3</th>\n",
              "      <td>17.2</td>\n",
              "      <td>45.9</td>\n",
              "      <td>69.3</td>\n",
              "      <td>9.3</td>\n",
              "    </tr>\n",
              "    <tr>\n",
              "      <th>4</th>\n",
              "      <td>151.5</td>\n",
              "      <td>41.3</td>\n",
              "      <td>58.5</td>\n",
              "      <td>18.5</td>\n",
              "    </tr>\n",
              "    <tr>\n",
              "      <th>5</th>\n",
              "      <td>180.8</td>\n",
              "      <td>10.8</td>\n",
              "      <td>58.4</td>\n",
              "      <td>12.9</td>\n",
              "    </tr>\n",
              "  </tbody>\n",
              "</table>\n",
              "</div>"
            ],
            "text/plain": [
              "      TV  Radio  Newspaper  Sales\n",
              "1  230.1   37.8       69.2   22.1\n",
              "2   44.5   39.3       45.1   10.4\n",
              "3   17.2   45.9       69.3    9.3\n",
              "4  151.5   41.3       58.5   18.5\n",
              "5  180.8   10.8       58.4   12.9"
            ]
          },
          "execution_count": 5,
          "metadata": {},
          "output_type": "execute_result"
        }
      ],
      "source": [
        "data.head()  # just the first 5 rows"
      ]
    },
    {
      "cell_type": "markdown",
      "metadata": {
        "id": "ez8wQuWaxcg_"
      },
      "source": [
        "### Some terminology\n",
        "---\n",
        "\n",
        "What are the **features**?\n",
        "\n",
        "- TV: advertising dollars spent on TV for a single product in a given market (in thousands of dollars)\n",
        "\n",
        "- Radio: advertising dollars spent on Radio\n",
        "\n",
        "- Newspaper: advertising dollars spent on Newspaper\n",
        "\n",
        "What is the **response**?\n",
        "\n",
        "- Sales: sales of a single product in a given market (in thousands of widgets)"
      ]
    },
    {
      "cell_type": "markdown",
      "metadata": {
        "id": "fHjFaQF3xchA"
      },
      "source": [
        "There are 200 **observations**, and thus 200 **markets** in the dataset."
      ]
    },
    {
      "cell_type": "code",
      "execution_count": 6,
      "metadata": {
        "id": "lYFR4JodxchA"
      },
      "outputs": [
        {
          "data": {
            "text/plain": [
              "<AxesSubplot:xlabel='Newspaper', ylabel='Sales'>"
            ]
          },
          "execution_count": 6,
          "metadata": {},
          "output_type": "execute_result"
        },
        {
          "data": {
            "image/png": "[encoded data removed]",
            "text/plain": [
              "<Figure size 1600x800 with 3 Axes>"
            ]
          },
          "metadata": {},
          "output_type": "display_data"
        }
      ],
      "source": [
        "# visualize the relationship between the features and the response using scatterplots\n",
        "fig, axs = plt.subplots(1, 3, sharey=True)\n",
        "plt.rcParams.update({'font.size': 22})\n",
        "data.plot(kind='scatter', x='TV', y='Sales', ax=axs[0], figsize=(16, 8))\n",
        "data.plot(kind='scatter', x='Radio', y='Sales', ax=axs[1])\n",
        "data.plot(kind='scatter', x='Newspaper', y='Sales', ax=axs[2])"
      ]
    },
    {
      "cell_type": "markdown",
      "metadata": {
        "id": "PgbhZyz8xchB"
      },
      "source": [
        "## Questions About the Advertising Data\n",
        "---\n",
        "\n",
        "Let's pretend you work for the company that manufactures and markets this widget. The company might ask you the following: On the basis of this data, how should we spend our advertising money in the future to maximize profit?\n",
        "\n",
        "This general question might lead you to more specific questions:\n",
        "\n",
        "1. Is there a relationship between ads and sales?\n",
        "\n",
        "2. How strong is that relationship?\n",
        "\n",
        "3. Which ad types contribute the most to sales?\n",
        "\n",
        "4. What is the effect of each ad type of sales?\n",
        "\n",
        "5. Given ad spending in a particular market, can sales be predicted?\n",
        "\n",
        "Before we explore those, we may want to consider which scatter plot of data above even suggests there exists a clear functional relationship between a type of advertising expense and sales. The following cartoon contains a lot of wisdom.\n",
        "\n",
        "\n",
        "<br>\n",
        "\n",
        "<img src=\"https://www.explainxkcd.com/wiki/images/9/91/linear_regression.png\">\n",
        "\n",
        "<br>"
      ]
    },
    {
      "attachments": {},
      "cell_type": "markdown",
      "metadata": {
        "id": "jiXRgewrxchB"
      },
      "source": [
        "## Simple Linear Regression\n",
        "---\n",
        "\n",
        "Simple linear regression is an approach for predicting a **quantitative response** using a **single feature** (or \"predictor\" or \"input variable\"). It takes the following form:\n",
        "\n",
        "$y = \\beta_0 + \\beta_1x + \\epsilon$\n",
        "\n",
        "What does each term represent?\n",
        "\n",
        "- $y$ is the response\n",
        "- $x$ is the feature\n",
        "- $\\beta_0$ is the intercept\n",
        "- $\\beta_1$ is the coefficient for x\n",
        "- $\\epsilon$ is deviation of value from the average behavior\n",
        "\n",
        "Together, $\\beta_0$ and $\\beta_1$ are called the **model coefficients**. To create your model, you must \"learn\" the values of these coefficients. And once we've learned these coefficients, we can use the model to predict sales!"
      ]
    },
    {
      "attachments": {},
      "cell_type": "markdown",
      "metadata": {
        "id": "E9zjepp0xchB"
      },
      "source": [
        "## Estimating (\"Learning\") Model Coefficients\n",
        "---\n",
        "\n",
        "Generally speaking, coefficients are estimated using the **least squares criterion**, which means we find the line (mathematically) that minimizes the **sum of squared residuals** (or \"sum of squared errors\"):"
      ]
    },
    {
      "cell_type": "markdown",
      "metadata": {
        "id": "gPJjIU0jxchC"
      },
      "source": [
        "<img src=\"https://github.com/CU-Denver-MathStats-OER/Programming-for-Data-Science/blob/main/Lectures-and-Assignments/06-Machine-Learning/lectures/06_estimating_coefficients.png?raw=1\">\n",
        "\n"
      ]
    },
    {
      "attachments": {},
      "cell_type": "markdown",
      "metadata": {
        "id": "IMvPCO5TxchC"
      },
      "source": [
        "Let's break down the graphic.\n",
        "\n",
        "- The black dots are the **observed values** of x and y.\n",
        "\n",
        "- The blue line is our **least squares line**.\n",
        "\n",
        "- The red lines are the **residuals**, which are the distances between the observed values and the least squares line.\n",
        "\n",
        "How do the model coefficients relate to the least squares line?\n",
        "\n",
        "- $\\beta_0$ is the **intercept** (the typical value of $y$ when $x$=0)\n",
        "\n",
        "- $\\beta_1$ is the **slope** (the typical change in $y$ divided by change in $x$)\n",
        "\n",
        "Here is a graphical depiction of those calculations:"
      ]
    },
    {
      "cell_type": "markdown",
      "metadata": {
        "id": "LW4rVK7qxchC"
      },
      "source": [
        "<img src=\"https://github.com/CU-Denver-MathStats-OER/Programming-for-Data-Science/blob/main/Lectures-and-Assignments/06-Machine-Learning/lectures/06_slope_intercept.png?raw=1\">"
      ]
    },
    {
      "attachments": {},
      "cell_type": "markdown",
      "metadata": {
        "id": "xId_HntS4Aah"
      },
      "source": [
        "Thus, in the $SS_\\text{residuals}$ formula, the $\\hat{y}_i$ predictions are obtained by evaluating the model (i.e., the function defining the line) at the known $x_i$. In other words, \n",
        "\n",
        "<br>\n",
        "\n",
        "$$\n",
        "\\large \\hat{y}_i = \\beta_0+\\beta_1x_i, \n",
        "$$\n",
        "\n",
        "which implies\n",
        "\n",
        "<br>\n",
        "\n",
        "$$\n",
        "\\large    SS_\\text{residuals} = \\sum_{i=1}^N \\left(\\beta_0 + \\beta_1x_i - y_i\\right)^2.\n",
        "$$\n",
        "\n",
        "<br>\n",
        "\n",
        "To ***learn*** the model coefficients simply means to solve the following optimization problem\n",
        "\n",
        "<br>\n",
        "\n",
        "$$\n",
        "    \\large \\text{minimize}\\ SS_\\text{residuals}= \\sum_{i=1}^N \\left(\\beta_0 + \\beta_1x_i - y_i\\right)^2.\n",
        "$$\n",
        "\n",
        "<br>\n",
        "\n",
        "This is very similar to the problem of optimizing the jar shapes in the previous tutorial except now there are no constraints on $\\beta_0$ and $\\beta_1$. While there are two parameters in this problem, the \"cost functional\" ($SS_\\text{residuals}$) is a quadratic function of $\\beta_0$ and $\\beta_1$, which means that if we visualize $SS_\\text{residuals}$ as a function over the $(\\beta_0,\\beta_1)$ plane, we \"see\" something like shown in the code below.\n",
        "\n"
      ]
    },
    {
      "cell_type": "code",
      "execution_count": 7,
      "metadata": {
        "id": "21cDnqx953dD"
      },
      "outputs": [],
      "source": [
        "def compute_SS_residuals(beta_0, beta_1, x, y):\n",
        "    return np.sum(np.power(beta_0 + beta_1*x - y, 2))"
      ]
    },
    {
      "cell_type": "code",
      "execution_count": 8,
      "metadata": {
        "id": "kayagj9D7mqd"
      },
      "outputs": [],
      "source": [
        "# For illustrative purposes only\n",
        "nplot = 25\n",
        "true_beta_0 = 1\n",
        "true_beta_1 = 2\n",
        "\n",
        "r = np.linspace(0, 0.25, nplot)\n",
        "theta = np.linspace(0, 2*np.pi, nplot)\n",
        "r, theta = np.meshgrid(r, theta)\n",
        "beta_0s = true_beta_0 + r*np.cos(theta)/2\n",
        "beta_1s = true_beta_1 + r*np.sin(theta)\n",
        "\n",
        "num_rand_pts = 10\n",
        "x = -1 + 2*np.random.rand(num_rand_pts)\n",
        "y = true_beta_0 + true_beta_1*x\n",
        "\n",
        "SS_residuals = np.zeros((nplot, nplot))\n",
        "for i in range(nplot):\n",
        "    for j in range(nplot):\n",
        "        SS_residuals[j, i] = compute_SS_residuals(beta_0s[j, i], beta_1s[j, i], \n",
        "                                                  x, y)"
      ]
    },
    {
      "cell_type": "code",
      "execution_count": 9,
      "metadata": {
        "id": "KQrKmtXv72is"
      },
      "outputs": [
        {
          "data": {
            "image/png": "[encoded data removed]",
            "text/plain": [
              "<Figure size 1000x700 with 1 Axes>"
            ]
          },
          "metadata": {},
          "output_type": "display_data"
        }
      ],
      "source": [
        "from matplotlib import cm\n",
        "\n",
        "fig, ax = plt.subplots(figsize=(10,7), subplot_kw={\"projection\": \"3d\"})\n",
        "\n",
        "surf = ax.plot_surface(beta_0s, beta_1s, SS_residuals, cmap=cm.coolwarm,\n",
        "                       linewidth=0, alpha=0.9)\n",
        "\n",
        "ax.view_init(elev=25)\n",
        "ax.set_xlabel(r'$\\beta_0$'), ax.set_ylabel(r'$\\beta_1$')\n",
        "ax.set_title('The $SS_{residual}$ cost functional \"bowl\"')\n",
        "ax.set_xticks([]), ax.set_yticks([]), ax.set_zticks([])\n",
        "fig.tight_layout()"
      ]
    },
    {
      "cell_type": "markdown",
      "metadata": {
        "id": "vrBarC2YxchD"
      },
      "source": [
        "- Clearly, there is a unique minimum to the \"bowl\" shape we see above.  \n",
        "\n",
        "- The ***learning*** of $\\beta_0$ and $\\beta_1$ that is done is simply trying to estimate the values that position the $SS_\\text{residual}$ value at the bottom of this bowl.\n"
      ]
    },
    {
      "cell_type": "markdown",
      "metadata": {
        "id": "Y3td381EIjg_"
      },
      "source": [
        "### A common workflow\n",
        "---\n",
        "\n",
        "We now estimate (i.e., learn) the model coefficients for sales as a function of TV advertising data using linear regression. \n",
        "\n",
        "Check out the code documentation here: https://scikit-learn.org/stable/modules/generated/sklearn.linear_model.LinearRegression.html\n",
        "\n",
        "The 3 steps we use below are so often repeated in ML libraries that they are worth remembering:\n",
        "\n",
        "(1) ***import*** the model class from the ML library\n",
        "\n",
        "(2) ***instantiate*** a model object based on this imported class\n",
        "\n",
        "(3) ***fit*** (meaning learn) the parameters of the model using the available data"
      ]
    },
    {
      "cell_type": "code",
      "execution_count": 10,
      "metadata": {
        "id": "xk-NWaGRxchD"
      },
      "outputs": [],
      "source": [
        "# create feature vector x and response vector y\n",
        "feature_cols = ['TV']\n",
        "x = data[feature_cols]\n",
        "y = data.Sales"
      ]
    },
    {
      "cell_type": "code",
      "execution_count": 11,
      "metadata": {
        "id": "UDrDMJU1xchD"
      },
      "outputs": [
        {
          "data": {
            "text/html": [
              "<style>#sk-container-id-1 {color: black;background-color: white;}#sk-container-id-1 pre{padding: 0;}#sk-container-id-1 div.sk-toggleable {background-color: white;}#sk-container-id-1 label.sk-toggleable__label {cursor: pointer;display: block;width: 100%;margin-bottom: 0;padding: 0.3em;box-sizing: border-box;text-align: center;}#sk-container-id-1 label.sk-toggleable__label-arrow:before {content: \"▸\";float: left;margin-right: 0.25em;color: #696969;}#sk-container-id-1 label.sk-toggleable__label-arrow:hover:before {color: black;}#sk-container-id-1 div.sk-estimator:hover label.sk-toggleable__label-arrow:before {color: black;}#sk-container-id-1 div.sk-toggleable__content {max-height: 0;max-width: 0;overflow: hidden;text-align: left;background-color: #f0f8ff;}#sk-container-id-1 div.sk-toggleable__content pre {margin: 0.2em;color: black;border-radius: 0.25em;background-color: #f0f8ff;}#sk-container-id-1 input.sk-toggleable__control:checked~div.sk-toggleable__content {max-height: 200px;max-width: 100%;overflow: auto;}#sk-container-id-1 input.sk-toggleable__control:checked~label.sk-toggleable__label-arrow:before {content: \"▾\";}#sk-container-id-1 div.sk-estimator input.sk-toggleable__control:checked~label.sk-toggleable__label {background-color: #d4ebff;}#sk-container-id-1 div.sk-label input.sk-toggleable__control:checked~label.sk-toggleable__label {background-color: #d4ebff;}#sk-container-id-1 input.sk-hidden--visually {border: 0;clip: rect(1px 1px 1px 1px);clip: rect(1px, 1px, 1px, 1px);height: 1px;margin: -1px;overflow: hidden;padding: 0;position: absolute;width: 1px;}#sk-container-id-1 div.sk-estimator {font-family: monospace;background-color: #f0f8ff;border: 1px dotted black;border-radius: 0.25em;box-sizing: border-box;margin-bottom: 0.5em;}#sk-container-id-1 div.sk-estimator:hover {background-color: #d4ebff;}#sk-container-id-1 div.sk-parallel-item::after {content: \"\";width: 100%;border-bottom: 1px solid gray;flex-grow: 1;}#sk-container-id-1 div.sk-label:hover label.sk-toggleable__label {background-color: #d4ebff;}#sk-container-id-1 div.sk-serial::before {content: \"\";position: absolute;border-left: 1px solid gray;box-sizing: border-box;top: 0;bottom: 0;left: 50%;z-index: 0;}#sk-container-id-1 div.sk-serial {display: flex;flex-direction: column;align-items: center;background-color: white;padding-right: 0.2em;padding-left: 0.2em;position: relative;}#sk-container-id-1 div.sk-item {position: relative;z-index: 1;}#sk-container-id-1 div.sk-parallel {display: flex;align-items: stretch;justify-content: center;background-color: white;position: relative;}#sk-container-id-1 div.sk-item::before, #sk-container-id-1 div.sk-parallel-item::before {content: \"\";position: absolute;border-left: 1px solid gray;box-sizing: border-box;top: 0;bottom: 0;left: 50%;z-index: -1;}#sk-container-id-1 div.sk-parallel-item {display: flex;flex-direction: column;z-index: 1;position: relative;background-color: white;}#sk-container-id-1 div.sk-parallel-item:first-child::after {align-self: flex-end;width: 50%;}#sk-container-id-1 div.sk-parallel-item:last-child::after {align-self: flex-start;width: 50%;}#sk-container-id-1 div.sk-parallel-item:only-child::after {width: 0;}#sk-container-id-1 div.sk-dashed-wrapped {border: 1px dashed gray;margin: 0 0.4em 0.5em 0.4em;box-sizing: border-box;padding-bottom: 0.4em;background-color: white;}#sk-container-id-1 div.sk-label label {font-family: monospace;font-weight: bold;display: inline-block;line-height: 1.2em;}#sk-container-id-1 div.sk-label-container {text-align: center;}#sk-container-id-1 div.sk-container {/* jupyter's `normalize.less` sets `[hidden] { display: none; }` but bootstrap.min.css set `[hidden] { display: none !important; }` so we also need the `!important` here to be able to override the default hidden behavior on the sphinx rendered scikit-learn.org. See: https://github.com/scikit-learn/scikit-learn/issues/21755 */display: inline-block !important;position: relative;}#sk-container-id-1 div.sk-text-repr-fallback {display: none;}</style><div id=\"sk-container-id-1\" class=\"sk-top-container\"><div class=\"sk-text-repr-fallback\"><pre>LinearRegression()</pre><b>In a Jupyter environment, please rerun this cell to show the HTML representation or trust the notebook. <br />On GitHub, the HTML representation is unable to render, please try loading this page with nbviewer.org.</b></div><div class=\"sk-container\" hidden><div class=\"sk-item\"><div class=\"sk-estimator sk-toggleable\"><input class=\"sk-toggleable__control sk-hidden--visually\" id=\"sk-estimator-id-1\" type=\"checkbox\" checked><label for=\"sk-estimator-id-1\" class=\"sk-toggleable__label sk-toggleable__label-arrow\">LinearRegression</label><div class=\"sk-toggleable__content\"><pre>LinearRegression()</pre></div></div></div></div></div>"
            ],
            "text/plain": [
              "LinearRegression()"
            ]
          },
          "execution_count": 11,
          "metadata": {},
          "output_type": "execute_result"
        }
      ],
      "source": [
        "# follow the usual sklearn pattern: (1) import, (2) instantiate, (3) fit\n",
        "\n",
        "# First we import\n",
        "from sklearn.linear_model import LinearRegression\n",
        "\n",
        "# Then, we instantiate a \"linear regression\" object\n",
        "lm = LinearRegression()\n",
        "\n",
        "# Finally, we call the fit method in the object to \"learn\" the linear relationship\n",
        "lm.fit(x, y)"
      ]
    },
    {
      "cell_type": "code",
      "execution_count": 12,
      "metadata": {
        "id": "L3pCCh8I2tFT"
      },
      "outputs": [
        {
          "name": "stdout",
          "output_type": "stream",
          "text": [
            "7.032593549127695\n",
            "[0.04753664]\n"
          ]
        }
      ],
      "source": [
        "# print intercept and coefficients that were \"learned\" by the fit method and stored\n",
        "# as data attributes within the object\n",
        "print(lm.intercept_) \n",
        "print(lm.coef_)  # Shows up as an array because there are usually many features"
      ]
    },
    {
      "cell_type": "markdown",
      "metadata": {
        "id": "7kI6VLDJxchD"
      },
      "source": [
        "## Interpreting Model Coefficients\n",
        "---\n",
        "\n",
        "How do we interpret the TV coefficient ($\\beta_1$)?\n",
        "\n",
        "- A \"unit\" increase in TV ad spending is **associated with** a 0.047537 \"unit\" increase in Sales.\n",
        "\n",
        "- Or more clearly: An additional $1,000 spent on TV ads is **associated with** an increase in sales of 47.537 widgets.\n",
        "\n",
        "Note that if an increase in TV ad spending was associated with a **decrease** in sales, $\\beta_1$ would be **negative**."
      ]
    },
    {
      "attachments": {},
      "cell_type": "markdown",
      "metadata": {
        "id": "p0Tnw5fGxchE"
      },
      "source": [
        "## Using the Model for Prediction\n",
        "---\n",
        "\n",
        "Let's say that there was a new market where the TV advertising spend was **$50,000**. What would we predict for the Sales in that market?\n",
        "\n",
        "$$\\hat{y} = \\beta_0 + \\beta_1x$$\n",
        "$$\\hat{y} = 7.032594 + 0.047537 \\times 50$$"
      ]
    },
    {
      "cell_type": "code",
      "execution_count": 13,
      "metadata": {
        "id": "xc9LW5Z6xchE"
      },
      "outputs": [
        {
          "data": {
            "text/plain": [
              "9.409444"
            ]
          },
          "execution_count": 13,
          "metadata": {},
          "output_type": "execute_result"
        }
      ],
      "source": [
        "# manually calculate the prediction\n",
        "7.032594 + 0.047537*50"
      ]
    },
    {
      "cell_type": "code",
      "execution_count": 14,
      "metadata": {
        "id": "edOsLDnV3ogQ"
      },
      "outputs": [
        {
          "data": {
            "text/plain": [
              "9.409425570778682"
            ]
          },
          "execution_count": 14,
          "metadata": {},
          "output_type": "execute_result"
        }
      ],
      "source": [
        "# manually calculate the prediction in a slightly better way\n",
        "lm.intercept_ + lm.coef_[0]*50"
      ]
    },
    {
      "cell_type": "markdown",
      "metadata": {
        "id": "HMlpuB2DxchE"
      },
      "source": [
        "Thus, we would predict Sales of **9,409 widgets** in that market.\n",
        "\n",
        "Of course, we could (and *should*) also use the linear model object to make the prediction! \n",
        "\n",
        "***In general, it is expecting that there are multiple features in the model (as we later see), so we need to formulate the input as either a 2-D array or as a DataFrame.***"
      ]
    },
    {
      "attachments": {},
      "cell_type": "markdown",
      "metadata": {},
      "source": [
        "I would delete the array example"
      ]
    },
    {
      "cell_type": "code",
      "execution_count": 15,
      "metadata": {
        "id": "xrC-GzA5xchF"
      },
      "outputs": [],
      "source": [
        "import numpy as np"
      ]
    },
    {
      "cell_type": "code",
      "execution_count": 16,
      "metadata": {
        "id": "cqTH5_-SxchF"
      },
      "outputs": [],
      "source": [
        "x_predict_array = np.array([[50]])  # Notice the double brackets"
      ]
    },
    {
      "cell_type": "code",
      "execution_count": 17,
      "metadata": {
        "id": "nlK4xMWixchF"
      },
      "outputs": [
        {
          "name": "stderr",
          "output_type": "stream",
          "text": [
            "c:\\Users\\frencjos\\AppData\\Local\\Programs\\Python\\Python310\\lib\\site-packages\\sklearn\\base.py:420: UserWarning: X does not have valid feature names, but LinearRegression was fitted with feature names\n",
            "  warnings.warn(\n"
          ]
        },
        {
          "data": {
            "text/plain": [
              "array([9.40942557])"
            ]
          },
          "execution_count": 17,
          "metadata": {},
          "output_type": "execute_result"
        }
      ],
      "source": [
        "lm.predict(x_predict_array)"
      ]
    },
    {
      "cell_type": "code",
      "execution_count": 18,
      "metadata": {
        "id": "rijx2MBLxchF"
      },
      "outputs": [
        {
          "data": {
            "text/html": [
              "<div>\n",
              "<style scoped>\n",
              "    .dataframe tbody tr th:only-of-type {\n",
              "        vertical-align: middle;\n",
              "    }\n",
              "\n",
              "    .dataframe tbody tr th {\n",
              "        vertical-align: top;\n",
              "    }\n",
              "\n",
              "    .dataframe thead th {\n",
              "        text-align: right;\n",
              "    }\n",
              "</style>\n",
              "<table border=\"1\" class=\"dataframe\">\n",
              "  <thead>\n",
              "    <tr style=\"text-align: right;\">\n",
              "      <th></th>\n",
              "      <th>TV</th>\n",
              "    </tr>\n",
              "  </thead>\n",
              "  <tbody>\n",
              "    <tr>\n",
              "      <th>0</th>\n",
              "      <td>50</td>\n",
              "    </tr>\n",
              "  </tbody>\n",
              "</table>\n",
              "</div>"
            ],
            "text/plain": [
              "   TV\n",
              "0  50"
            ]
          },
          "execution_count": 18,
          "metadata": {},
          "output_type": "execute_result"
        }
      ],
      "source": [
        "# This is probably the better way to do it since it aligns\n",
        "# with the whole idea of using DataFrames to begin with.\n",
        "x_predict_df = pd.DataFrame({'TV': [50]})\n",
        "x_predict_df.head() # look at the \"head\" of the DataFrame"
      ]
    },
    {
      "cell_type": "code",
      "execution_count": 19,
      "metadata": {
        "id": "wpEsQ_39xchG"
      },
      "outputs": [
        {
          "data": {
            "text/plain": [
              "array([9.40942557])"
            ]
          },
          "execution_count": 19,
          "metadata": {},
          "output_type": "execute_result"
        }
      ],
      "source": [
        "# use the model to make predictions on a new value\n",
        "lm.predict(x_predict_df)"
      ]
    },
    {
      "cell_type": "markdown",
      "metadata": {
        "id": "m1T1nHfgxchG"
      },
      "source": [
        "## Plotting the Least Squares Line\n",
        "---\n",
        "\n",
        "Let's make predictions for the **smallest and largest observed values of x**, and then use the predicted values to plot the least squares line:"
      ]
    },
    {
      "cell_type": "code",
      "execution_count": 20,
      "metadata": {
        "id": "RL21gf2wxchG"
      },
      "outputs": [
        {
          "data": {
            "text/html": [
              "<div>\n",
              "<style scoped>\n",
              "    .dataframe tbody tr th:only-of-type {\n",
              "        vertical-align: middle;\n",
              "    }\n",
              "\n",
              "    .dataframe tbody tr th {\n",
              "        vertical-align: top;\n",
              "    }\n",
              "\n",
              "    .dataframe thead th {\n",
              "        text-align: right;\n",
              "    }\n",
              "</style>\n",
              "<table border=\"1\" class=\"dataframe\">\n",
              "  <thead>\n",
              "    <tr style=\"text-align: right;\">\n",
              "      <th></th>\n",
              "      <th>TV</th>\n",
              "    </tr>\n",
              "  </thead>\n",
              "  <tbody>\n",
              "    <tr>\n",
              "      <th>0</th>\n",
              "      <td>0.7</td>\n",
              "    </tr>\n",
              "    <tr>\n",
              "      <th>1</th>\n",
              "      <td>296.4</td>\n",
              "    </tr>\n",
              "  </tbody>\n",
              "</table>\n",
              "</div>"
            ],
            "text/plain": [
              "      TV\n",
              "0    0.7\n",
              "1  296.4"
            ]
          },
          "execution_count": 20,
          "metadata": {},
          "output_type": "execute_result"
        }
      ],
      "source": [
        "# create a DataFrame with the minimum and maximum values of TV\n",
        "x_new = pd.DataFrame({'TV': [data.TV.min(), data.TV.max()]})\n",
        "x_new.head()"
      ]
    },
    {
      "cell_type": "code",
      "execution_count": 21,
      "metadata": {
        "id": "G1BQvvC5xchH"
      },
      "outputs": [
        {
          "data": {
            "text/plain": [
              "array([ 7.0658692 , 21.12245377])"
            ]
          },
          "execution_count": 21,
          "metadata": {},
          "output_type": "execute_result"
        }
      ],
      "source": [
        "# make predictions for those x values and store them\n",
        "linear_preds = lm.predict(x_new)\n",
        "linear_preds"
      ]
    },
    {
      "cell_type": "code",
      "execution_count": 22,
      "metadata": {
        "id": "Xi3o8UTixchH"
      },
      "outputs": [
        {
          "data": {
            "text/plain": [
              "[<matplotlib.lines.Line2D at 0x20317639f90>]"
            ]
          },
          "execution_count": 22,
          "metadata": {},
          "output_type": "execute_result"
        },
        {
          "data": {
            "image/png": "[encoded data removed]",
            "text/plain": [
              "<Figure size 640x480 with 1 Axes>"
            ]
          },
          "metadata": {},
          "output_type": "display_data"
        }
      ],
      "source": [
        "# first, plot the observed data\n",
        "data.plot(kind='scatter', x='TV', y='Sales')\n",
        "\n",
        "# then, plot the least squares line\n",
        "plt.plot(x_new, linear_preds, c='red', linewidth=2)"
      ]
    },
    {
      "attachments": {},
      "cell_type": "markdown",
      "metadata": {
        "id": "K1H3xrolxchH"
      },
      "source": [
        "## How Well Does the Model Fit the data?\n",
        "---\n",
        "\n",
        "The most common way to evaluate the overall fit of a linear model is by the **R-squared** value. \n",
        "\n",
        "The R-squared value:\n",
        "\n",
        "- Measures the **proportion of variance explained**, meaning the proportion of variance in the observed data that is explained by the model\n",
        "- Alternatively, measures the proportional reduction in $SS_{residuals}$ compared to the the **null model** that only has an intercept and no slope.\n",
        "- Is between 0 and 1, and generally, higher is better because it means that more variance is explained by the model.\n",
        "\n",
        "Here's an example of what R-squared \"looks like\":"
      ]
    },
    {
      "cell_type": "markdown",
      "metadata": {
        "id": "tdVWdw-lxchI"
      },
      "source": [
        "<img src=\"https://github.com/CU-Denver-MathStats-OER/Programming-for-Data-Science/blob/main/Lectures-and-Assignments/06-Machine-Learning/lectures/06_r_squared.png?raw=1\">"
      ]
    },
    {
      "attachments": {},
      "cell_type": "markdown",
      "metadata": {
        "id": "cjHqTRRrxchI"
      },
      "source": [
        "You can see that the **blue line** explains some of the variance in the data (R-squared=0.54), the **green line** explains more of the variance (R-squared=0.64), and the **red line** fits the training data even further (R-squared=0.66).\n",
        "\n",
        "- Does the red line look overly complicated for the data we want to fit?\n",
        "\n",
        "\n",
        "Let's calculate the R-squared value for our simple linear model using the score method:"
      ]
    },
    {
      "cell_type": "code",
      "execution_count": 23,
      "metadata": {
        "id": "oLJKx1B3xchI"
      },
      "outputs": [
        {
          "data": {
            "text/plain": [
              "0.611875050850071"
            ]
          },
          "execution_count": 23,
          "metadata": {},
          "output_type": "execute_result"
        }
      ],
      "source": [
        "# print the R-squared value for the model\n",
        "lm.score(x, y)"
      ]
    },
    {
      "cell_type": "markdown",
      "metadata": {
        "id": "YLrIdv4BxchI"
      },
      "source": [
        "Is that a \"good\" R-squared value? It's hard to say. The threshold for a good R-squared value depends widely on the domain. Therefore, it's most useful as a tool for **comparing different models**. This is a topic best studied in more depth in a course."
      ]
    },
    {
      "attachments": {},
      "cell_type": "markdown",
      "metadata": {
        "id": "gZGNSjilxchM"
      },
      "source": [
        "## Multiple Linear Regression\n",
        "---\n",
        "\n",
        "Simple linear regression can easily be extended to include multiple features. This is called **multiple linear regression**:\n",
        "\n",
        "$y = \\beta_0 + \\beta_1x_1 + ... + \\beta_nx_n + \\epsilon$\n",
        "\n",
        "Each $x$ represents a different feature, and each feature has its own coefficient. In this case:\n",
        "\n",
        "$y = \\beta_0 + \\beta_1 \\times TV + \\beta_2 \\times Radio + \\beta_3 \\times Newspaper + \\epsilon$\n",
        "\n",
        "We estimate these coefficients below."
      ]
    },
    {
      "cell_type": "code",
      "execution_count": 24,
      "metadata": {
        "id": "HoVVhG-lxchM"
      },
      "outputs": [
        {
          "name": "stdout",
          "output_type": "stream",
          "text": [
            "2.938889369459412\n",
            "[ 0.04576465  0.18853002 -0.00103749]\n"
          ]
        }
      ],
      "source": [
        "# create X and y\n",
        "feature_cols = ['TV', 'Radio', 'Newspaper']\n",
        "X = data[feature_cols]\n",
        "y = data.Sales\n",
        "\n",
        "lm_multiple = LinearRegression()  # Instantiate (no need to import again)\n",
        "lm_multiple.fit(X, y)  # Fit\n",
        "\n",
        "# print intercept and coefficients\n",
        "print(lm_multiple.intercept_)\n",
        "print(lm_multiple.coef_)"
      ]
    },
    {
      "attachments": {},
      "cell_type": "markdown",
      "metadata": {
        "id": "X6CYxYz3xchM"
      },
      "source": [
        "How do we interpret these coefficients?\n",
        "\n",
        "- For a given amount of Radio and Newspaper ad spending, an **increase of $1000 in TV ad spending** is associated with an **increase in Sales of 45.765 widgets**.\n",
        "- This interprets the first coefficient. How would you interpret the other coefficients?\n",
        "\n",
        "How well does our model fit?"
      ]
    },
    {
      "cell_type": "code",
      "execution_count": 25,
      "metadata": {},
      "outputs": [
        {
          "data": {
            "text/plain": [
              "0.8972106381789522"
            ]
          },
          "execution_count": 25,
          "metadata": {},
          "output_type": "execute_result"
        }
      ],
      "source": [
        "# Compute the R-squared value for our the multiple linear regression model\n",
        "lm_multiple.score(X, y)"
      ]
    },
    {
      "attachments": {},
      "cell_type": "markdown",
      "metadata": {
        "id": "AbiqZmdFxchN"
      },
      "source": [
        "## Feature Selection\n",
        "---\n",
        "\n",
        "How should we decide **which features to include** in a linear model to balance simplicity with a goodness of fit?\n",
        "\n",
        "**R-squared will always increase as you add more features to the model**, so it is not a reliable approach for choosing the best linear model."
      ]
    },
    {
      "attachments": {},
      "cell_type": "markdown",
      "metadata": {
        "id": "G7z_pJs0xchN"
      },
      "source": [
        "An alternative to R-squared is the **adjusted R-squared**, $R^2_a$, which penalizes model complexity (to control for overfitting).\n",
        "\n",
        "$$R^2_a=1-(1-R^2)\\frac{\\text{\\# observations}-1}{\\text{\\# observations}-\\text{\\# of coefficients}}.$$"
      ]
    },
    {
      "attachments": {},
      "cell_type": "markdown",
      "metadata": {},
      "source": [
        "Let's define a function to compute $R^2_a$."
      ]
    },
    {
      "cell_type": "code",
      "execution_count": 26,
      "metadata": {
        "id": "hrXNxRDxxchN"
      },
      "outputs": [],
      "source": [
        "def compute_adj_Rsq(lm, X, y):\n",
        "    R2 =  lm.score(X, y)\n",
        "    nobs = len(X.axes[0])\n",
        "    nfeatures = len(X.axes[1])\n",
        "    return 1 - (1 - R2) * (nobs - 1)/(nobs - nfeatures)"
      ]
    },
    {
      "attachments": {},
      "cell_type": "markdown",
      "metadata": {},
      "source": [
        "Should we prefer the simple linear regression model or the multiple linear regression model for the TV data?"
      ]
    },
    {
      "cell_type": "code",
      "execution_count": 27,
      "metadata": {},
      "outputs": [
        {
          "data": {
            "text/plain": [
              "0.611875050850071"
            ]
          },
          "execution_count": 27,
          "metadata": {},
          "output_type": "execute_result"
        }
      ],
      "source": [
        "# simple linear regression model\n",
        "compute_adj_Rsq(lm, x, y)"
      ]
    },
    {
      "cell_type": "code",
      "execution_count": 28,
      "metadata": {},
      "outputs": [
        {
          "data": {
            "text/plain": [
              "0.896167091358434"
            ]
          },
          "execution_count": 28,
          "metadata": {},
          "output_type": "execute_result"
        }
      ],
      "source": [
        "# multiple linear regression model\n",
        "compute_adj_Rsq(lm_multiple, X, y)"
      ]
    },
    {
      "attachments": {},
      "cell_type": "markdown",
      "metadata": {
        "id": "R1o8BCAexchN"
      },
      "source": [
        "In practice, feature selection is often performed by combining a measure of model fit (like $R^2_a$) with something called **cross-validation**, which provides a more reliable estimate of prediction error.\n",
        "\n",
        "[**Cross-validation**](https://en.wikipedia.org/wiki/Cross-validation_(statistics)) breaks the data into $K$ non-overlapping parts and uses $K-1$ parts to fit a model and then compute the prediction error when you predict the $K$-th part. This is repeated for each of the $K$ parts. \n",
        "\n",
        "- Cross-validation is a better way to choose which of your models will best **generalize** to out-of-sample data. \n",
        "- This is a topic that is best investigated in depth in a more advanced course (e.g., MATH 4337/5337: Intro to Statistical and Machine Learning, MATH 4388/5388: Machine Learning Methods, or MATH 6388: Statistical and Machine Learning).\n",
        "\n",
        "There is extensive functionality for cross-validation in scikit-learn, including automated methods for searching different sets of parameters and different models. Cross-validation can be applied to any model,  not only linear models, so we can use it for machine learning models."
      ]
    },
    {
      "attachments": {},
      "cell_type": "markdown",
      "metadata": {
        "id": "DaJi6scz9JwF"
      },
      "source": [
        "## Classifiers (artificial neurons): Concept and Connection to Linear Regression\n",
        "---\n",
        "\n",
        "The perceptron algorithm is a very simple version of a neural network or deep learning model, so it is a great place to start when entering the field of machine leaning.\n",
        "\n",
        "From Wikipedia (emphasis my own):\n",
        "\n",
        "> In machine learning, the perceptron is an algorithm for **supervised learning** of **binary classifiers**. A binary classifier is a function which can decide whether or not an input, represented by a vector of numbers, belongs to some specific class. It is a type of linear classifier, i.e. a classification algorithm that makes its predictions based on a linear predictor function combining a set of weights with the feature vector.\n",
        "\n",
        "What does **supervised learning** mean? Simply put, it means we learn a function that maps inputs to outputs based on *training data* containing example input-output pairs. "
      ]
    },
    {
      "attachments": {},
      "cell_type": "markdown",
      "metadata": {
        "id": "MRBabK2l9JwF"
      },
      "source": [
        "### The mathematics (not as bad as it looks)\n",
        "---\n",
        "\n",
        "Let $\\mathbf{x}=(x_1,x_2,\\ldots,x_m)$ denote the $m$ feature values present in the data and $\\mathbf{w}=(w_1,w_2,\\ldots, w_m)$ denote a collection of $m$ weights. The inner product of these two objects is $$\\mathbf{w}\\cdot\\mathbf{x}=\\sum_{i=1}^m w_ix_i,$$ i.e., it is the sum of the product of each pair $(x_i, w_i)$ over all observations.\n",
        "\n",
        "\n",
        " A linear binary classifier defined on $\\mathbf{x}$ is represented as the function \n",
        "\n",
        "<br>\n",
        "\n",
        "$$\n",
        "\\large    f(\\mathbf{w}\\cdot \\mathbf{x} + b) = f\\biggl(\\sum_{i=1}^m w_i x_i + b\\biggr) = \\begin{cases}\n",
        "                        1, & \\sum_{i=1}^m w_i x_i + b>0, \\\\\n",
        "                        -1, & \\text{else}.\n",
        "                    \\end{cases}\n",
        "$$\n",
        "<br>\n",
        "\n",
        "Here, $b$ denotes something called the bias. \n",
        "\n",
        "We can compute $\\mathbf{w}\\cdot\\mathbf{x}=\\sum_{i=1}^m w_ix_i$ using the `numpy.dot` function, which takes two arrays as arguments.\n",
        "\n",
        "\n",
        "We use the perceptron to make binary decisions, i.e., whether or not data that possess $m$ identifying features should belong to one set or its complement (which are represented by the outputs 1 and -1, respectively). \n",
        "\n",
        "<br>\n",
        "\n",
        "<img src=\"https://github.com/CU-Denver-MathStats-OER/Programming-for-Data-Science/blob/main/Lectures-and-Assignments/06-Machine-Learning/lectures/neuron_and_perceptron.png?raw=1\" width=70%>"
      ]
    },
    {
      "attachments": {},
      "cell_type": "markdown",
      "metadata": {
        "id": "1ywtqtm69JwG"
      },
      "source": [
        "See commented text in this cell.\n",
        "<!-- \n",
        "I would remove this completely. I don't think that this will even be on their radar during the presentation.\n",
        "\n",
        "### A note about the *bias* in various source materials\n",
        "---\n",
        "\n",
        "As shown in the figure above (adapted from some of the [source material](https://github.com/rasbt/python-machine-learning-book/blob/master/code/ch02/ch02.ipynb)), it is quite typical to refer to the bias as the weight $w_0$ and consider the weight vector as $(m+1)$-dimensional instead of $m$-dimensional. \n",
        "\n",
        "Keep this in mind when reviewing other sources. \n",
        "\n",
        "We will *not* follow that convention here because the formulas involving the learning of the bias are *different* than the formulas involved with learning the weights $w_1,w_2,\\ldots, w_m$. By treating these separately, we avoid any conceptual (and mathematical) confusion regarding the bias term. -->"
      ]
    },
    {
      "attachments": {},
      "cell_type": "markdown",
      "metadata": {},
      "source": [
        "### What does a perceptron optimize?\n",
        "---\n",
        "\n",
        "A perceptron tries to minimizes our classification error. \n",
        "\n",
        "Ideally, we want our data set to be ***linearly separable***. If our data set is linearly separable, then we can create a perfect classifier.\n",
        "\n",
        "What does linearly separable mean? It means that we can construct a line (for 2-dimensional input data sets), a plane (for 3-dimensional input data sets), or hyperplanes (for 4- and higher-dimensional input data sets) that *separates* the input data space into two parts associated with the output classes (i.e., the values of $y$). \n",
        "\n",
        "<br>\n",
        "\n",
        "<img src=\"https://github.com/CU-Denver-MathStats-OER/Programming-for-Data-Science/blob/main/Lectures-and-Assignments/06-Machine-Learning/lectures/linearly_separable_example.png?raw=1\" title='Linearly separable example' width=40%>\n",
        "\n",
        "<br>\n",
        "\n",
        "See the following for some more background and illustrative examples:\n",
        "\n",
        "- https://en.wikipedia.org/wiki/Linear_separability\n",
        "\n",
        "- https://www.commonlounge.com/discussion/6caf49570d9c4d0789afbc544b32cdbf"
      ]
    },
    {
      "attachments": {},
      "cell_type": "markdown",
      "metadata": {
        "id": "OfADtq7_9JwG"
      },
      "source": [
        "### Comparing regression and a perceptron\n",
        "---\n",
        "\n",
        "Similarities:\n",
        "\n",
        "- Regression and a perceptron try to find the line that \"best fits\" the data, i.e. the line that minimizes our prediction or classification error.\n",
        "\n",
        "Differences:\n",
        "\n",
        "- The output of the regression function (the line of best fit) can be any number between $-\\infty$ and $\\infty$, depending on the input.\n",
        "- The output of the perceptron can only be -1 or 1, depending on the input."
      ]
    },
    {
      "attachments": {},
      "cell_type": "markdown",
      "metadata": {
        "id": "8NrCaerl9JwL"
      },
      "source": [
        "### Real data isn't linearly separable\n",
        "---\n",
        "\n",
        "John Hollinger is a former ESPN analyst/writer who developed some advanced statistics to quantify efficiencies of players and teams in the NBA. He created PER (Player Efficiency Rating), which is often used to evaluate how effective a player is. His statistics were so useful that he parlayed his creation into becoming the VP of basketball operations for the Memphis Grizzlies in 2012.\n",
        "\n",
        "Below, we *crawl* through some online data courtesy of ESPN. By courtesy of ESPN what I actually mean is that according to the terms of service from Disney (the parent company of ESPN): \n",
        "\n",
        "> G. Informational and Entertainment Purposes. You understand that the Disney Products are for your personal, noncommercial use and are intended for informational and entertainment purposes only; the content available does not constitute legal, financial, professional, medical or healthcare advice or diagnosis and cannot be used for such purposes.\n",
        "\n",
        "Anyway, let's see how well team efficiency statistics in the regular season correspond to a predictor of *success* defined by a team making the playoffs. "
      ]
    },
    {
      "cell_type": "code",
      "execution_count": 29,
      "metadata": {
        "id": "Ls-Snnma9JwL"
      },
      "outputs": [],
      "source": [
        "# Let's first orient ourselves on the types of data sets we will be using\n",
        "df_regular_season_temp = pd.read_html('http://www.espn.com/nba/hollinger/teamstats/_/year/2019')[0]"
      ]
    },
    {
      "cell_type": "code",
      "execution_count": 30,
      "metadata": {
        "id": "jmmDmHj79JwL"
      },
      "outputs": [],
      "source": [
        "df_postseason_temp = pd.read_html('http://www.espn.com/nba/hollinger/teamstats/_/year/2019/seasontype/3')[0]"
      ]
    },
    {
      "cell_type": "code",
      "execution_count": 31,
      "metadata": {
        "id": "4y-R_mJS9JwL"
      },
      "outputs": [
        {
          "data": {
            "text/html": [
              "<div>\n",
              "<style scoped>\n",
              "    .dataframe tbody tr th:only-of-type {\n",
              "        vertical-align: middle;\n",
              "    }\n",
              "\n",
              "    .dataframe tbody tr th {\n",
              "        vertical-align: top;\n",
              "    }\n",
              "\n",
              "    .dataframe thead th {\n",
              "        text-align: right;\n",
              "    }\n",
              "</style>\n",
              "<table border=\"1\" class=\"dataframe\">\n",
              "  <thead>\n",
              "    <tr style=\"text-align: right;\">\n",
              "      <th></th>\n",
              "      <th>0</th>\n",
              "      <th>1</th>\n",
              "      <th>2</th>\n",
              "      <th>3</th>\n",
              "      <th>4</th>\n",
              "      <th>5</th>\n",
              "      <th>6</th>\n",
              "      <th>7</th>\n",
              "      <th>8</th>\n",
              "      <th>9</th>\n",
              "      <th>10</th>\n",
              "      <th>11</th>\n",
              "    </tr>\n",
              "  </thead>\n",
              "  <tbody>\n",
              "    <tr>\n",
              "      <th>0</th>\n",
              "      <td>Hollinger Stats - Offensive Efficiency</td>\n",
              "      <td>Hollinger Stats - Offensive Efficiency</td>\n",
              "      <td>Hollinger Stats - Offensive Efficiency</td>\n",
              "      <td>Hollinger Stats - Offensive Efficiency</td>\n",
              "      <td>Hollinger Stats - Offensive Efficiency</td>\n",
              "      <td>Hollinger Stats - Offensive Efficiency</td>\n",
              "      <td>Hollinger Stats - Offensive Efficiency</td>\n",
              "      <td>Hollinger Stats - Offensive Efficiency</td>\n",
              "      <td>Hollinger Stats - Offensive Efficiency</td>\n",
              "      <td>Hollinger Stats - Offensive Efficiency</td>\n",
              "      <td>Hollinger Stats - Offensive Efficiency</td>\n",
              "      <td>Hollinger Stats - Offensive Efficiency</td>\n",
              "    </tr>\n",
              "    <tr>\n",
              "      <th>1</th>\n",
              "      <td>RK</td>\n",
              "      <td>TEAM</td>\n",
              "      <td>PACE</td>\n",
              "      <td>AST</td>\n",
              "      <td>TO</td>\n",
              "      <td>ORR</td>\n",
              "      <td>DRR</td>\n",
              "      <td>REBR</td>\n",
              "      <td>EFF FG%</td>\n",
              "      <td>TS%</td>\n",
              "      <td>OFF EFF</td>\n",
              "      <td>DEF EFF</td>\n",
              "    </tr>\n",
              "    <tr>\n",
              "      <th>2</th>\n",
              "      <td>1</td>\n",
              "      <td>Golden State</td>\n",
              "      <td>103.2</td>\n",
              "      <td>20.7</td>\n",
              "      <td>12.6</td>\n",
              "      <td>22.5</td>\n",
              "      <td>77.1</td>\n",
              "      <td>51.0</td>\n",
              "      <td>56.5</td>\n",
              "      <td>59.6</td>\n",
              "      <td>113.9</td>\n",
              "      <td>106.5</td>\n",
              "    </tr>\n",
              "    <tr>\n",
              "      <th>3</th>\n",
              "      <td>2</td>\n",
              "      <td>Houston</td>\n",
              "      <td>100.4</td>\n",
              "      <td>16.0</td>\n",
              "      <td>12.0</td>\n",
              "      <td>22.8</td>\n",
              "      <td>74.4</td>\n",
              "      <td>48.1</td>\n",
              "      <td>54.2</td>\n",
              "      <td>58.1</td>\n",
              "      <td>112.5</td>\n",
              "      <td>107.9</td>\n",
              "    </tr>\n",
              "    <tr>\n",
              "      <th>4</th>\n",
              "      <td>3</td>\n",
              "      <td>Milwaukee</td>\n",
              "      <td>105.4</td>\n",
              "      <td>18.4</td>\n",
              "      <td>12.0</td>\n",
              "      <td>20.8</td>\n",
              "      <td>80.3</td>\n",
              "      <td>52.3</td>\n",
              "      <td>55.0</td>\n",
              "      <td>58.3</td>\n",
              "      <td>111.5</td>\n",
              "      <td>103.0</td>\n",
              "    </tr>\n",
              "    <tr>\n",
              "      <th>5</th>\n",
              "      <td>4</td>\n",
              "      <td>Portland</td>\n",
              "      <td>101.6</td>\n",
              "      <td>16.7</td>\n",
              "      <td>12.1</td>\n",
              "      <td>26.6</td>\n",
              "      <td>77.9</td>\n",
              "      <td>52.8</td>\n",
              "      <td>52.8</td>\n",
              "      <td>56.9</td>\n",
              "      <td>111.4</td>\n",
              "      <td>108.1</td>\n",
              "    </tr>\n",
              "    <tr>\n",
              "      <th>6</th>\n",
              "      <td>5</td>\n",
              "      <td>San Antonio</td>\n",
              "      <td>100.4</td>\n",
              "      <td>18.3</td>\n",
              "      <td>11.0</td>\n",
              "      <td>21.0</td>\n",
              "      <td>79.4</td>\n",
              "      <td>50.5</td>\n",
              "      <td>53.4</td>\n",
              "      <td>57.2</td>\n",
              "      <td>111.1</td>\n",
              "      <td>108.3</td>\n",
              "    </tr>\n",
              "    <tr>\n",
              "      <th>7</th>\n",
              "      <td>6</td>\n",
              "      <td>Toronto</td>\n",
              "      <td>102.5</td>\n",
              "      <td>18.4</td>\n",
              "      <td>12.4</td>\n",
              "      <td>21.9</td>\n",
              "      <td>77.1</td>\n",
              "      <td>50.2</td>\n",
              "      <td>54.3</td>\n",
              "      <td>57.9</td>\n",
              "      <td>110.9</td>\n",
              "      <td>104.3</td>\n",
              "    </tr>\n",
              "    <tr>\n",
              "      <th>8</th>\n",
              "      <td>7</td>\n",
              "      <td>Philadelphia</td>\n",
              "      <td>104.0</td>\n",
              "      <td>18.9</td>\n",
              "      <td>12.9</td>\n",
              "      <td>24.5</td>\n",
              "      <td>78.6</td>\n",
              "      <td>52.3</td>\n",
              "      <td>53.2</td>\n",
              "      <td>57.4</td>\n",
              "      <td>110.4</td>\n",
              "      <td>107.1</td>\n",
              "    </tr>\n",
              "    <tr>\n",
              "      <th>9</th>\n",
              "      <td>8</td>\n",
              "      <td>Boston</td>\n",
              "      <td>102.0</td>\n",
              "      <td>19.0</td>\n",
              "      <td>11.5</td>\n",
              "      <td>21.6</td>\n",
              "      <td>77.0</td>\n",
              "      <td>49.3</td>\n",
              "      <td>53.4</td>\n",
              "      <td>56.7</td>\n",
              "      <td>110.1</td>\n",
              "      <td>104.9</td>\n",
              "    </tr>\n",
              "    <tr>\n",
              "      <th>10</th>\n",
              "      <td>9</td>\n",
              "      <td>Denver</td>\n",
              "      <td>100.1</td>\n",
              "      <td>19.5</td>\n",
              "      <td>11.9</td>\n",
              "      <td>26.6</td>\n",
              "      <td>78.0</td>\n",
              "      <td>52.2</td>\n",
              "      <td>52.7</td>\n",
              "      <td>55.8</td>\n",
              "      <td>109.8</td>\n",
              "      <td>106.8</td>\n",
              "    </tr>\n",
              "    <tr>\n",
              "      <th>11</th>\n",
              "      <td>10</td>\n",
              "      <td>LA Clippers</td>\n",
              "      <td>104.1</td>\n",
              "      <td>17.3</td>\n",
              "      <td>12.7</td>\n",
              "      <td>22.0</td>\n",
              "      <td>76.0</td>\n",
              "      <td>49.9</td>\n",
              "      <td>52.9</td>\n",
              "      <td>57.5</td>\n",
              "      <td>109.7</td>\n",
              "      <td>109.0</td>\n",
              "    </tr>\n",
              "    <tr>\n",
              "      <th>12</th>\n",
              "      <td>11</td>\n",
              "      <td>Utah</td>\n",
              "      <td>102.5</td>\n",
              "      <td>18.8</td>\n",
              "      <td>13.4</td>\n",
              "      <td>22.9</td>\n",
              "      <td>80.3</td>\n",
              "      <td>52.1</td>\n",
              "      <td>53.8</td>\n",
              "      <td>57.2</td>\n",
              "      <td>108.8</td>\n",
              "      <td>103.2</td>\n",
              "    </tr>\n",
              "    <tr>\n",
              "      <th>13</th>\n",
              "      <td>12</td>\n",
              "      <td>New Orleans</td>\n",
              "      <td>105.6</td>\n",
              "      <td>18.7</td>\n",
              "      <td>12.6</td>\n",
              "      <td>24.2</td>\n",
              "      <td>76.8</td>\n",
              "      <td>50.8</td>\n",
              "      <td>52.9</td>\n",
              "      <td>56.3</td>\n",
              "      <td>108.6</td>\n",
              "      <td>110.4</td>\n",
              "    </tr>\n",
              "    <tr>\n",
              "      <th>14</th>\n",
              "      <td>NaN</td>\n",
              "      <td>Washington</td>\n",
              "      <td>103.7</td>\n",
              "      <td>18.6</td>\n",
              "      <td>12.3</td>\n",
              "      <td>21.3</td>\n",
              "      <td>74.1</td>\n",
              "      <td>47.3</td>\n",
              "      <td>53.1</td>\n",
              "      <td>56.7</td>\n",
              "      <td>108.6</td>\n",
              "      <td>111.3</td>\n",
              "    </tr>\n",
              "    <tr>\n",
              "      <th>15</th>\n",
              "      <td>14</td>\n",
              "      <td>Minnesota</td>\n",
              "      <td>102.8</td>\n",
              "      <td>17.6</td>\n",
              "      <td>11.4</td>\n",
              "      <td>24.6</td>\n",
              "      <td>74.9</td>\n",
              "      <td>49.5</td>\n",
              "      <td>51.1</td>\n",
              "      <td>55.2</td>\n",
              "      <td>108.4</td>\n",
              "      <td>110.2</td>\n",
              "    </tr>\n",
              "    <tr>\n",
              "      <th>16</th>\n",
              "      <td>15</td>\n",
              "      <td>Charlotte</td>\n",
              "      <td>101.1</td>\n",
              "      <td>17.2</td>\n",
              "      <td>10.9</td>\n",
              "      <td>21.7</td>\n",
              "      <td>77.1</td>\n",
              "      <td>48.9</td>\n",
              "      <td>51.4</td>\n",
              "      <td>55.4</td>\n",
              "      <td>108.3</td>\n",
              "      <td>110.2</td>\n",
              "    </tr>\n",
              "    <tr>\n",
              "      <th>17</th>\n",
              "      <td>NaN</td>\n",
              "      <td>Sacramento</td>\n",
              "      <td>105.5</td>\n",
              "      <td>17.9</td>\n",
              "      <td>11.5</td>\n",
              "      <td>23.1</td>\n",
              "      <td>75.5</td>\n",
              "      <td>48.6</td>\n",
              "      <td>52.4</td>\n",
              "      <td>55.4</td>\n",
              "      <td>108.3</td>\n",
              "      <td>108.7</td>\n",
              "    </tr>\n",
              "    <tr>\n",
              "      <th>18</th>\n",
              "      <td>17</td>\n",
              "      <td>Oklahoma City</td>\n",
              "      <td>105.3</td>\n",
              "      <td>16.4</td>\n",
              "      <td>11.7</td>\n",
              "      <td>26.0</td>\n",
              "      <td>78.2</td>\n",
              "      <td>51.3</td>\n",
              "      <td>51.4</td>\n",
              "      <td>54.5</td>\n",
              "      <td>107.6</td>\n",
              "      <td>104.7</td>\n",
              "    </tr>\n",
              "    <tr>\n",
              "      <th>19</th>\n",
              "      <td>18</td>\n",
              "      <td>Indiana</td>\n",
              "      <td>100.4</td>\n",
              "      <td>19.1</td>\n",
              "      <td>12.4</td>\n",
              "      <td>21.9</td>\n",
              "      <td>76.2</td>\n",
              "      <td>49.6</td>\n",
              "      <td>53.0</td>\n",
              "      <td>56.1</td>\n",
              "      <td>107.3</td>\n",
              "      <td>104.2</td>\n",
              "    </tr>\n",
              "    <tr>\n",
              "      <th>20</th>\n",
              "      <td>19</td>\n",
              "      <td>Brooklyn</td>\n",
              "      <td>103.4</td>\n",
              "      <td>17.0</td>\n",
              "      <td>13.0</td>\n",
              "      <td>23.8</td>\n",
              "      <td>76.4</td>\n",
              "      <td>50.2</td>\n",
              "      <td>52.0</td>\n",
              "      <td>55.6</td>\n",
              "      <td>106.9</td>\n",
              "      <td>107.0</td>\n",
              "    </tr>\n",
              "    <tr>\n",
              "      <th>21</th>\n",
              "      <td>20</td>\n",
              "      <td>Dallas</td>\n",
              "      <td>101.4</td>\n",
              "      <td>17.2</td>\n",
              "      <td>12.7</td>\n",
              "      <td>22.7</td>\n",
              "      <td>77.5</td>\n",
              "      <td>50.3</td>\n",
              "      <td>51.9</td>\n",
              "      <td>55.5</td>\n",
              "      <td>106.6</td>\n",
              "      <td>108.3</td>\n",
              "    </tr>\n",
              "    <tr>\n",
              "      <th>22</th>\n",
              "      <td>21</td>\n",
              "      <td>Orlando</td>\n",
              "      <td>100.3</td>\n",
              "      <td>18.7</td>\n",
              "      <td>11.9</td>\n",
              "      <td>22.0</td>\n",
              "      <td>79.7</td>\n",
              "      <td>50.4</td>\n",
              "      <td>51.8</td>\n",
              "      <td>55.0</td>\n",
              "      <td>106.5</td>\n",
              "      <td>105.8</td>\n",
              "    </tr>\n",
              "    <tr>\n",
              "      <th>23</th>\n",
              "      <td>22</td>\n",
              "      <td>Detroit</td>\n",
              "      <td>99.7</td>\n",
              "      <td>16.7</td>\n",
              "      <td>12.3</td>\n",
              "      <td>24.8</td>\n",
              "      <td>78.7</td>\n",
              "      <td>50.7</td>\n",
              "      <td>50.9</td>\n",
              "      <td>54.4</td>\n",
              "      <td>106.1</td>\n",
              "      <td>106.9</td>\n",
              "    </tr>\n",
              "    <tr>\n",
              "      <th>24</th>\n",
              "      <td>23</td>\n",
              "      <td>Atlanta</td>\n",
              "      <td>106.4</td>\n",
              "      <td>17.8</td>\n",
              "      <td>14.3</td>\n",
              "      <td>24.7</td>\n",
              "      <td>76.4</td>\n",
              "      <td>50.0</td>\n",
              "      <td>52.2</td>\n",
              "      <td>55.5</td>\n",
              "      <td>105.5</td>\n",
              "      <td>111.2</td>\n",
              "    </tr>\n",
              "    <tr>\n",
              "      <th>25</th>\n",
              "      <td>24</td>\n",
              "      <td>LA Lakers</td>\n",
              "      <td>105.5</td>\n",
              "      <td>18.0</td>\n",
              "      <td>13.4</td>\n",
              "      <td>22.2</td>\n",
              "      <td>76.4</td>\n",
              "      <td>49.9</td>\n",
              "      <td>52.7</td>\n",
              "      <td>55.4</td>\n",
              "      <td>105.2</td>\n",
              "      <td>107.3</td>\n",
              "    </tr>\n",
              "    <tr>\n",
              "      <th>26</th>\n",
              "      <td>25</td>\n",
              "      <td>Cleveland</td>\n",
              "      <td>98.9</td>\n",
              "      <td>15.8</td>\n",
              "      <td>12.2</td>\n",
              "      <td>23.7</td>\n",
              "      <td>77.0</td>\n",
              "      <td>49.2</td>\n",
              "      <td>50.3</td>\n",
              "      <td>54.0</td>\n",
              "      <td>105.0</td>\n",
              "      <td>115.1</td>\n",
              "    </tr>\n",
              "    <tr>\n",
              "      <th>27</th>\n",
              "      <td>26</td>\n",
              "      <td>Miami</td>\n",
              "      <td>100.7</td>\n",
              "      <td>17.8</td>\n",
              "      <td>13.1</td>\n",
              "      <td>24.8</td>\n",
              "      <td>77.6</td>\n",
              "      <td>51.2</td>\n",
              "      <td>51.5</td>\n",
              "      <td>54.2</td>\n",
              "      <td>104.6</td>\n",
              "      <td>105.1</td>\n",
              "    </tr>\n",
              "    <tr>\n",
              "      <th>28</th>\n",
              "      <td>27</td>\n",
              "      <td>Memphis</td>\n",
              "      <td>98.8</td>\n",
              "      <td>18.1</td>\n",
              "      <td>12.9</td>\n",
              "      <td>20.1</td>\n",
              "      <td>77.6</td>\n",
              "      <td>48.3</td>\n",
              "      <td>50.8</td>\n",
              "      <td>54.8</td>\n",
              "      <td>103.8</td>\n",
              "      <td>106.2</td>\n",
              "    </tr>\n",
              "    <tr>\n",
              "      <th>29</th>\n",
              "      <td>28</td>\n",
              "      <td>Phoenix</td>\n",
              "      <td>102.9</td>\n",
              "      <td>17.4</td>\n",
              "      <td>13.8</td>\n",
              "      <td>20.5</td>\n",
              "      <td>72.5</td>\n",
              "      <td>46.1</td>\n",
              "      <td>51.4</td>\n",
              "      <td>55.2</td>\n",
              "      <td>103.6</td>\n",
              "      <td>112.2</td>\n",
              "    </tr>\n",
              "    <tr>\n",
              "      <th>30</th>\n",
              "      <td>29</td>\n",
              "      <td>Chicago</td>\n",
              "      <td>101.1</td>\n",
              "      <td>16.5</td>\n",
              "      <td>12.7</td>\n",
              "      <td>19.4</td>\n",
              "      <td>77.3</td>\n",
              "      <td>48.0</td>\n",
              "      <td>50.5</td>\n",
              "      <td>54.1</td>\n",
              "      <td>102.5</td>\n",
              "      <td>110.9</td>\n",
              "    </tr>\n",
              "    <tr>\n",
              "      <th>31</th>\n",
              "      <td>30</td>\n",
              "      <td>New York</td>\n",
              "      <td>102.0</td>\n",
              "      <td>15.1</td>\n",
              "      <td>12.4</td>\n",
              "      <td>22.1</td>\n",
              "      <td>76.1</td>\n",
              "      <td>48.5</td>\n",
              "      <td>49.0</td>\n",
              "      <td>52.9</td>\n",
              "      <td>102.1</td>\n",
              "      <td>110.9</td>\n",
              "    </tr>\n",
              "  </tbody>\n",
              "</table>\n",
              "</div>"
            ],
            "text/plain": [
              "                                        0   \\\n",
              "0   Hollinger Stats - Offensive Efficiency   \n",
              "1                                       RK   \n",
              "2                                        1   \n",
              "3                                        2   \n",
              "4                                        3   \n",
              "5                                        4   \n",
              "6                                        5   \n",
              "7                                        6   \n",
              "8                                        7   \n",
              "9                                        8   \n",
              "10                                       9   \n",
              "11                                      10   \n",
              "12                                      11   \n",
              "13                                      12   \n",
              "14                                     NaN   \n",
              "15                                      14   \n",
              "16                                      15   \n",
              "17                                     NaN   \n",
              "18                                      17   \n",
              "19                                      18   \n",
              "20                                      19   \n",
              "21                                      20   \n",
              "22                                      21   \n",
              "23                                      22   \n",
              "24                                      23   \n",
              "25                                      24   \n",
              "26                                      25   \n",
              "27                                      26   \n",
              "28                                      27   \n",
              "29                                      28   \n",
              "30                                      29   \n",
              "31                                      30   \n",
              "\n",
              "                                        1   \\\n",
              "0   Hollinger Stats - Offensive Efficiency   \n",
              "1                                     TEAM   \n",
              "2                             Golden State   \n",
              "3                                  Houston   \n",
              "4                                Milwaukee   \n",
              "5                                 Portland   \n",
              "6                              San Antonio   \n",
              "7                                  Toronto   \n",
              "8                             Philadelphia   \n",
              "9                                   Boston   \n",
              "10                                  Denver   \n",
              "11                             LA Clippers   \n",
              "12                                    Utah   \n",
              "13                             New Orleans   \n",
              "14                              Washington   \n",
              "15                               Minnesota   \n",
              "16                               Charlotte   \n",
              "17                              Sacramento   \n",
              "18                           Oklahoma City   \n",
              "19                                 Indiana   \n",
              "20                                Brooklyn   \n",
              "21                                  Dallas   \n",
              "22                                 Orlando   \n",
              "23                                 Detroit   \n",
              "24                                 Atlanta   \n",
              "25                               LA Lakers   \n",
              "26                               Cleveland   \n",
              "27                                   Miami   \n",
              "28                                 Memphis   \n",
              "29                                 Phoenix   \n",
              "30                                 Chicago   \n",
              "31                                New York   \n",
              "\n",
              "                                        2   \\\n",
              "0   Hollinger Stats - Offensive Efficiency   \n",
              "1                                     PACE   \n",
              "2                                    103.2   \n",
              "3                                    100.4   \n",
              "4                                    105.4   \n",
              "5                                    101.6   \n",
              "6                                    100.4   \n",
              "7                                    102.5   \n",
              "8                                    104.0   \n",
              "9                                    102.0   \n",
              "10                                   100.1   \n",
              "11                                   104.1   \n",
              "12                                   102.5   \n",
              "13                                   105.6   \n",
              "14                                   103.7   \n",
              "15                                   102.8   \n",
              "16                                   101.1   \n",
              "17                                   105.5   \n",
              "18                                   105.3   \n",
              "19                                   100.4   \n",
              "20                                   103.4   \n",
              "21                                   101.4   \n",
              "22                                   100.3   \n",
              "23                                    99.7   \n",
              "24                                   106.4   \n",
              "25                                   105.5   \n",
              "26                                    98.9   \n",
              "27                                   100.7   \n",
              "28                                    98.8   \n",
              "29                                   102.9   \n",
              "30                                   101.1   \n",
              "31                                   102.0   \n",
              "\n",
              "                                        3   \\\n",
              "0   Hollinger Stats - Offensive Efficiency   \n",
              "1                                      AST   \n",
              "2                                     20.7   \n",
              "3                                     16.0   \n",
              "4                                     18.4   \n",
              "5                                     16.7   \n",
              "6                                     18.3   \n",
              "7                                     18.4   \n",
              "8                                     18.9   \n",
              "9                                     19.0   \n",
              "10                                    19.5   \n",
              "11                                    17.3   \n",
              "12                                    18.8   \n",
              "13                                    18.7   \n",
              "14                                    18.6   \n",
              "15                                    17.6   \n",
              "16                                    17.2   \n",
              "17                                    17.9   \n",
              "18                                    16.4   \n",
              "19                                    19.1   \n",
              "20                                    17.0   \n",
              "21                                    17.2   \n",
              "22                                    18.7   \n",
              "23                                    16.7   \n",
              "24                                    17.8   \n",
              "25                                    18.0   \n",
              "26                                    15.8   \n",
              "27                                    17.8   \n",
              "28                                    18.1   \n",
              "29                                    17.4   \n",
              "30                                    16.5   \n",
              "31                                    15.1   \n",
              "\n",
              "                                        4   \\\n",
              "0   Hollinger Stats - Offensive Efficiency   \n",
              "1                                       TO   \n",
              "2                                     12.6   \n",
              "3                                     12.0   \n",
              "4                                     12.0   \n",
              "5                                     12.1   \n",
              "6                                     11.0   \n",
              "7                                     12.4   \n",
              "8                                     12.9   \n",
              "9                                     11.5   \n",
              "10                                    11.9   \n",
              "11                                    12.7   \n",
              "12                                    13.4   \n",
              "13                                    12.6   \n",
              "14                                    12.3   \n",
              "15                                    11.4   \n",
              "16                                    10.9   \n",
              "17                                    11.5   \n",
              "18                                    11.7   \n",
              "19                                    12.4   \n",
              "20                                    13.0   \n",
              "21                                    12.7   \n",
              "22                                    11.9   \n",
              "23                                    12.3   \n",
              "24                                    14.3   \n",
              "25                                    13.4   \n",
              "26                                    12.2   \n",
              "27                                    13.1   \n",
              "28                                    12.9   \n",
              "29                                    13.8   \n",
              "30                                    12.7   \n",
              "31                                    12.4   \n",
              "\n",
              "                                        5   \\\n",
              "0   Hollinger Stats - Offensive Efficiency   \n",
              "1                                      ORR   \n",
              "2                                     22.5   \n",
              "3                                     22.8   \n",
              "4                                     20.8   \n",
              "5                                     26.6   \n",
              "6                                     21.0   \n",
              "7                                     21.9   \n",
              "8                                     24.5   \n",
              "9                                     21.6   \n",
              "10                                    26.6   \n",
              "11                                    22.0   \n",
              "12                                    22.9   \n",
              "13                                    24.2   \n",
              "14                                    21.3   \n",
              "15                                    24.6   \n",
              "16                                    21.7   \n",
              "17                                    23.1   \n",
              "18                                    26.0   \n",
              "19                                    21.9   \n",
              "20                                    23.8   \n",
              "21                                    22.7   \n",
              "22                                    22.0   \n",
              "23                                    24.8   \n",
              "24                                    24.7   \n",
              "25                                    22.2   \n",
              "26                                    23.7   \n",
              "27                                    24.8   \n",
              "28                                    20.1   \n",
              "29                                    20.5   \n",
              "30                                    19.4   \n",
              "31                                    22.1   \n",
              "\n",
              "                                        6   \\\n",
              "0   Hollinger Stats - Offensive Efficiency   \n",
              "1                                      DRR   \n",
              "2                                     77.1   \n",
              "3                                     74.4   \n",
              "4                                     80.3   \n",
              "5                                     77.9   \n",
              "6                                     79.4   \n",
              "7                                     77.1   \n",
              "8                                     78.6   \n",
              "9                                     77.0   \n",
              "10                                    78.0   \n",
              "11                                    76.0   \n",
              "12                                    80.3   \n",
              "13                                    76.8   \n",
              "14                                    74.1   \n",
              "15                                    74.9   \n",
              "16                                    77.1   \n",
              "17                                    75.5   \n",
              "18                                    78.2   \n",
              "19                                    76.2   \n",
              "20                                    76.4   \n",
              "21                                    77.5   \n",
              "22                                    79.7   \n",
              "23                                    78.7   \n",
              "24                                    76.4   \n",
              "25                                    76.4   \n",
              "26                                    77.0   \n",
              "27                                    77.6   \n",
              "28                                    77.6   \n",
              "29                                    72.5   \n",
              "30                                    77.3   \n",
              "31                                    76.1   \n",
              "\n",
              "                                        7   \\\n",
              "0   Hollinger Stats - Offensive Efficiency   \n",
              "1                                     REBR   \n",
              "2                                     51.0   \n",
              "3                                     48.1   \n",
              "4                                     52.3   \n",
              "5                                     52.8   \n",
              "6                                     50.5   \n",
              "7                                     50.2   \n",
              "8                                     52.3   \n",
              "9                                     49.3   \n",
              "10                                    52.2   \n",
              "11                                    49.9   \n",
              "12                                    52.1   \n",
              "13                                    50.8   \n",
              "14                                    47.3   \n",
              "15                                    49.5   \n",
              "16                                    48.9   \n",
              "17                                    48.6   \n",
              "18                                    51.3   \n",
              "19                                    49.6   \n",
              "20                                    50.2   \n",
              "21                                    50.3   \n",
              "22                                    50.4   \n",
              "23                                    50.7   \n",
              "24                                    50.0   \n",
              "25                                    49.9   \n",
              "26                                    49.2   \n",
              "27                                    51.2   \n",
              "28                                    48.3   \n",
              "29                                    46.1   \n",
              "30                                    48.0   \n",
              "31                                    48.5   \n",
              "\n",
              "                                        8   \\\n",
              "0   Hollinger Stats - Offensive Efficiency   \n",
              "1                                  EFF FG%   \n",
              "2                                     56.5   \n",
              "3                                     54.2   \n",
              "4                                     55.0   \n",
              "5                                     52.8   \n",
              "6                                     53.4   \n",
              "7                                     54.3   \n",
              "8                                     53.2   \n",
              "9                                     53.4   \n",
              "10                                    52.7   \n",
              "11                                    52.9   \n",
              "12                                    53.8   \n",
              "13                                    52.9   \n",
              "14                                    53.1   \n",
              "15                                    51.1   \n",
              "16                                    51.4   \n",
              "17                                    52.4   \n",
              "18                                    51.4   \n",
              "19                                    53.0   \n",
              "20                                    52.0   \n",
              "21                                    51.9   \n",
              "22                                    51.8   \n",
              "23                                    50.9   \n",
              "24                                    52.2   \n",
              "25                                    52.7   \n",
              "26                                    50.3   \n",
              "27                                    51.5   \n",
              "28                                    50.8   \n",
              "29                                    51.4   \n",
              "30                                    50.5   \n",
              "31                                    49.0   \n",
              "\n",
              "                                        9   \\\n",
              "0   Hollinger Stats - Offensive Efficiency   \n",
              "1                                      TS%   \n",
              "2                                     59.6   \n",
              "3                                     58.1   \n",
              "4                                     58.3   \n",
              "5                                     56.9   \n",
              "6                                     57.2   \n",
              "7                                     57.9   \n",
              "8                                     57.4   \n",
              "9                                     56.7   \n",
              "10                                    55.8   \n",
              "11                                    57.5   \n",
              "12                                    57.2   \n",
              "13                                    56.3   \n",
              "14                                    56.7   \n",
              "15                                    55.2   \n",
              "16                                    55.4   \n",
              "17                                    55.4   \n",
              "18                                    54.5   \n",
              "19                                    56.1   \n",
              "20                                    55.6   \n",
              "21                                    55.5   \n",
              "22                                    55.0   \n",
              "23                                    54.4   \n",
              "24                                    55.5   \n",
              "25                                    55.4   \n",
              "26                                    54.0   \n",
              "27                                    54.2   \n",
              "28                                    54.8   \n",
              "29                                    55.2   \n",
              "30                                    54.1   \n",
              "31                                    52.9   \n",
              "\n",
              "                                        10  \\\n",
              "0   Hollinger Stats - Offensive Efficiency   \n",
              "1                                  OFF EFF   \n",
              "2                                    113.9   \n",
              "3                                    112.5   \n",
              "4                                    111.5   \n",
              "5                                    111.4   \n",
              "6                                    111.1   \n",
              "7                                    110.9   \n",
              "8                                    110.4   \n",
              "9                                    110.1   \n",
              "10                                   109.8   \n",
              "11                                   109.7   \n",
              "12                                   108.8   \n",
              "13                                   108.6   \n",
              "14                                   108.6   \n",
              "15                                   108.4   \n",
              "16                                   108.3   \n",
              "17                                   108.3   \n",
              "18                                   107.6   \n",
              "19                                   107.3   \n",
              "20                                   106.9   \n",
              "21                                   106.6   \n",
              "22                                   106.5   \n",
              "23                                   106.1   \n",
              "24                                   105.5   \n",
              "25                                   105.2   \n",
              "26                                   105.0   \n",
              "27                                   104.6   \n",
              "28                                   103.8   \n",
              "29                                   103.6   \n",
              "30                                   102.5   \n",
              "31                                   102.1   \n",
              "\n",
              "                                        11  \n",
              "0   Hollinger Stats - Offensive Efficiency  \n",
              "1                                  DEF EFF  \n",
              "2                                    106.5  \n",
              "3                                    107.9  \n",
              "4                                    103.0  \n",
              "5                                    108.1  \n",
              "6                                    108.3  \n",
              "7                                    104.3  \n",
              "8                                    107.1  \n",
              "9                                    104.9  \n",
              "10                                   106.8  \n",
              "11                                   109.0  \n",
              "12                                   103.2  \n",
              "13                                   110.4  \n",
              "14                                   111.3  \n",
              "15                                   110.2  \n",
              "16                                   110.2  \n",
              "17                                   108.7  \n",
              "18                                   104.7  \n",
              "19                                   104.2  \n",
              "20                                   107.0  \n",
              "21                                   108.3  \n",
              "22                                   105.8  \n",
              "23                                   106.9  \n",
              "24                                   111.2  \n",
              "25                                   107.3  \n",
              "26                                   115.1  \n",
              "27                                   105.1  \n",
              "28                                   106.2  \n",
              "29                                   112.2  \n",
              "30                                   110.9  \n",
              "31                                   110.9  "
            ]
          },
          "execution_count": 31,
          "metadata": {},
          "output_type": "execute_result"
        }
      ],
      "source": [
        "df_regular_season_temp"
      ]
    },
    {
      "cell_type": "code",
      "execution_count": 32,
      "metadata": {
        "id": "s8Do2oRl9JwL"
      },
      "outputs": [
        {
          "data": {
            "text/html": [
              "<div>\n",
              "<style scoped>\n",
              "    .dataframe tbody tr th:only-of-type {\n",
              "        vertical-align: middle;\n",
              "    }\n",
              "\n",
              "    .dataframe tbody tr th {\n",
              "        vertical-align: top;\n",
              "    }\n",
              "\n",
              "    .dataframe thead th {\n",
              "        text-align: right;\n",
              "    }\n",
              "</style>\n",
              "<table border=\"1\" class=\"dataframe\">\n",
              "  <thead>\n",
              "    <tr style=\"text-align: right;\">\n",
              "      <th></th>\n",
              "      <th>0</th>\n",
              "      <th>1</th>\n",
              "      <th>2</th>\n",
              "      <th>3</th>\n",
              "      <th>4</th>\n",
              "      <th>5</th>\n",
              "      <th>6</th>\n",
              "      <th>7</th>\n",
              "      <th>8</th>\n",
              "      <th>9</th>\n",
              "      <th>10</th>\n",
              "      <th>11</th>\n",
              "    </tr>\n",
              "  </thead>\n",
              "  <tbody>\n",
              "    <tr>\n",
              "      <th>0</th>\n",
              "      <td>Hollinger Playoff Stats - Offensive Efficiency</td>\n",
              "      <td>Hollinger Playoff Stats - Offensive Efficiency</td>\n",
              "      <td>Hollinger Playoff Stats - Offensive Efficiency</td>\n",
              "      <td>Hollinger Playoff Stats - Offensive Efficiency</td>\n",
              "      <td>Hollinger Playoff Stats - Offensive Efficiency</td>\n",
              "      <td>Hollinger Playoff Stats - Offensive Efficiency</td>\n",
              "      <td>Hollinger Playoff Stats - Offensive Efficiency</td>\n",
              "      <td>Hollinger Playoff Stats - Offensive Efficiency</td>\n",
              "      <td>Hollinger Playoff Stats - Offensive Efficiency</td>\n",
              "      <td>Hollinger Playoff Stats - Offensive Efficiency</td>\n",
              "      <td>Hollinger Playoff Stats - Offensive Efficiency</td>\n",
              "      <td>Hollinger Playoff Stats - Offensive Efficiency</td>\n",
              "    </tr>\n",
              "    <tr>\n",
              "      <th>1</th>\n",
              "      <td>RK</td>\n",
              "      <td>TEAM</td>\n",
              "      <td>PACE</td>\n",
              "      <td>AST</td>\n",
              "      <td>TO</td>\n",
              "      <td>ORR</td>\n",
              "      <td>DRR</td>\n",
              "      <td>REBR</td>\n",
              "      <td>EFF FG%</td>\n",
              "      <td>TS%</td>\n",
              "      <td>OFF EFF</td>\n",
              "      <td>DEF EFF</td>\n",
              "    </tr>\n",
              "    <tr>\n",
              "      <th>2</th>\n",
              "      <td>1</td>\n",
              "      <td>Golden State</td>\n",
              "      <td>100.9</td>\n",
              "      <td>20.3</td>\n",
              "      <td>13.3</td>\n",
              "      <td>24.8</td>\n",
              "      <td>76.6</td>\n",
              "      <td>51.4</td>\n",
              "      <td>54.8</td>\n",
              "      <td>58.9</td>\n",
              "      <td>112.3</td>\n",
              "      <td>108.6</td>\n",
              "    </tr>\n",
              "    <tr>\n",
              "      <th>3</th>\n",
              "      <td>2</td>\n",
              "      <td>Denver</td>\n",
              "      <td>95.1</td>\n",
              "      <td>17.8</td>\n",
              "      <td>8.8</td>\n",
              "      <td>27.4</td>\n",
              "      <td>74.8</td>\n",
              "      <td>50.7</td>\n",
              "      <td>49.6</td>\n",
              "      <td>53.9</td>\n",
              "      <td>111.3</td>\n",
              "      <td>109.5</td>\n",
              "    </tr>\n",
              "    <tr>\n",
              "      <th>4</th>\n",
              "      <td>3</td>\n",
              "      <td>San Antonio</td>\n",
              "      <td>93.9</td>\n",
              "      <td>16.9</td>\n",
              "      <td>8.1</td>\n",
              "      <td>24.2</td>\n",
              "      <td>76.8</td>\n",
              "      <td>50.6</td>\n",
              "      <td>50.3</td>\n",
              "      <td>54.2</td>\n",
              "      <td>111.1</td>\n",
              "      <td>110.8</td>\n",
              "    </tr>\n",
              "    <tr>\n",
              "      <th>5</th>\n",
              "      <td>4</td>\n",
              "      <td>Milwaukee</td>\n",
              "      <td>102.2</td>\n",
              "      <td>18.0</td>\n",
              "      <td>11.4</td>\n",
              "      <td>21.7</td>\n",
              "      <td>83.0</td>\n",
              "      <td>53.5</td>\n",
              "      <td>52.3</td>\n",
              "      <td>56.0</td>\n",
              "      <td>109.0</td>\n",
              "      <td>100.2</td>\n",
              "    </tr>\n",
              "    <tr>\n",
              "      <th>6</th>\n",
              "      <td>5</td>\n",
              "      <td>Toronto</td>\n",
              "      <td>98.4</td>\n",
              "      <td>17.4</td>\n",
              "      <td>11.3</td>\n",
              "      <td>18.9</td>\n",
              "      <td>77.7</td>\n",
              "      <td>48.3</td>\n",
              "      <td>51.5</td>\n",
              "      <td>56.1</td>\n",
              "      <td>107.9</td>\n",
              "      <td>101.4</td>\n",
              "    </tr>\n",
              "    <tr>\n",
              "      <th>7</th>\n",
              "      <td>6</td>\n",
              "      <td>Houston</td>\n",
              "      <td>99.8</td>\n",
              "      <td>14.2</td>\n",
              "      <td>14.3</td>\n",
              "      <td>23.1</td>\n",
              "      <td>75.0</td>\n",
              "      <td>49.9</td>\n",
              "      <td>53.7</td>\n",
              "      <td>57.4</td>\n",
              "      <td>107.8</td>\n",
              "      <td>104.4</td>\n",
              "    </tr>\n",
              "    <tr>\n",
              "      <th>8</th>\n",
              "      <td>7</td>\n",
              "      <td>LA Clippers</td>\n",
              "      <td>105.6</td>\n",
              "      <td>17.8</td>\n",
              "      <td>12.8</td>\n",
              "      <td>21.9</td>\n",
              "      <td>74.5</td>\n",
              "      <td>46.6</td>\n",
              "      <td>51.1</td>\n",
              "      <td>56.3</td>\n",
              "      <td>107.3</td>\n",
              "      <td>119.3</td>\n",
              "    </tr>\n",
              "    <tr>\n",
              "      <th>9</th>\n",
              "      <td>8</td>\n",
              "      <td>Portland</td>\n",
              "      <td>98.8</td>\n",
              "      <td>14.7</td>\n",
              "      <td>11.3</td>\n",
              "      <td>24.4</td>\n",
              "      <td>72.4</td>\n",
              "      <td>48.3</td>\n",
              "      <td>50.1</td>\n",
              "      <td>54.1</td>\n",
              "      <td>106.7</td>\n",
              "      <td>109.7</td>\n",
              "    </tr>\n",
              "    <tr>\n",
              "      <th>10</th>\n",
              "      <td>9</td>\n",
              "      <td>Philadelphia</td>\n",
              "      <td>101.7</td>\n",
              "      <td>17.7</td>\n",
              "      <td>14.5</td>\n",
              "      <td>27.2</td>\n",
              "      <td>79.6</td>\n",
              "      <td>54.8</td>\n",
              "      <td>51.4</td>\n",
              "      <td>55.9</td>\n",
              "      <td>106.2</td>\n",
              "      <td>104.5</td>\n",
              "    </tr>\n",
              "    <tr>\n",
              "      <th>11</th>\n",
              "      <td>10</td>\n",
              "      <td>Brooklyn</td>\n",
              "      <td>107.6</td>\n",
              "      <td>13.9</td>\n",
              "      <td>12.0</td>\n",
              "      <td>22.2</td>\n",
              "      <td>67.9</td>\n",
              "      <td>43.3</td>\n",
              "      <td>48.0</td>\n",
              "      <td>53.4</td>\n",
              "      <td>103.9</td>\n",
              "      <td>113.3</td>\n",
              "    </tr>\n",
              "    <tr>\n",
              "      <th>12</th>\n",
              "      <td>11</td>\n",
              "      <td>Oklahoma City</td>\n",
              "      <td>102.7</td>\n",
              "      <td>16.7</td>\n",
              "      <td>13.5</td>\n",
              "      <td>22.7</td>\n",
              "      <td>75.7</td>\n",
              "      <td>48.8</td>\n",
              "      <td>50.0</td>\n",
              "      <td>54.1</td>\n",
              "      <td>103.0</td>\n",
              "      <td>107.6</td>\n",
              "    </tr>\n",
              "    <tr>\n",
              "      <th>13</th>\n",
              "      <td>12</td>\n",
              "      <td>Boston</td>\n",
              "      <td>101.9</td>\n",
              "      <td>16.4</td>\n",
              "      <td>13.5</td>\n",
              "      <td>16.6</td>\n",
              "      <td>82.1</td>\n",
              "      <td>50.8</td>\n",
              "      <td>49.1</td>\n",
              "      <td>53.9</td>\n",
              "      <td>100.0</td>\n",
              "      <td>101.8</td>\n",
              "    </tr>\n",
              "    <tr>\n",
              "      <th>14</th>\n",
              "      <td>13</td>\n",
              "      <td>Utah</td>\n",
              "      <td>101.3</td>\n",
              "      <td>16.9</td>\n",
              "      <td>13.5</td>\n",
              "      <td>24.9</td>\n",
              "      <td>80.5</td>\n",
              "      <td>51.6</td>\n",
              "      <td>45.5</td>\n",
              "      <td>50.1</td>\n",
              "      <td>96.8</td>\n",
              "      <td>105.4</td>\n",
              "    </tr>\n",
              "    <tr>\n",
              "      <th>15</th>\n",
              "      <td>14</td>\n",
              "      <td>Indiana</td>\n",
              "      <td>97.3</td>\n",
              "      <td>16.6</td>\n",
              "      <td>11.5</td>\n",
              "      <td>16.6</td>\n",
              "      <td>81.1</td>\n",
              "      <td>45.7</td>\n",
              "      <td>46.1</td>\n",
              "      <td>49.6</td>\n",
              "      <td>95.1</td>\n",
              "      <td>101.2</td>\n",
              "    </tr>\n",
              "    <tr>\n",
              "      <th>16</th>\n",
              "      <td>15</td>\n",
              "      <td>Detroit</td>\n",
              "      <td>103.5</td>\n",
              "      <td>16.7</td>\n",
              "      <td>9.2</td>\n",
              "      <td>19.8</td>\n",
              "      <td>76.4</td>\n",
              "      <td>44.2</td>\n",
              "      <td>44.4</td>\n",
              "      <td>47.1</td>\n",
              "      <td>94.4</td>\n",
              "      <td>117.8</td>\n",
              "    </tr>\n",
              "    <tr>\n",
              "      <th>17</th>\n",
              "      <td>16</td>\n",
              "      <td>Orlando</td>\n",
              "      <td>97.7</td>\n",
              "      <td>14.9</td>\n",
              "      <td>14.4</td>\n",
              "      <td>20.3</td>\n",
              "      <td>82.8</td>\n",
              "      <td>49.3</td>\n",
              "      <td>45.1</td>\n",
              "      <td>49.6</td>\n",
              "      <td>93.1</td>\n",
              "      <td>110.1</td>\n",
              "    </tr>\n",
              "  </tbody>\n",
              "</table>\n",
              "</div>"
            ],
            "text/plain": [
              "                                                0   \\\n",
              "0   Hollinger Playoff Stats - Offensive Efficiency   \n",
              "1                                               RK   \n",
              "2                                                1   \n",
              "3                                                2   \n",
              "4                                                3   \n",
              "5                                                4   \n",
              "6                                                5   \n",
              "7                                                6   \n",
              "8                                                7   \n",
              "9                                                8   \n",
              "10                                               9   \n",
              "11                                              10   \n",
              "12                                              11   \n",
              "13                                              12   \n",
              "14                                              13   \n",
              "15                                              14   \n",
              "16                                              15   \n",
              "17                                              16   \n",
              "\n",
              "                                                1   \\\n",
              "0   Hollinger Playoff Stats - Offensive Efficiency   \n",
              "1                                             TEAM   \n",
              "2                                     Golden State   \n",
              "3                                           Denver   \n",
              "4                                      San Antonio   \n",
              "5                                        Milwaukee   \n",
              "6                                          Toronto   \n",
              "7                                          Houston   \n",
              "8                                      LA Clippers   \n",
              "9                                         Portland   \n",
              "10                                    Philadelphia   \n",
              "11                                        Brooklyn   \n",
              "12                                   Oklahoma City   \n",
              "13                                          Boston   \n",
              "14                                            Utah   \n",
              "15                                         Indiana   \n",
              "16                                         Detroit   \n",
              "17                                         Orlando   \n",
              "\n",
              "                                                2   \\\n",
              "0   Hollinger Playoff Stats - Offensive Efficiency   \n",
              "1                                             PACE   \n",
              "2                                            100.9   \n",
              "3                                             95.1   \n",
              "4                                             93.9   \n",
              "5                                            102.2   \n",
              "6                                             98.4   \n",
              "7                                             99.8   \n",
              "8                                            105.6   \n",
              "9                                             98.8   \n",
              "10                                           101.7   \n",
              "11                                           107.6   \n",
              "12                                           102.7   \n",
              "13                                           101.9   \n",
              "14                                           101.3   \n",
              "15                                            97.3   \n",
              "16                                           103.5   \n",
              "17                                            97.7   \n",
              "\n",
              "                                                3   \\\n",
              "0   Hollinger Playoff Stats - Offensive Efficiency   \n",
              "1                                              AST   \n",
              "2                                             20.3   \n",
              "3                                             17.8   \n",
              "4                                             16.9   \n",
              "5                                             18.0   \n",
              "6                                             17.4   \n",
              "7                                             14.2   \n",
              "8                                             17.8   \n",
              "9                                             14.7   \n",
              "10                                            17.7   \n",
              "11                                            13.9   \n",
              "12                                            16.7   \n",
              "13                                            16.4   \n",
              "14                                            16.9   \n",
              "15                                            16.6   \n",
              "16                                            16.7   \n",
              "17                                            14.9   \n",
              "\n",
              "                                                4   \\\n",
              "0   Hollinger Playoff Stats - Offensive Efficiency   \n",
              "1                                               TO   \n",
              "2                                             13.3   \n",
              "3                                              8.8   \n",
              "4                                              8.1   \n",
              "5                                             11.4   \n",
              "6                                             11.3   \n",
              "7                                             14.3   \n",
              "8                                             12.8   \n",
              "9                                             11.3   \n",
              "10                                            14.5   \n",
              "11                                            12.0   \n",
              "12                                            13.5   \n",
              "13                                            13.5   \n",
              "14                                            13.5   \n",
              "15                                            11.5   \n",
              "16                                             9.2   \n",
              "17                                            14.4   \n",
              "\n",
              "                                                5   \\\n",
              "0   Hollinger Playoff Stats - Offensive Efficiency   \n",
              "1                                              ORR   \n",
              "2                                             24.8   \n",
              "3                                             27.4   \n",
              "4                                             24.2   \n",
              "5                                             21.7   \n",
              "6                                             18.9   \n",
              "7                                             23.1   \n",
              "8                                             21.9   \n",
              "9                                             24.4   \n",
              "10                                            27.2   \n",
              "11                                            22.2   \n",
              "12                                            22.7   \n",
              "13                                            16.6   \n",
              "14                                            24.9   \n",
              "15                                            16.6   \n",
              "16                                            19.8   \n",
              "17                                            20.3   \n",
              "\n",
              "                                                6   \\\n",
              "0   Hollinger Playoff Stats - Offensive Efficiency   \n",
              "1                                              DRR   \n",
              "2                                             76.6   \n",
              "3                                             74.8   \n",
              "4                                             76.8   \n",
              "5                                             83.0   \n",
              "6                                             77.7   \n",
              "7                                             75.0   \n",
              "8                                             74.5   \n",
              "9                                             72.4   \n",
              "10                                            79.6   \n",
              "11                                            67.9   \n",
              "12                                            75.7   \n",
              "13                                            82.1   \n",
              "14                                            80.5   \n",
              "15                                            81.1   \n",
              "16                                            76.4   \n",
              "17                                            82.8   \n",
              "\n",
              "                                                7   \\\n",
              "0   Hollinger Playoff Stats - Offensive Efficiency   \n",
              "1                                             REBR   \n",
              "2                                             51.4   \n",
              "3                                             50.7   \n",
              "4                                             50.6   \n",
              "5                                             53.5   \n",
              "6                                             48.3   \n",
              "7                                             49.9   \n",
              "8                                             46.6   \n",
              "9                                             48.3   \n",
              "10                                            54.8   \n",
              "11                                            43.3   \n",
              "12                                            48.8   \n",
              "13                                            50.8   \n",
              "14                                            51.6   \n",
              "15                                            45.7   \n",
              "16                                            44.2   \n",
              "17                                            49.3   \n",
              "\n",
              "                                                8   \\\n",
              "0   Hollinger Playoff Stats - Offensive Efficiency   \n",
              "1                                          EFF FG%   \n",
              "2                                             54.8   \n",
              "3                                             49.6   \n",
              "4                                             50.3   \n",
              "5                                             52.3   \n",
              "6                                             51.5   \n",
              "7                                             53.7   \n",
              "8                                             51.1   \n",
              "9                                             50.1   \n",
              "10                                            51.4   \n",
              "11                                            48.0   \n",
              "12                                            50.0   \n",
              "13                                            49.1   \n",
              "14                                            45.5   \n",
              "15                                            46.1   \n",
              "16                                            44.4   \n",
              "17                                            45.1   \n",
              "\n",
              "                                                9   \\\n",
              "0   Hollinger Playoff Stats - Offensive Efficiency   \n",
              "1                                              TS%   \n",
              "2                                             58.9   \n",
              "3                                             53.9   \n",
              "4                                             54.2   \n",
              "5                                             56.0   \n",
              "6                                             56.1   \n",
              "7                                             57.4   \n",
              "8                                             56.3   \n",
              "9                                             54.1   \n",
              "10                                            55.9   \n",
              "11                                            53.4   \n",
              "12                                            54.1   \n",
              "13                                            53.9   \n",
              "14                                            50.1   \n",
              "15                                            49.6   \n",
              "16                                            47.1   \n",
              "17                                            49.6   \n",
              "\n",
              "                                                10  \\\n",
              "0   Hollinger Playoff Stats - Offensive Efficiency   \n",
              "1                                          OFF EFF   \n",
              "2                                            112.3   \n",
              "3                                            111.3   \n",
              "4                                            111.1   \n",
              "5                                            109.0   \n",
              "6                                            107.9   \n",
              "7                                            107.8   \n",
              "8                                            107.3   \n",
              "9                                            106.7   \n",
              "10                                           106.2   \n",
              "11                                           103.9   \n",
              "12                                           103.0   \n",
              "13                                           100.0   \n",
              "14                                            96.8   \n",
              "15                                            95.1   \n",
              "16                                            94.4   \n",
              "17                                            93.1   \n",
              "\n",
              "                                                11  \n",
              "0   Hollinger Playoff Stats - Offensive Efficiency  \n",
              "1                                          DEF EFF  \n",
              "2                                            108.6  \n",
              "3                                            109.5  \n",
              "4                                            110.8  \n",
              "5                                            100.2  \n",
              "6                                            101.4  \n",
              "7                                            104.4  \n",
              "8                                            119.3  \n",
              "9                                            109.7  \n",
              "10                                           104.5  \n",
              "11                                           113.3  \n",
              "12                                           107.6  \n",
              "13                                           101.8  \n",
              "14                                           105.4  \n",
              "15                                           101.2  \n",
              "16                                           117.8  \n",
              "17                                           110.1  "
            ]
          },
          "execution_count": 32,
          "metadata": {},
          "output_type": "execute_result"
        }
      ],
      "source": [
        "df_postseason_temp"
      ]
    },
    {
      "cell_type": "code",
      "execution_count": 33,
      "metadata": {
        "id": "oaxX1erg9JwL"
      },
      "outputs": [],
      "source": [
        "Off_Eff = []\n",
        "Def_Eff = []\n",
        "\n",
        "y = []\n",
        "\n",
        "iter = 0\n",
        "for year in range(2009, 2020):\n",
        "    url = 'http://www.espn.com/nba/hollinger/teamstats/_/year/' + str(year)\n",
        "    df_regular_season = pd.read_html(url)[0]\n",
        "    Off_Eff.append(df_regular_season.loc[2:, 10].values)\n",
        "    Def_Eff.append(df_regular_season.loc[2:, 11].values)\n",
        "    \n",
        "    N = len(df_regular_season.loc[2:, 1].values)\n",
        "    \n",
        "    y.append(-np.ones(N))\n",
        "    url += '/seasontype/3'\n",
        "    df_playoffs = pd.read_html(url)[0]\n",
        "    \n",
        "    playoff_teams = df_playoffs.loc[2:,1].values\n",
        "    all_teams = df_regular_season.loc[2:,1].values\n",
        "    for i in range(16):\n",
        "        for j in range(N):\n",
        "            if playoff_teams[i] == all_teams[j]:\n",
        "                y[iter][j] = 1\n",
        "    iter += 1"
      ]
    },
    {
      "cell_type": "code",
      "execution_count": 34,
      "metadata": {
        "id": "6w07ufFd9JwM"
      },
      "outputs": [],
      "source": [
        "Off_Eff_All = np.concatenate(Off_Eff).astype('float')\n",
        "Def_Eff_All = np.concatenate(Def_Eff).astype('float')\n",
        "\n",
        "bball_features = np.vstack((Off_Eff_All.flatten(), Def_Eff_All.flatten())).T\n",
        "\n",
        "playoffs_All = np.concatenate(y)"
      ]
    },
    {
      "cell_type": "code",
      "execution_count": 35,
      "metadata": {
        "id": "sR9FOWfK9JwM"
      },
      "outputs": [],
      "source": [
        "idx_playoffs = np.where(playoffs_All==1)[0]\n",
        "idx_no_playoffs = np.where(playoffs_All==-1)[0]"
      ]
    },
    {
      "cell_type": "code",
      "execution_count": 36,
      "metadata": {
        "id": "bLdcC1Hi9JwM"
      },
      "outputs": [
        {
          "data": {
            "text/plain": [
              "Text(0.5, 1.0, 'Playoff Teams (red) and Non-Playoff Teams (blue)')"
            ]
          },
          "execution_count": 36,
          "metadata": {},
          "output_type": "execute_result"
        },
        {
          "data": {
            "image/png": "[encoded data removed]",
            "text/plain": [
              "<Figure size 700x500 with 1 Axes>"
            ]
          },
          "metadata": {},
          "output_type": "display_data"
        }
      ],
      "source": [
        "fig = plt.figure(figsize=(7,5))\n",
        "\n",
        "plt.scatter(bball_features[idx_playoffs, 0], bball_features[idx_playoffs, 1], \n",
        "            s=20, c='r', marker='s')\n",
        "\n",
        "plt.scatter(bball_features[idx_no_playoffs,0], bball_features[idx_no_playoffs, 1], \n",
        "            s=20, c='b', marker='o')\n",
        "\n",
        "plt.xlabel('OFF EFF', fontsize=14)\n",
        "plt.ylabel('DEF EFF', fontsize=14)\n",
        "\n",
        "plt.title('Playoff Teams (red) and Non-Playoff Teams (blue)', fontsize=14)"
      ]
    },
    {
      "cell_type": "markdown",
      "metadata": {
        "id": "zOfwhlJV9JwM"
      },
      "source": [
        "### Okay, now what?\n",
        "\n",
        "The dataset above sure *looks* like it is reasonably separated into two distinct classes although there is a *bit* of overlap. \n",
        "\n",
        "In other words, this dataset is ***not*** linearly separable, which will mean bad things for the convergence of the training algorithm for the perceptron. We can still *try* to train a perceptron on this data. It just may not work. (Okay, it is *guaranteed* to not work.)\n",
        "\n",
        "However, we still need to address one key point: how do we *train* the perceptron?! In other words, how do we learn the weights and bias required to define the line that separates the *feature space* of offensive and defensive efficiency into playoff vs non-playoff teams?"
      ]
    },
    {
      "cell_type": "markdown",
      "metadata": {
        "id": "Pqcf5spH9JwM"
      },
      "source": [
        "### Let's try to train a perceptron on the basketball data that are *almost* linearly separable (meaning, not linearly separable)\n",
        "\n",
        "- Well, convergence is *not* going to happen as there will always be miss-classification (which is just not acceptable for the perceptron).\n",
        "\n",
        "- Below, we explore how the \"line\" we learn jumps around as we use more and more iterations in the learning."
      ]
    },
    {
      "cell_type": "code",
      "execution_count": 37,
      "metadata": {
        "id": "6F_fz64zOG78"
      },
      "outputs": [],
      "source": [
        "# Step 1: Import\n",
        "from sklearn.linear_model import Perceptron\n",
        "\n",
        "# The \"dirty secret\" of needing to scale inputs\n",
        "from sklearn.preprocessing import StandardScaler\n",
        "\n",
        "# We can use a pipeline to setup an order of operations of objects\n",
        "from sklearn.pipeline import make_pipeline"
      ]
    },
    {
      "cell_type": "code",
      "execution_count": 38,
      "metadata": {
        "id": "hV3MiohsBu54"
      },
      "outputs": [],
      "source": [
        "# Step 2: Instantiate\n",
        "stupid_neuron = make_pipeline(StandardScaler(), \n",
        "                              Perceptron(max_iter=100, tol=None))"
      ]
    },
    {
      "cell_type": "code",
      "execution_count": 39,
      "metadata": {
        "id": "3KMLcTD9CQVH"
      },
      "outputs": [
        {
          "data": {
            "text/html": [
              "<style>#sk-container-id-2 {color: black;background-color: white;}#sk-container-id-2 pre{padding: 0;}#sk-container-id-2 div.sk-toggleable {background-color: white;}#sk-container-id-2 label.sk-toggleable__label {cursor: pointer;display: block;width: 100%;margin-bottom: 0;padding: 0.3em;box-sizing: border-box;text-align: center;}#sk-container-id-2 label.sk-toggleable__label-arrow:before {content: \"▸\";float: left;margin-right: 0.25em;color: #696969;}#sk-container-id-2 label.sk-toggleable__label-arrow:hover:before {color: black;}#sk-container-id-2 div.sk-estimator:hover label.sk-toggleable__label-arrow:before {color: black;}#sk-container-id-2 div.sk-toggleable__content {max-height: 0;max-width: 0;overflow: hidden;text-align: left;background-color: #f0f8ff;}#sk-container-id-2 div.sk-toggleable__content pre {margin: 0.2em;color: black;border-radius: 0.25em;background-color: #f0f8ff;}#sk-container-id-2 input.sk-toggleable__control:checked~div.sk-toggleable__content {max-height: 200px;max-width: 100%;overflow: auto;}#sk-container-id-2 input.sk-toggleable__control:checked~label.sk-toggleable__label-arrow:before {content: \"▾\";}#sk-container-id-2 div.sk-estimator input.sk-toggleable__control:checked~label.sk-toggleable__label {background-color: #d4ebff;}#sk-container-id-2 div.sk-label input.sk-toggleable__control:checked~label.sk-toggleable__label {background-color: #d4ebff;}#sk-container-id-2 input.sk-hidden--visually {border: 0;clip: rect(1px 1px 1px 1px);clip: rect(1px, 1px, 1px, 1px);height: 1px;margin: -1px;overflow: hidden;padding: 0;position: absolute;width: 1px;}#sk-container-id-2 div.sk-estimator {font-family: monospace;background-color: #f0f8ff;border: 1px dotted black;border-radius: 0.25em;box-sizing: border-box;margin-bottom: 0.5em;}#sk-container-id-2 div.sk-estimator:hover {background-color: #d4ebff;}#sk-container-id-2 div.sk-parallel-item::after {content: \"\";width: 100%;border-bottom: 1px solid gray;flex-grow: 1;}#sk-container-id-2 div.sk-label:hover label.sk-toggleable__label {background-color: #d4ebff;}#sk-container-id-2 div.sk-serial::before {content: \"\";position: absolute;border-left: 1px solid gray;box-sizing: border-box;top: 0;bottom: 0;left: 50%;z-index: 0;}#sk-container-id-2 div.sk-serial {display: flex;flex-direction: column;align-items: center;background-color: white;padding-right: 0.2em;padding-left: 0.2em;position: relative;}#sk-container-id-2 div.sk-item {position: relative;z-index: 1;}#sk-container-id-2 div.sk-parallel {display: flex;align-items: stretch;justify-content: center;background-color: white;position: relative;}#sk-container-id-2 div.sk-item::before, #sk-container-id-2 div.sk-parallel-item::before {content: \"\";position: absolute;border-left: 1px solid gray;box-sizing: border-box;top: 0;bottom: 0;left: 50%;z-index: -1;}#sk-container-id-2 div.sk-parallel-item {display: flex;flex-direction: column;z-index: 1;position: relative;background-color: white;}#sk-container-id-2 div.sk-parallel-item:first-child::after {align-self: flex-end;width: 50%;}#sk-container-id-2 div.sk-parallel-item:last-child::after {align-self: flex-start;width: 50%;}#sk-container-id-2 div.sk-parallel-item:only-child::after {width: 0;}#sk-container-id-2 div.sk-dashed-wrapped {border: 1px dashed gray;margin: 0 0.4em 0.5em 0.4em;box-sizing: border-box;padding-bottom: 0.4em;background-color: white;}#sk-container-id-2 div.sk-label label {font-family: monospace;font-weight: bold;display: inline-block;line-height: 1.2em;}#sk-container-id-2 div.sk-label-container {text-align: center;}#sk-container-id-2 div.sk-container {/* jupyter's `normalize.less` sets `[hidden] { display: none; }` but bootstrap.min.css set `[hidden] { display: none !important; }` so we also need the `!important` here to be able to override the default hidden behavior on the sphinx rendered scikit-learn.org. See: https://github.com/scikit-learn/scikit-learn/issues/21755 */display: inline-block !important;position: relative;}#sk-container-id-2 div.sk-text-repr-fallback {display: none;}</style><div id=\"sk-container-id-2\" class=\"sk-top-container\"><div class=\"sk-text-repr-fallback\"><pre>Pipeline(steps=[(&#x27;standardscaler&#x27;, StandardScaler()),\n",
              "                (&#x27;perceptron&#x27;, Perceptron(max_iter=100, tol=None))])</pre><b>In a Jupyter environment, please rerun this cell to show the HTML representation or trust the notebook. <br />On GitHub, the HTML representation is unable to render, please try loading this page with nbviewer.org.</b></div><div class=\"sk-container\" hidden><div class=\"sk-item sk-dashed-wrapped\"><div class=\"sk-label-container\"><div class=\"sk-label sk-toggleable\"><input class=\"sk-toggleable__control sk-hidden--visually\" id=\"sk-estimator-id-2\" type=\"checkbox\" ><label for=\"sk-estimator-id-2\" class=\"sk-toggleable__label sk-toggleable__label-arrow\">Pipeline</label><div class=\"sk-toggleable__content\"><pre>Pipeline(steps=[(&#x27;standardscaler&#x27;, StandardScaler()),\n",
              "                (&#x27;perceptron&#x27;, Perceptron(max_iter=100, tol=None))])</pre></div></div></div><div class=\"sk-serial\"><div class=\"sk-item\"><div class=\"sk-estimator sk-toggleable\"><input class=\"sk-toggleable__control sk-hidden--visually\" id=\"sk-estimator-id-3\" type=\"checkbox\" ><label for=\"sk-estimator-id-3\" class=\"sk-toggleable__label sk-toggleable__label-arrow\">StandardScaler</label><div class=\"sk-toggleable__content\"><pre>StandardScaler()</pre></div></div></div><div class=\"sk-item\"><div class=\"sk-estimator sk-toggleable\"><input class=\"sk-toggleable__control sk-hidden--visually\" id=\"sk-estimator-id-4\" type=\"checkbox\" ><label for=\"sk-estimator-id-4\" class=\"sk-toggleable__label sk-toggleable__label-arrow\">Perceptron</label><div class=\"sk-toggleable__content\"><pre>Perceptron(max_iter=100, tol=None)</pre></div></div></div></div></div></div></div>"
            ],
            "text/plain": [
              "Pipeline(steps=[('standardscaler', StandardScaler()),\n",
              "                ('perceptron', Perceptron(max_iter=100, tol=None))])"
            ]
          },
          "execution_count": 39,
          "metadata": {},
          "output_type": "execute_result"
        }
      ],
      "source": [
        "# Step 3: Fit\n",
        "x = bball_features\n",
        "y = playoffs_All\n",
        "\n",
        "stupid_neuron.fit(x, y)"
      ]
    },
    {
      "cell_type": "code",
      "execution_count": 40,
      "metadata": {
        "id": "HxbdHLMwCUIJ"
      },
      "outputs": [
        {
          "data": {
            "text/plain": [
              "Text(0.5, 1.0, 'Perceptron')"
            ]
          },
          "execution_count": 40,
          "metadata": {},
          "output_type": "execute_result"
        },
        {
          "data": {
            "image/png": "[encoded data removed]",
            "text/plain": [
              "<Figure size 640x480 with 1 Axes>"
            ]
          },
          "metadata": {},
          "output_type": "display_data"
        }
      ],
      "source": [
        "# Visualize performance\n",
        "\n",
        "from matplotlib.colors import ListedColormap\n",
        " \n",
        "x1_plot = np.linspace(np.min(x[:,0])-0.1*(np.max(x[:,0])-np.min(x[:,0])), \n",
        "                        np.max(x[:,0])+0.1*(np.max(x[:,0])-np.min(x[:,0])), \n",
        "                        51)\n",
        "x2_plot = np.linspace(np.min(x[:,1])-0.1*(np.max(x[:,1])-np.min(x[:,1])), \n",
        "                        np.max(x[:,1])+0.1*(np.max(x[:,1])-np.min(x[:,1])), \n",
        "                        51)\n",
        "x1_plot, x2_plot = np.meshgrid(x1_plot, x2_plot)\n",
        "\n",
        "x_plot = np.vstack((x1_plot.flatten(), x2_plot.flatten())).T\n",
        "\n",
        "y_plot = stupid_neuron.predict(x_plot)\n",
        "y_plot = y_plot.reshape(x1_plot.shape)\n",
        "plt.plot(figsize=(12,5))\n",
        "\n",
        "colors = ('red', 'blue', 'lightgreen', 'gray', 'cyan')\n",
        "cmap = ListedColormap(colors[:len(np.unique(y))])\n",
        "plt.contourf(x1_plot, x2_plot, y_plot, alpha=0.2, cmap=cmap)\n",
        "\n",
        "idx_1 = np.where(y==1)[0]\n",
        "idx_0 = np.where(y==-1)[0]\n",
        "\n",
        "plt.scatter(x[idx_1,0], x[idx_1,1], s=50, c='r', marker='x')\n",
        "plt.scatter(x[idx_0,0], x[idx_0,1], s=50, c='b', marker='o')\n",
        "plt.title('Perceptron', fontsize=14)"
      ]
    },
    {
      "cell_type": "code",
      "execution_count": 41,
      "metadata": {
        "id": "rEODNlhiD8ZA"
      },
      "outputs": [
        {
          "data": {
            "image/png": "[encoded data removed]",
            "text/plain": [
              "<Figure size 640x480 with 1 Axes>"
            ]
          },
          "metadata": {},
          "output_type": "display_data"
        },
        {
          "data": {
            "image/png": "[encoded data removed]",
            "text/plain": [
              "<Figure size 640x480 with 1 Axes>"
            ]
          },
          "metadata": {},
          "output_type": "display_data"
        },
        {
          "data": {
            "image/png": "[encoded data removed]",
            "text/plain": [
              "<Figure size 640x480 with 1 Axes>"
            ]
          },
          "metadata": {},
          "output_type": "display_data"
        }
      ],
      "source": [
        "# Maybe the optimization procedure for fitting needing more iterations?\n",
        "# Let's loop through different max iteration numbers\n",
        "\n",
        "max_iters = [500, 1000, 100000]\n",
        "\n",
        "neuron_list = []\n",
        "\n",
        "for max_iter in max_iters:\n",
        "    neuron_list.append(make_pipeline(StandardScaler(), \n",
        "                                     Perceptron(max_iter=max_iter, tol=None)))\n",
        "\n",
        "for (neuron, max_iter) in zip(neuron_list, max_iters):\n",
        "    neuron.fit(x, y)\n",
        "    y_plot = neuron.predict(x_plot)\n",
        "    y_plot = y_plot.reshape(x1_plot.shape)\n",
        "    plt.figure()\n",
        "    plt.plot(figsize=(12,5))\n",
        "\n",
        "    colors = ('red', 'blue', 'lightgreen', 'gray', 'cyan')\n",
        "    cmap = ListedColormap(colors[:len(np.unique(y))])\n",
        "    plt.contourf(x1_plot, x2_plot, y_plot , alpha=0.2, cmap=cmap)\n",
        "\n",
        "    idx_1 = np.where(y==1)[0]\n",
        "    idx_0 = np.where(y==-1)[0]\n",
        "\n",
        "    plt.scatter(x[idx_1,0], x[idx_1,1], s=50, c='r', marker='x')\n",
        "    plt.scatter(x[idx_0,0], x[idx_0,1], s=50, c='b', marker='o')\n",
        "    plt.title('Perceptron with max_iter={}'.format(max_iter), fontsize=14)"
      ]
    },
    {
      "cell_type": "markdown",
      "metadata": {
        "id": "EwyrR-wz9JwM"
      },
      "source": [
        "### Some closing remarks on the perceptron and foreshadowing\n",
        "---\n",
        "\n",
        "Linear separability is a ***strict requirement*** for the perceptron. \n",
        "\n",
        "The algorithms for learning the weights and bias in a perceptron will not work unless data are linearly separable. \n",
        "\n",
        "This is more than just mildly annoying, it is essentially impractical in many cases where we observe an ***almost*** linear separability.\n",
        "\n",
        "<br>\n",
        "\n",
        "<img src=\"https://github.com/CU-Denver-MathStats-OER/Programming-for-Data-Science/blob/main/Lectures-and-Assignments/06-Machine-Learning/lectures/almost_linearly_separable_example.png?raw=1\" title='Almost separable' width=40%>\n",
        "\n",
        "<br>\n",
        "\n",
        "There is something called a ***kernel trick*** that is very common in machine learning. \n",
        "\n",
        "The basic premise is this: Maybe there is a function (called the kernel) that can transform the data in such a way that this transformed data are linearly separable. Then, we simply carry out our usual analysis except on this transformed data. \n",
        "\n",
        "When can we do this? Well, if it looks like there is a way to separate the data in some nonlinear way, then there is hope that we can figure out some kernel that allows us to linearly separate the transformed data. \n",
        "\n",
        "<br>\n",
        "\n",
        "<img src=\"https://github.com/CU-Denver-MathStats-OER/Programming-for-Data-Science/blob/main/Lectures-and-Assignments/06-Machine-Learning/lectures/not_linearly_separable_example.png?raw=1\" title='Nonlinearly separable illustration (what is the kernel trick?)' width=40%>"
      ]
    },
    {
      "cell_type": "markdown",
      "metadata": {
        "id": "Bi9bfIA89JwM"
      },
      "source": [
        "## [ADALINE = ADAptive LInear NEuron](https://en.wikipedia.org/wiki/ADALINE) <a name='adaline'>\n",
        "---"
      ]
    },
    {
      "cell_type": "markdown",
      "metadata": {
        "id": "rnGvoPrZ9JwN"
      },
      "source": [
        "<mark> ***Key points:*** <mark>\n",
        "\n",
        "\n",
        "- When data are only *almost* linearly separable instead of absolutely linearly separable, we are going to have to live with some misclassifications (i.e., *predictions* given by $f(\\mathbf{w}^\\text{opt}\\cdot\\mathbf{x}^{(i)}+b^\\text{opt})$  that do not equal the reality of $y^{(i)}$ for some subset of $1\\leq i\\leq N$). \n",
        "\n",
        "- This means that what is *optimal* will in general mean that we minimize the misclassification percent rather than simply make it zero. This idea is explored more in our next neuron model ADALINE, so just be patient for now.\n",
        "\n",
        "- ADALINE is an alternative neuron model developed a few years after the perceptron was introduced. \n",
        "\n",
        "- Unlike the perceptron that learns the weights and bias based on the misclassification error being -2, 0, or 2 due to the use of a step-activation function acting on the *net input function* defined by $\\mathbf{w}\\cdot\\mathbf{x} + b$, the activation function in ADALINE is the identity function, which means we simply use the errors defined by $y^{(i)} - \\left(\\mathbf{w}\\cdot\\mathbf{x}^{(i)} + b\\right)$ to learn the weights and bias. \n",
        "\n",
        "- Once the weights and bias are learned, we still compute $f\\left(\\mathbf{w}\\cdot\\mathbf{x}+b\\right)$ to classify any particular feature vector $\\mathbf{x}$. The function $f$ from before is now considered a ***quantizer*** (as opposed to the activation function, which is now the identity function) that maps the net value into the class. \n",
        "\n",
        "We summarize this in the figure below. \n",
        "\n",
        "<img src=\"https://github.com/CU-Denver-MathStats-OER/Programming-for-Data-Science/blob/main/Lectures-and-Assignments/06-Machine-Learning/lectures/perceptron_vs_ADALINE.png?raw=1\" width=50%>\n",
        "\n",
        "<mark> ***Summary of main difference:*** </mark>\n",
        "\n",
        "> While $y$ is just -1's and 1's, the output of $\\left(\\mathbf{w}\\cdot\\mathbf{x} + b\\right)$ is *continuous*, so the *error* defined by $y^{(i)} - \\left(\\mathbf{w}\\cdot\\mathbf{x}^{(i)} + b\\right)$ does not just take on discrete values but instead provides a number corresponding to *how much* we are right/wrong."
      ]
    },
    {
      "cell_type": "markdown",
      "metadata": {
        "id": "6pXEikS09JwN"
      },
      "source": [
        "### How does this change the way in which we learn the weights?\n",
        "\n",
        "We first write the **sum of square errors (SSE)** from the $N$ training data as the *cost function* (sometimes called an *objective* function)\n",
        "$$\n",
        " \\large   J(\\mathbf{w},b) = \\frac{1}{2}\\sum_{i=1}^N \\left[y^{(i)}-\\left(\\mathbf{w}\\cdot\\mathbf{x}^{(i)}+b\\right)\\right]^2. \n",
        "$$\n",
        "\n",
        "Observe that $J(\\mathbf{w},b)$ is a *quadratic* function over the space of weights and bias. The *objective* is to learn the weights and bias that *minimize* the *cost* function. This is conceptualized in the picture below.\n",
        "\n",
        "<img src=\"https://github.com/CU-Denver-MathStats-OER/Programming-for-Data-Science/blob/main/Lectures-and-Assignments/06-Machine-Learning/lectures/cost-functional.png?raw=1\" title=\"The cost function is like a big bowl\" width=50%>\n",
        "\n",
        "### There is a unique minimum?\n",
        "\n",
        "***Correct!*** Since the cost function is a quadratic function, it has a unique global minimum even if the data are not linearly separable! (This is the part where you say \"ooohhh\".)\n",
        "\n",
        "This means that you can always train an ADALINE...at least theoretically..."
      ]
    },
    {
      "cell_type": "markdown",
      "metadata": {
        "id": "ji7MxKB59JwN"
      },
      "source": [
        "### Approximating the minimum with [gradient descent](https://en.wikipedia.org/wiki/Gradient_descent)\n",
        "\n",
        "First, a quick review of some useful facts from calculus and how we use them (you only need to understand how to apply these, so if you are not familiar with calculus, don't worry). \n",
        "\n",
        "- The [gradient](https://en.wikipedia.org/wiki/Gradient) of a scalar valued multivariate function evaluated at some input is a *vector* of derivatives (partial derivatives to be exact) that points in the direction of greatest increase of function values. This means that the *negative* of the gradient at some input will point in the direction of greatest *decrease* of function values.  \n",
        "\n",
        "   - Why is this important to us? We want to minimize a function, so we will be using the *negative gradient*.\n",
        "\n",
        "   - What do we need to be aware of? The *length* of the gradient vector (also called its magnitude) can complicate the decision making process in terms of how far we should step in the direction of the negative gradient.\n",
        "\n",
        "       - If the length of the gradient vector is too large, then we may step *too far* so that we end up *increasing* the value of the function instead of *decreasing* the value! This is just plain counterproductive. \n",
        "\n",
        "       - If the length of the gradient is too small or we just choose to make too small of steps, then it may take *way too long* to have this method converge. \n",
        "\n",
        "The image below may prove useful to refer as it summarizes why we move in the direction of the negative gradient.\n",
        "\n",
        "<img src=\"https://github.com/CU-Denver-MathStats-OER/Programming-for-Data-Science/blob/main/Lectures-and-Assignments/06-Machine-Learning/lectures/cost-functional-gradient.png?raw=1\" title=\"The negative direction of gradient is what we want!\" width=\"50%\" />"
      ]
    },
    {
      "cell_type": "code",
      "execution_count": 42,
      "metadata": {
        "id": "90sxhpHeEtdy"
      },
      "outputs": [],
      "source": [
        "# Step 1: Import the \"stochastic gradient descent\" (SGD) classifiers\n",
        "\n",
        "from sklearn.linear_model import SGDClassifier as SGD"
      ]
    },
    {
      "cell_type": "code",
      "execution_count": 43,
      "metadata": {
        "id": "-_UbwugrEOct"
      },
      "outputs": [],
      "source": [
        "# Step 2: Instantiate\n",
        "less_stupid_neuron = make_pipeline(StandardScaler(), \n",
        "                                   SGD(loss = 'squared_error', \n",
        "                                       penalty=None, tol=None, max_iter=10000))"
      ]
    },
    {
      "cell_type": "code",
      "execution_count": 44,
      "metadata": {
        "id": "NN-s18SlEiTL"
      },
      "outputs": [
        {
          "data": {
            "text/html": [
              "<style>#sk-container-id-3 {color: black;background-color: white;}#sk-container-id-3 pre{padding: 0;}#sk-container-id-3 div.sk-toggleable {background-color: white;}#sk-container-id-3 label.sk-toggleable__label {cursor: pointer;display: block;width: 100%;margin-bottom: 0;padding: 0.3em;box-sizing: border-box;text-align: center;}#sk-container-id-3 label.sk-toggleable__label-arrow:before {content: \"▸\";float: left;margin-right: 0.25em;color: #696969;}#sk-container-id-3 label.sk-toggleable__label-arrow:hover:before {color: black;}#sk-container-id-3 div.sk-estimator:hover label.sk-toggleable__label-arrow:before {color: black;}#sk-container-id-3 div.sk-toggleable__content {max-height: 0;max-width: 0;overflow: hidden;text-align: left;background-color: #f0f8ff;}#sk-container-id-3 div.sk-toggleable__content pre {margin: 0.2em;color: black;border-radius: 0.25em;background-color: #f0f8ff;}#sk-container-id-3 input.sk-toggleable__control:checked~div.sk-toggleable__content {max-height: 200px;max-width: 100%;overflow: auto;}#sk-container-id-3 input.sk-toggleable__control:checked~label.sk-toggleable__label-arrow:before {content: \"▾\";}#sk-container-id-3 div.sk-estimator input.sk-toggleable__control:checked~label.sk-toggleable__label {background-color: #d4ebff;}#sk-container-id-3 div.sk-label input.sk-toggleable__control:checked~label.sk-toggleable__label {background-color: #d4ebff;}#sk-container-id-3 input.sk-hidden--visually {border: 0;clip: rect(1px 1px 1px 1px);clip: rect(1px, 1px, 1px, 1px);height: 1px;margin: -1px;overflow: hidden;padding: 0;position: absolute;width: 1px;}#sk-container-id-3 div.sk-estimator {font-family: monospace;background-color: #f0f8ff;border: 1px dotted black;border-radius: 0.25em;box-sizing: border-box;margin-bottom: 0.5em;}#sk-container-id-3 div.sk-estimator:hover {background-color: #d4ebff;}#sk-container-id-3 div.sk-parallel-item::after {content: \"\";width: 100%;border-bottom: 1px solid gray;flex-grow: 1;}#sk-container-id-3 div.sk-label:hover label.sk-toggleable__label {background-color: #d4ebff;}#sk-container-id-3 div.sk-serial::before {content: \"\";position: absolute;border-left: 1px solid gray;box-sizing: border-box;top: 0;bottom: 0;left: 50%;z-index: 0;}#sk-container-id-3 div.sk-serial {display: flex;flex-direction: column;align-items: center;background-color: white;padding-right: 0.2em;padding-left: 0.2em;position: relative;}#sk-container-id-3 div.sk-item {position: relative;z-index: 1;}#sk-container-id-3 div.sk-parallel {display: flex;align-items: stretch;justify-content: center;background-color: white;position: relative;}#sk-container-id-3 div.sk-item::before, #sk-container-id-3 div.sk-parallel-item::before {content: \"\";position: absolute;border-left: 1px solid gray;box-sizing: border-box;top: 0;bottom: 0;left: 50%;z-index: -1;}#sk-container-id-3 div.sk-parallel-item {display: flex;flex-direction: column;z-index: 1;position: relative;background-color: white;}#sk-container-id-3 div.sk-parallel-item:first-child::after {align-self: flex-end;width: 50%;}#sk-container-id-3 div.sk-parallel-item:last-child::after {align-self: flex-start;width: 50%;}#sk-container-id-3 div.sk-parallel-item:only-child::after {width: 0;}#sk-container-id-3 div.sk-dashed-wrapped {border: 1px dashed gray;margin: 0 0.4em 0.5em 0.4em;box-sizing: border-box;padding-bottom: 0.4em;background-color: white;}#sk-container-id-3 div.sk-label label {font-family: monospace;font-weight: bold;display: inline-block;line-height: 1.2em;}#sk-container-id-3 div.sk-label-container {text-align: center;}#sk-container-id-3 div.sk-container {/* jupyter's `normalize.less` sets `[hidden] { display: none; }` but bootstrap.min.css set `[hidden] { display: none !important; }` so we also need the `!important` here to be able to override the default hidden behavior on the sphinx rendered scikit-learn.org. See: https://github.com/scikit-learn/scikit-learn/issues/21755 */display: inline-block !important;position: relative;}#sk-container-id-3 div.sk-text-repr-fallback {display: none;}</style><div id=\"sk-container-id-3\" class=\"sk-top-container\"><div class=\"sk-text-repr-fallback\"><pre>Pipeline(steps=[(&#x27;standardscaler&#x27;, StandardScaler()),\n",
              "                (&#x27;sgdclassifier&#x27;,\n",
              "                 SGDClassifier(loss=&#x27;squared_error&#x27;, max_iter=10000,\n",
              "                               penalty=None, tol=None))])</pre><b>In a Jupyter environment, please rerun this cell to show the HTML representation or trust the notebook. <br />On GitHub, the HTML representation is unable to render, please try loading this page with nbviewer.org.</b></div><div class=\"sk-container\" hidden><div class=\"sk-item sk-dashed-wrapped\"><div class=\"sk-label-container\"><div class=\"sk-label sk-toggleable\"><input class=\"sk-toggleable__control sk-hidden--visually\" id=\"sk-estimator-id-5\" type=\"checkbox\" ><label for=\"sk-estimator-id-5\" class=\"sk-toggleable__label sk-toggleable__label-arrow\">Pipeline</label><div class=\"sk-toggleable__content\"><pre>Pipeline(steps=[(&#x27;standardscaler&#x27;, StandardScaler()),\n",
              "                (&#x27;sgdclassifier&#x27;,\n",
              "                 SGDClassifier(loss=&#x27;squared_error&#x27;, max_iter=10000,\n",
              "                               penalty=None, tol=None))])</pre></div></div></div><div class=\"sk-serial\"><div class=\"sk-item\"><div class=\"sk-estimator sk-toggleable\"><input class=\"sk-toggleable__control sk-hidden--visually\" id=\"sk-estimator-id-6\" type=\"checkbox\" ><label for=\"sk-estimator-id-6\" class=\"sk-toggleable__label sk-toggleable__label-arrow\">StandardScaler</label><div class=\"sk-toggleable__content\"><pre>StandardScaler()</pre></div></div></div><div class=\"sk-item\"><div class=\"sk-estimator sk-toggleable\"><input class=\"sk-toggleable__control sk-hidden--visually\" id=\"sk-estimator-id-7\" type=\"checkbox\" ><label for=\"sk-estimator-id-7\" class=\"sk-toggleable__label sk-toggleable__label-arrow\">SGDClassifier</label><div class=\"sk-toggleable__content\"><pre>SGDClassifier(loss=&#x27;squared_error&#x27;, max_iter=10000, penalty=None, tol=None)</pre></div></div></div></div></div></div></div>"
            ],
            "text/plain": [
              "Pipeline(steps=[('standardscaler', StandardScaler()),\n",
              "                ('sgdclassifier',\n",
              "                 SGDClassifier(loss='squared_error', max_iter=10000,\n",
              "                               penalty=None, tol=None))])"
            ]
          },
          "execution_count": 44,
          "metadata": {},
          "output_type": "execute_result"
        }
      ],
      "source": [
        "# Step 3: Fit\n",
        "less_stupid_neuron.fit(x, y)"
      ]
    },
    {
      "cell_type": "code",
      "execution_count": 45,
      "metadata": {
        "id": "EqcgCqUgEpr2"
      },
      "outputs": [
        {
          "data": {
            "text/plain": [
              "Text(0.5, 1.0, 'ADALINE')"
            ]
          },
          "execution_count": 45,
          "metadata": {},
          "output_type": "execute_result"
        },
        {
          "data": {
            "image/png": "[encoded data removed]",
            "text/plain": [
              "<Figure size 640x480 with 1 Axes>"
            ]
          },
          "metadata": {},
          "output_type": "display_data"
        }
      ],
      "source": [
        "y_plot = less_stupid_neuron.predict(x_plot)\n",
        "y_plot = y_plot.reshape(x1_plot.shape)\n",
        "plt.plot(figsize=(12,5))\n",
        "\n",
        "colors = ('red', 'blue', 'lightgreen', 'gray', 'cyan')\n",
        "cmap = ListedColormap(colors[:len(np.unique(y))])\n",
        "plt.contourf(x1_plot, x2_plot, y_plot, alpha=0.2, cmap=cmap)\n",
        "\n",
        "idx_1 = np.where(y==1)[0]\n",
        "idx_0 = np.where(y==-1)[0]\n",
        "\n",
        "plt.scatter(x[idx_1,0], x[idx_1,1], s=50, c='r', marker='x')\n",
        "plt.scatter(x[idx_0,0], x[idx_0,1], s=50, c='b', marker='o')\n",
        "plt.title('ADALINE', fontsize=14)"
      ]
    },
    {
      "cell_type": "code",
      "execution_count": 46,
      "metadata": {
        "id": "SR7NM9RGM_NS"
      },
      "outputs": [],
      "source": [
        "df_regular_season_2023 = pd.read_html('http://www.espn.com/nba/hollinger/teamstats/_/year/2023')[0]"
      ]
    },
    {
      "cell_type": "code",
      "execution_count": 47,
      "metadata": {
        "id": "3UmIkYbFFJI4"
      },
      "outputs": [],
      "source": [
        "playoff_predictions = less_stupid_neuron.predict(df_regular_season_2023.loc[2:, [10, 11]].values.astype(float)).astype(str)\n",
        "playoff_predictions[playoff_predictions=='-1.0'] = 'No'\n",
        "playoff_predictions[playoff_predictions=='1.0'] = 'Yes'"
      ]
    },
    {
      "cell_type": "code",
      "execution_count": 48,
      "metadata": {
        "id": "MqZKkuWcTTI8"
      },
      "outputs": [],
      "source": [
        "df_temp = df_regular_season_2023.loc[2:, [1, 10, 11]]\n",
        "df_temp.rename(columns={1: \"Team\", 10: \"Off. Eff.\", 11: \"Def. Eff.\"}, inplace=True)\n",
        "df_temp.reset_index(drop=True, inplace=True)\n",
        "df_temp['Playoffs'] = playoff_predictions"
      ]
    },
    {
      "cell_type": "code",
      "execution_count": 52,
      "metadata": {
        "id": "QqMTjhY6M2eN"
      },
      "outputs": [
        {
          "data": {
            "text/html": [
              "<style type=\"text/css\">\n",
              "#T_3047d_row0_col0, #T_3047d_row0_col1, #T_3047d_row0_col2, #T_3047d_row0_col3, #T_3047d_row1_col0, #T_3047d_row1_col1, #T_3047d_row1_col2, #T_3047d_row1_col3, #T_3047d_row2_col0, #T_3047d_row2_col1, #T_3047d_row2_col2, #T_3047d_row2_col3, #T_3047d_row4_col0, #T_3047d_row4_col1, #T_3047d_row4_col2, #T_3047d_row4_col3, #T_3047d_row6_col0, #T_3047d_row6_col1, #T_3047d_row6_col2, #T_3047d_row6_col3, #T_3047d_row8_col0, #T_3047d_row8_col1, #T_3047d_row8_col2, #T_3047d_row8_col3, #T_3047d_row9_col0, #T_3047d_row9_col1, #T_3047d_row9_col2, #T_3047d_row9_col3, #T_3047d_row12_col0, #T_3047d_row12_col1, #T_3047d_row12_col2, #T_3047d_row12_col3, #T_3047d_row14_col0, #T_3047d_row14_col1, #T_3047d_row14_col2, #T_3047d_row14_col3, #T_3047d_row15_col0, #T_3047d_row15_col1, #T_3047d_row15_col2, #T_3047d_row15_col3, #T_3047d_row17_col0, #T_3047d_row17_col1, #T_3047d_row17_col2, #T_3047d_row17_col3, #T_3047d_row18_col0, #T_3047d_row18_col1, #T_3047d_row18_col2, #T_3047d_row18_col3, #T_3047d_row19_col0, #T_3047d_row19_col1, #T_3047d_row19_col2, #T_3047d_row19_col3, #T_3047d_row22_col0, #T_3047d_row22_col1, #T_3047d_row22_col2, #T_3047d_row22_col3, #T_3047d_row26_col0, #T_3047d_row26_col1, #T_3047d_row26_col2, #T_3047d_row26_col3 {\n",
              "  background-color: blue;\n",
              "}\n",
              "#T_3047d_row3_col0, #T_3047d_row3_col1, #T_3047d_row3_col2, #T_3047d_row3_col3, #T_3047d_row5_col0, #T_3047d_row5_col1, #T_3047d_row5_col2, #T_3047d_row5_col3, #T_3047d_row7_col0, #T_3047d_row7_col1, #T_3047d_row7_col2, #T_3047d_row7_col3, #T_3047d_row10_col0, #T_3047d_row10_col1, #T_3047d_row10_col2, #T_3047d_row10_col3, #T_3047d_row11_col0, #T_3047d_row11_col1, #T_3047d_row11_col2, #T_3047d_row11_col3, #T_3047d_row13_col0, #T_3047d_row13_col1, #T_3047d_row13_col2, #T_3047d_row13_col3, #T_3047d_row16_col0, #T_3047d_row16_col1, #T_3047d_row16_col2, #T_3047d_row16_col3, #T_3047d_row20_col0, #T_3047d_row20_col1, #T_3047d_row20_col2, #T_3047d_row20_col3, #T_3047d_row21_col0, #T_3047d_row21_col1, #T_3047d_row21_col2, #T_3047d_row21_col3, #T_3047d_row23_col0, #T_3047d_row23_col1, #T_3047d_row23_col2, #T_3047d_row23_col3, #T_3047d_row24_col0, #T_3047d_row24_col1, #T_3047d_row24_col2, #T_3047d_row24_col3, #T_3047d_row25_col0, #T_3047d_row25_col1, #T_3047d_row25_col2, #T_3047d_row25_col3, #T_3047d_row27_col0, #T_3047d_row27_col1, #T_3047d_row27_col2, #T_3047d_row27_col3, #T_3047d_row28_col0, #T_3047d_row28_col1, #T_3047d_row28_col2, #T_3047d_row28_col3, #T_3047d_row29_col0, #T_3047d_row29_col1, #T_3047d_row29_col2, #T_3047d_row29_col3 {\n",
              "  background-color: black;\n",
              "}\n",
              "</style>\n",
              "<table id=\"T_3047d\">\n",
              "  <thead>\n",
              "    <tr>\n",
              "      <th class=\"blank level0\" >&nbsp;</th>\n",
              "      <th id=\"T_3047d_level0_col0\" class=\"col_heading level0 col0\" >Team</th>\n",
              "      <th id=\"T_3047d_level0_col1\" class=\"col_heading level0 col1\" >Off. Eff.</th>\n",
              "      <th id=\"T_3047d_level0_col2\" class=\"col_heading level0 col2\" >Def. Eff.</th>\n",
              "      <th id=\"T_3047d_level0_col3\" class=\"col_heading level0 col3\" >Playoffs</th>\n",
              "    </tr>\n",
              "  </thead>\n",
              "  <tbody>\n",
              "    <tr>\n",
              "      <th id=\"T_3047d_level0_row0\" class=\"row_heading level0 row0\" >0</th>\n",
              "      <td id=\"T_3047d_row0_col0\" class=\"data row0 col0\" >Denver</td>\n",
              "      <td id=\"T_3047d_row0_col1\" class=\"data row0 col1\" >115.7</td>\n",
              "      <td id=\"T_3047d_row0_col2\" class=\"data row0 col2\" >111.7</td>\n",
              "      <td id=\"T_3047d_row0_col3\" class=\"data row0 col3\" >Yes</td>\n",
              "    </tr>\n",
              "    <tr>\n",
              "      <th id=\"T_3047d_level0_row1\" class=\"row_heading level0 row1\" >1</th>\n",
              "      <td id=\"T_3047d_row1_col0\" class=\"data row1 col0\" >Boston</td>\n",
              "      <td id=\"T_3047d_row1_col1\" class=\"data row1 col1\" >115.7</td>\n",
              "      <td id=\"T_3047d_row1_col2\" class=\"data row1 col2\" >109.1</td>\n",
              "      <td id=\"T_3047d_row1_col3\" class=\"data row1 col3\" >Yes</td>\n",
              "    </tr>\n",
              "    <tr>\n",
              "      <th id=\"T_3047d_level0_row2\" class=\"row_heading level0 row2\" >2</th>\n",
              "      <td id=\"T_3047d_row2_col0\" class=\"data row2 col0\" >Sacramento</td>\n",
              "      <td id=\"T_3047d_row2_col1\" class=\"data row2 col1\" >115.3</td>\n",
              "      <td id=\"T_3047d_row2_col2\" class=\"data row2 col2\" >112.3</td>\n",
              "      <td id=\"T_3047d_row2_col3\" class=\"data row2 col3\" >Yes</td>\n",
              "    </tr>\n",
              "    <tr>\n",
              "      <th id=\"T_3047d_level0_row3\" class=\"row_heading level0 row3\" >3</th>\n",
              "      <td id=\"T_3047d_row3_col0\" class=\"data row3 col0\" >Utah</td>\n",
              "      <td id=\"T_3047d_row3_col1\" class=\"data row3 col1\" >114.3</td>\n",
              "      <td id=\"T_3047d_row3_col2\" class=\"data row3 col2\" >113.3</td>\n",
              "      <td id=\"T_3047d_row3_col3\" class=\"data row3 col3\" >No</td>\n",
              "    </tr>\n",
              "    <tr>\n",
              "      <th id=\"T_3047d_level0_row4\" class=\"row_heading level0 row4\" >4</th>\n",
              "      <td id=\"T_3047d_row4_col0\" class=\"data row4 col0\" >Brooklyn</td>\n",
              "      <td id=\"T_3047d_row4_col1\" class=\"data row4 col1\" >114.1</td>\n",
              "      <td id=\"T_3047d_row4_col2\" class=\"data row4 col2\" >110.1</td>\n",
              "      <td id=\"T_3047d_row4_col3\" class=\"data row4 col3\" >Yes</td>\n",
              "    </tr>\n",
              "    <tr>\n",
              "      <th id=\"T_3047d_level0_row5\" class=\"row_heading level0 row5\" >5</th>\n",
              "      <td id=\"T_3047d_row5_col0\" class=\"data row5 col0\" >Portland</td>\n",
              "      <td id=\"T_3047d_row5_col1\" class=\"data row5 col1\" >113.8</td>\n",
              "      <td id=\"T_3047d_row5_col2\" class=\"data row5 col2\" >112.9</td>\n",
              "      <td id=\"T_3047d_row5_col3\" class=\"data row5 col3\" >No</td>\n",
              "    </tr>\n",
              "    <tr>\n",
              "      <th id=\"T_3047d_level0_row6\" class=\"row_heading level0 row6\" >6</th>\n",
              "      <td id=\"T_3047d_row6_col0\" class=\"data row6 col0\" >Philadelphia</td>\n",
              "      <td id=\"T_3047d_row6_col1\" class=\"data row6 col1\" >113.6</td>\n",
              "      <td id=\"T_3047d_row6_col2\" class=\"data row6 col2\" >108.8</td>\n",
              "      <td id=\"T_3047d_row6_col3\" class=\"data row6 col3\" >Yes</td>\n",
              "    </tr>\n",
              "    <tr>\n",
              "      <th id=\"T_3047d_level0_row7\" class=\"row_heading level0 row7\" >7</th>\n",
              "      <td id=\"T_3047d_row7_col0\" class=\"data row7 col0\" >Dallas</td>\n",
              "      <td id=\"T_3047d_row7_col1\" class=\"data row7 col1\" >113.3</td>\n",
              "      <td id=\"T_3047d_row7_col2\" class=\"data row7 col2\" >112.4</td>\n",
              "      <td id=\"T_3047d_row7_col3\" class=\"data row7 col3\" >No</td>\n",
              "    </tr>\n",
              "    <tr>\n",
              "      <th id=\"T_3047d_level0_row8\" class=\"row_heading level0 row8\" >8</th>\n",
              "      <td id=\"T_3047d_row8_col0\" class=\"data row8 col0\" >New York</td>\n",
              "      <td id=\"T_3047d_row8_col1\" class=\"data row8 col1\" >112.9</td>\n",
              "      <td id=\"T_3047d_row8_col2\" class=\"data row8 col2\" >111.1</td>\n",
              "      <td id=\"T_3047d_row8_col3\" class=\"data row8 col3\" >Yes</td>\n",
              "    </tr>\n",
              "    <tr>\n",
              "      <th id=\"T_3047d_level0_row9\" class=\"row_heading level0 row9\" >9</th>\n",
              "      <td id=\"T_3047d_row9_col0\" class=\"data row9 col0\" >Cleveland</td>\n",
              "      <td id=\"T_3047d_row9_col1\" class=\"data row9 col1\" >112.6</td>\n",
              "      <td id=\"T_3047d_row9_col2\" class=\"data row9 col2\" >107.6</td>\n",
              "      <td id=\"T_3047d_row9_col3\" class=\"data row9 col3\" >Yes</td>\n",
              "    </tr>\n",
              "    <tr>\n",
              "      <th id=\"T_3047d_level0_row10\" class=\"row_heading level0 row10\" >10</th>\n",
              "      <td id=\"T_3047d_row10_col0\" class=\"data row10 col0\" >Atlanta</td>\n",
              "      <td id=\"T_3047d_row10_col1\" class=\"data row10 col1\" >112.2</td>\n",
              "      <td id=\"T_3047d_row10_col2\" class=\"data row10 col2\" >112.0</td>\n",
              "      <td id=\"T_3047d_row10_col3\" class=\"data row10 col3\" >No</td>\n",
              "    </tr>\n",
              "    <tr>\n",
              "      <th id=\"T_3047d_level0_row11\" class=\"row_heading level0 row11\" >11</th>\n",
              "      <td id=\"T_3047d_row11_col0\" class=\"data row11 col0\" >Toronto</td>\n",
              "      <td id=\"T_3047d_row11_col1\" class=\"data row11 col1\" >112.1</td>\n",
              "      <td id=\"T_3047d_row11_col2\" class=\"data row11 col2\" >112.5</td>\n",
              "      <td id=\"T_3047d_row11_col3\" class=\"data row11 col3\" >No</td>\n",
              "    </tr>\n",
              "    <tr>\n",
              "      <th id=\"T_3047d_level0_row12\" class=\"row_heading level0 row12\" >12</th>\n",
              "      <td id=\"T_3047d_row12_col0\" class=\"data row12 col0\" >Chicago</td>\n",
              "      <td id=\"T_3047d_row12_col1\" class=\"data row12 col1\" >111.7</td>\n",
              "      <td id=\"T_3047d_row12_col2\" class=\"data row12 col2\" >110.3</td>\n",
              "      <td id=\"T_3047d_row12_col3\" class=\"data row12 col3\" >Yes</td>\n",
              "    </tr>\n",
              "    <tr>\n",
              "      <th id=\"T_3047d_level0_row13\" class=\"row_heading level0 row13\" >13</th>\n",
              "      <td id=\"T_3047d_row13_col0\" class=\"data row13 col0\" >Golden State</td>\n",
              "      <td id=\"T_3047d_row13_col1\" class=\"data row13 col1\" >111.6</td>\n",
              "      <td id=\"T_3047d_row13_col2\" class=\"data row13 col2\" >111.4</td>\n",
              "      <td id=\"T_3047d_row13_col3\" class=\"data row13 col3\" >No</td>\n",
              "    </tr>\n",
              "    <tr>\n",
              "      <th id=\"T_3047d_level0_row14\" class=\"row_heading level0 row14\" >14</th>\n",
              "      <td id=\"T_3047d_row14_col0\" class=\"data row14 col0\" >Oklahoma City</td>\n",
              "      <td id=\"T_3047d_row14_col1\" class=\"data row14 col1\" >111.2</td>\n",
              "      <td id=\"T_3047d_row14_col2\" class=\"data row14 col2\" >110.4</td>\n",
              "      <td id=\"T_3047d_row14_col3\" class=\"data row14 col3\" >Yes</td>\n",
              "    </tr>\n",
              "    <tr>\n",
              "      <th id=\"T_3047d_level0_row15\" class=\"row_heading level0 row15\" >15</th>\n",
              "      <td id=\"T_3047d_row15_col0\" class=\"data row15 col0\" >Phoenix</td>\n",
              "      <td id=\"T_3047d_row15_col1\" class=\"data row15 col1\" >111.1</td>\n",
              "      <td id=\"T_3047d_row15_col2\" class=\"data row15 col2\" >110.3</td>\n",
              "      <td id=\"T_3047d_row15_col3\" class=\"data row15 col3\" >Yes</td>\n",
              "    </tr>\n",
              "    <tr>\n",
              "      <th id=\"T_3047d_level0_row16\" class=\"row_heading level0 row16\" >16</th>\n",
              "      <td id=\"T_3047d_row16_col0\" class=\"data row16 col0\" >Washington</td>\n",
              "      <td id=\"T_3047d_row16_col1\" class=\"data row16 col1\" >111.0</td>\n",
              "      <td id=\"T_3047d_row16_col2\" class=\"data row16 col2\" >110.9</td>\n",
              "      <td id=\"T_3047d_row16_col3\" class=\"data row16 col3\" >No</td>\n",
              "    </tr>\n",
              "    <tr>\n",
              "      <th id=\"T_3047d_level0_row17\" class=\"row_heading level0 row17\" >17</th>\n",
              "      <td id=\"T_3047d_row17_col0\" class=\"data row17 col0\" >Memphis</td>\n",
              "      <td id=\"T_3047d_row17_col1\" class=\"data row17 col1\" >110.9</td>\n",
              "      <td id=\"T_3047d_row17_col2\" class=\"data row17 col2\" >107.8</td>\n",
              "      <td id=\"T_3047d_row17_col3\" class=\"data row17 col3\" >Yes</td>\n",
              "    </tr>\n",
              "    <tr>\n",
              "      <th id=\"T_3047d_level0_row18\" class=\"row_heading level0 row18\" >18</th>\n",
              "      <td id=\"T_3047d_row18_col0\" class=\"data row18 col0\" >New Orleans</td>\n",
              "      <td id=\"T_3047d_row18_col1\" class=\"data row18 col1\" >110.9</td>\n",
              "      <td id=\"T_3047d_row18_col2\" class=\"data row18 col2\" >109.8</td>\n",
              "      <td id=\"T_3047d_row18_col3\" class=\"data row18 col3\" >Yes</td>\n",
              "    </tr>\n",
              "    <tr>\n",
              "      <th id=\"T_3047d_level0_row19\" class=\"row_heading level0 row19\" >19</th>\n",
              "      <td id=\"T_3047d_row19_col0\" class=\"data row19 col0\" >Minnesota</td>\n",
              "      <td id=\"T_3047d_row19_col1\" class=\"data row19 col1\" >110.8</td>\n",
              "      <td id=\"T_3047d_row19_col2\" class=\"data row19 col2\" >110.1</td>\n",
              "      <td id=\"T_3047d_row19_col3\" class=\"data row19 col3\" >Yes</td>\n",
              "    </tr>\n",
              "    <tr>\n",
              "      <th id=\"T_3047d_level0_row20\" class=\"row_heading level0 row20\" >20</th>\n",
              "      <td id=\"T_3047d_row20_col0\" class=\"data row20 col0\" >LA Lakers</td>\n",
              "      <td id=\"T_3047d_row20_col1\" class=\"data row20 col1\" >110.7</td>\n",
              "      <td id=\"T_3047d_row20_col2\" class=\"data row20 col2\" >112.3</td>\n",
              "      <td id=\"T_3047d_row20_col3\" class=\"data row20 col3\" >No</td>\n",
              "    </tr>\n",
              "    <tr>\n",
              "      <th id=\"T_3047d_level0_row21\" class=\"row_heading level0 row21\" >21</th>\n",
              "      <td id=\"T_3047d_row21_col0\" class=\"data row21 col0\" >LA Clippers</td>\n",
              "      <td id=\"T_3047d_row21_col1\" class=\"data row21 col1\" >110.3</td>\n",
              "      <td id=\"T_3047d_row21_col2\" class=\"data row21 col2\" >110.4</td>\n",
              "      <td id=\"T_3047d_row21_col3\" class=\"data row21 col3\" >No</td>\n",
              "    </tr>\n",
              "    <tr>\n",
              "      <th id=\"T_3047d_level0_row22\" class=\"row_heading level0 row22\" >22</th>\n",
              "      <td id=\"T_3047d_row22_col0\" class=\"data row22 col0\" >Milwaukee</td>\n",
              "      <td id=\"T_3047d_row22_col1\" class=\"data row22 col1\" >110.1</td>\n",
              "      <td id=\"T_3047d_row22_col2\" class=\"data row22 col2\" >108.7</td>\n",
              "      <td id=\"T_3047d_row22_col3\" class=\"data row22 col3\" >Yes</td>\n",
              "    </tr>\n",
              "    <tr>\n",
              "      <th id=\"T_3047d_level0_row23\" class=\"row_heading level0 row23\" >23</th>\n",
              "      <td id=\"T_3047d_row23_col0\" class=\"data row23 col0\" >Indiana</td>\n",
              "      <td id=\"T_3047d_row23_col1\" class=\"data row23 col1\" >109.3</td>\n",
              "      <td id=\"T_3047d_row23_col2\" class=\"data row23 col2\" >113.3</td>\n",
              "      <td id=\"T_3047d_row23_col3\" class=\"data row23 col3\" >No</td>\n",
              "    </tr>\n",
              "    <tr>\n",
              "      <th id=\"T_3047d_level0_row24\" class=\"row_heading level0 row24\" >24</th>\n",
              "      <td id=\"T_3047d_row24_col0\" class=\"data row24 col0\" >Orlando</td>\n",
              "      <td id=\"T_3047d_row24_col1\" class=\"data row24 col1\" >109.1</td>\n",
              "      <td id=\"T_3047d_row24_col2\" class=\"data row24 col2\" >111.9</td>\n",
              "      <td id=\"T_3047d_row24_col3\" class=\"data row24 col3\" >No</td>\n",
              "    </tr>\n",
              "    <tr>\n",
              "      <th id=\"T_3047d_level0_row25\" class=\"row_heading level0 row25\" >25</th>\n",
              "      <td id=\"T_3047d_row25_col0\" class=\"data row25 col0\" >Detroit</td>\n",
              "      <td id=\"T_3047d_row25_col1\" class=\"data row25 col1\" >108.9</td>\n",
              "      <td id=\"T_3047d_row25_col2\" class=\"data row25 col2\" >116.6</td>\n",
              "      <td id=\"T_3047d_row25_col3\" class=\"data row25 col3\" >No</td>\n",
              "    </tr>\n",
              "    <tr>\n",
              "      <th id=\"T_3047d_level0_row26\" class=\"row_heading level0 row26\" >26</th>\n",
              "      <td id=\"T_3047d_row26_col0\" class=\"data row26 col0\" >Miami</td>\n",
              "      <td id=\"T_3047d_row26_col1\" class=\"data row26 col1\" >108.7</td>\n",
              "      <td id=\"T_3047d_row26_col2\" class=\"data row26 col2\" >108.2</td>\n",
              "      <td id=\"T_3047d_row26_col3\" class=\"data row26 col3\" >Yes</td>\n",
              "    </tr>\n",
              "    <tr>\n",
              "      <th id=\"T_3047d_level0_row27\" class=\"row_heading level0 row27\" >27</th>\n",
              "      <td id=\"T_3047d_row27_col0\" class=\"data row27 col0\" >San Antonio</td>\n",
              "      <td id=\"T_3047d_row27_col1\" class=\"data row27 col1\" >108.1</td>\n",
              "      <td id=\"T_3047d_row27_col2\" class=\"data row27 col2\" >117.9</td>\n",
              "      <td id=\"T_3047d_row27_col3\" class=\"data row27 col3\" >No</td>\n",
              "    </tr>\n",
              "    <tr>\n",
              "      <th id=\"T_3047d_level0_row28\" class=\"row_heading level0 row28\" >28</th>\n",
              "      <td id=\"T_3047d_row28_col0\" class=\"data row28 col0\" >Charlotte</td>\n",
              "      <td id=\"T_3047d_row28_col1\" class=\"data row28 col1\" >107.1</td>\n",
              "      <td id=\"T_3047d_row28_col2\" class=\"data row28 col2\" >113.3</td>\n",
              "      <td id=\"T_3047d_row28_col3\" class=\"data row28 col3\" >No</td>\n",
              "    </tr>\n",
              "    <tr>\n",
              "      <th id=\"T_3047d_level0_row29\" class=\"row_heading level0 row29\" >29</th>\n",
              "      <td id=\"T_3047d_row29_col0\" class=\"data row29 col0\" >Houston</td>\n",
              "      <td id=\"T_3047d_row29_col1\" class=\"data row29 col1\" >106.1</td>\n",
              "      <td id=\"T_3047d_row29_col2\" class=\"data row29 col2\" >114.8</td>\n",
              "      <td id=\"T_3047d_row29_col3\" class=\"data row29 col3\" >No</td>\n",
              "    </tr>\n",
              "  </tbody>\n",
              "</table>\n"
            ],
            "text/plain": [
              "<pandas.io.formats.style.Styler at 0x2031a1ce1a0>"
            ]
          },
          "execution_count": 52,
          "metadata": {},
          "output_type": "execute_result"
        }
      ],
      "source": [
        "def highlight_playoffs(s):  # Highlight the playoff teams\n",
        "    if s.Playoffs == 'Yes':\n",
        "        return ['background-color: blue']*4\n",
        "    else:\n",
        "        return ['background-color: black']*4\n",
        "\n",
        "\n",
        "df_temp.style.apply(highlight_playoffs, axis=1)"
      ]
    }
  ],
  "metadata": {
    "colab": {
      "collapsed_sections": [
        "PgbhZyz8xchB",
        "jiXRgewrxchB",
        "7kI6VLDJxchD"
      ],
      "provenance": []
    },
    "kernelspec": {
      "display_name": "Python 3.10.7 64-bit",
      "language": "python",
      "name": "python3"
    },
    "language_info": {
      "codemirror_mode": {
        "name": "ipython",
        "version": 3
      },
      "file_extension": ".py",
      "mimetype": "text/x-python",
      "name": "python",
      "nbconvert_exporter": "python",
      "pygments_lexer": "ipython3",
      "version": "3.10.7"
    },
    "vscode": {
      "interpreter": {
        "hash": "b9b7b09fe4b9fb09965c3662f2214756554a4e56d1370f403412e2d0f56132c3"
      }
    }
  },
  "nbformat": 4,
  "nbformat_minor": 0
}
