{
  "cells": [
    {
      "cell_type": "markdown",
      "metadata": {
        "id": "8qrTiVkzjz21"
      },
      "source": [
        "# Tutorial on optimization of *smooth* phenomena for computational and data science \n",
        "---\n"
      ]
    },
    {
      "cell_type": "markdown",
      "source": [
        "## Want to use Colab? [![Open in Colab](https://colab.research.google.com/assets/colab-badge.svg)](https://githubtocolab.com/CU-Denver-MathStats-OER/CDHE-OER-Presentations/blob/master/Tutorials/Optimizing_with_Python_and_Jupyter_Tutorial.ipynb)\n",
        "\n",
        "---"
      ],
      "metadata": {
        "id": "k9HqxmHz3Yin"
      }
    },
    {
      "cell_type": "markdown",
      "source": [
        "---\n",
        "\n",
        "\n",
        "***Disclaimer:*** \n",
        "\n",
        "- These tutorials are meant to convey high-level concepts and also show some advanced programming techniques/tricks. While some details are included for the sake of completeness/reference for the interested reader, they are generally not required in order to follow the logical progression of ideas. \n",
        "\n",
        "- Moreover, you are not expected to know or understand all the details in great depth. In many cases, we specifically link details to specific courses so that you can plan your schedule around what you are most interested in learning.  \n",
        "\n",
        "***Level of assumed pre-requisite knowledge:*** \n",
        "\n",
        "- A \"pre-calculus\" level of mathematical knowledge/proficiency is assumed that covers some geometry formulas for areas/volumes of common shapes, college algebra, and also some familiarity with common trigonometric functions line sine or cosine. \n",
        "\n",
        "- Basic statistics revolving around the concept of a line of best fit.\n",
        "\n",
        "- Introductory-level programming knowledge (in any language) involving variable types, user-defined functions, if-else statements, and for-loops. \n",
        "\n",
        "---"
      ],
      "metadata": {
        "id": "3zr8tSdzvEAg"
      }
    },
    {
      "cell_type": "markdown",
      "source": [
        "---\n",
        "\n",
        "What ***is*** [optimization](https://en.wikipedia.org/wiki/Mathematical_optimization)? \n",
        "\n",
        "From Wikipedia:\n",
        "\n",
        "> ... optimization ... is the selection of a **best element**, with regard to some criterion, **from some set of available alternatives**... Optimization problems ... arise in **all quantitative disciplines** from computer science and engineering to operations research and economics, and the development of solution methods has been of interest in mathematics for centuries.\n",
        "\n",
        "---"
      ],
      "metadata": {
        "id": "8F-grDYdlm3z"
      }
    },
    {
      "cell_type": "markdown",
      "source": [
        "---\n",
        "\n",
        "## <center> <mark>**Where do questions of optimization naturally arise?**</mark> </center>\n",
        "\n",
        "\n",
        "\n",
        "| $\\Large\\text{Rigid Body Dynamics}$ | $\\Large\\text{Options pricing for stocks and commodities}$ |\n",
        "| :---: | :---: |\n",
        "| <img src=\"https://upload.wikimedia.org/wikipedia/commons/e/e3/Demonstrating_Chaos_with_a_Double_Pendulum.gif\" /> | <img src=\"https://upload.wikimedia.org/wikipedia/commons/2/2d/Black-Scholes_Put.gif\"/> |\n",
        "| $\\Large\\text{Transportation engineering}$  | $\\Large\\text{Electrical engineering}$ |\n",
        "| <img src=\"https://upload.wikimedia.org/wikipedia/en/9/91/Ont_fdr_12_5_ex2.gif\" /> | <img src=\"https://upload.wikimedia.org/wikipedia/commons/b/b2/Dipole_receiving_antenna_animation_4_616x380x150ms.gif\" /> |\n",
        "| $\\Large\\text{Computational epidemiology}$  | $\\Large\\text{Control engineering}$ |\n",
        "| <img src=\"https://upload.wikimedia.org/wikipedia/commons/2/20/SIR_model_anim.gif\" /> | <img src=\"https://upload.wikimedia.org/wikipedia/commons/1/16/Closed_circuit_ventilators.gif\" /> |\n",
        "| $\\Large\\text{Machine learning}$  | $\\Large\\text{Atmospheric science}$ |\n",
        "| <img src=\"https://upload.wikimedia.org/wikipedia/commons/a/aa/Perceptron_training_without_bias.gif\" /> | <img src=\"https://upload.wikimedia.org/wikipedia/commons/5/5c/Daily_mean_precipitation.gif\" /> |\n",
        "\n",
        "\n"
      ],
      "metadata": {
        "id": "36BF_W4xlOBE"
      }
    },
    {
      "cell_type": "markdown",
      "source": [
        "## Our Motivating Example: Product Design (a.k.a. how to minimize cost to maximize profits)\n",
        "---\n",
        "\n",
        "Imagine you just discovered that you are the world's best pasta sauce maker.\n",
        "You should profit on this discovery!\n",
        "\n",
        "People love your sauce so much that they want to buy it a ***liter*** at a time.\n",
        "A liter is 1000 cm$^3$. \n",
        "That is a lot of sauce!\n",
        "You can almost taste the profits.\n",
        "\n",
        "There is only one problem, you need to find liter sized glass containers for your sauce.\n",
        "\n",
        "<img src=\"https://www.publicdomainpictures.net/pictures/230000/velka/jars-of-homemade-spaghetti-sauce.jpg\" width=50%/>\n",
        "\n",
        "You talk with your [copacker](https://en.wikipedia.org/wiki/Contract_packager#:~:text=A%20contract%20packager%2C%20or%20copacker,household%20products%2C%20and%20industrial%20products.), and they cannot find a distributor of glass containers that makes the quality and quantity of liter sized containers you need.\n",
        "But, your copacker has a suggestion: we can design and make our own containers!\n",
        "This is a great idea!\n",
        "\n",
        "Your objective is to design a liter sized glass container that minimizes the cost of production and thus maximizes your profits!\n",
        "\n",
        "Sounds easy enough...how do we do this? *Hint: optimization.*\n"
      ],
      "metadata": {
        "id": "4XA5G05JHoaz"
      }
    },
    {
      "cell_type": "markdown",
      "metadata": {
        "id": "1ZM8YK7ojz29"
      },
      "source": [
        "## Setting the stage with a brief discussion on *roots* and their role in optimizing *smooth* phenomena\n",
        "---\n",
        "\n",
        "<mark>***Root-problems naturally arise in optimization of smooth phenomena.***</mark>\n",
        "\n",
        "That one sentence contains a few terms that may seem rather mysterious. Below, we ask and answer a sequence of questions to help clarify terminology while simultaneously revealing the fundamental role that root-problems play in the optimization of smooth phenomena."
      ]
    },
    {
      "cell_type": "markdown",
      "source": [
        "\n",
        "<br>\n",
        "\n",
        "---\n",
        "# <center> ✋ What does \"smooth\" mean❓</center>\n",
        "---\n",
        "\n",
        "<br>\n",
        "\n",
        "Conceptually, a smooth function is one that is both continuous (its graph does not contain any holes, jumps, vertical asymptotes, etc.) and does not contain \"abrupt changes\" like corners and elbows.\n",
        "\n",
        "We show plots of several smooth functions below as well as non-smooth functions. This also provides us an opportunity to play with [`numpy`](https://numpy.org/doc/stable/index.html) and [`matplotlib`](https://matplotlib.org/) while also seeing how to create user-defined functions while using basic logic and for-loops.\n",
        "\n"
      ],
      "metadata": {
        "id": "QHtTS02fdv14"
      }
    },
    {
      "cell_type": "markdown",
      "source": [
        "---\n",
        "### $\\large 🤔$ How do we import and use libraries, sub-libraries, and modules?\n",
        "---\n",
        "\n",
        "- The code \n",
        "\n",
        "  `import name_of_library as library_nickname` \n",
        "\n",
        "  imports a particular library (or sub-library/module) and assigns it a \"nickname\" that you are free to choose. We often use `np` for `numpy` and `plt` for the plotting module within `matplotlib`.\n",
        "\n",
        "- We then make use of functions/methods and built-in library constants using the \"dot\" convention. \n",
        "\n",
        "  For instance, `np.pi` gives us an approximation to the mathematical constant $\\pi$ whereas `np.sin` gives us access to a trigonometric sine function within the `numpy` library. \n",
        "\n",
        "- Want to learn more? See [this lecture notebook](https://github.com/CU-Denver-MathStats-OER/Programming-for-Data-Science/blob/main/Lectures-and-Assignments/02-Python-Basics/lectures/02_lecture_part_b.ipynb) from the MATH 1376 Programming for Data Science course."
      ],
      "metadata": {
        "id": "Ut9e5mWbvojd"
      }
    },
    {
      "cell_type": "code",
      "source": [
        "import numpy as np\n",
        "import matplotlib.pyplot as plt"
      ],
      "metadata": {
        "id": "J-b_5hoUJF4d"
      },
      "execution_count": null,
      "outputs": []
    },
    {
      "cell_type": "code",
      "source": [
        "# Numpy has lots of familiar mathematical functions that are optimized to be\n",
        "# evaluated on arrays of data, routines for making specific types of arrays of\n",
        "# data and also many familiar mathematical constants\n",
        "\n",
        "x = np.linspace(0, 2*np.pi, 100)  # Make an array of 100 x values from 0 to 2\\pi \n",
        "plt.figure(figsize=(8,2))\n",
        "plt.plot(x, np.sin(x))\n",
        "plt.title('$\\sin(x)$ is a smooth function', fontsize=14)\n",
        "plt.grid()"
      ],
      "metadata": {
        "id": "gcVXHsrRTGkd"
      },
      "execution_count": null,
      "outputs": []
    },
    {
      "cell_type": "markdown",
      "source": [
        "For more information on \n",
        "\n",
        "- mathematical functions contained within `numpy`, refer here: https://numpy.org/doc/stable/reference/routines.math.html;\n",
        "\n",
        "- constants contained within `numpy`, refer here: https://numpy.org/doc/stable/reference/constants.html;\n",
        "\n",
        "- array creation routines within `numpy`, refer here: https://numpy.org/doc/stable/reference/routines.array-creation.html.\n",
        "\n",
        "For a quick start guide to `matplotlib`, refer here: https://matplotlib.org/stable/tutorials/introductory/quick_start.html."
      ],
      "metadata": {
        "id": "p-TQKXD5UbPG"
      }
    },
    {
      "cell_type": "markdown",
      "source": [
        "---\n",
        "### $\\large 🤔$ What is the syntax for a user-defined function?\n",
        "---\n",
        "\n",
        "- In Python, the syntax for a function is as follows\n",
        "\n",
        "  ```\n",
        "  def function_name(parameters):\n",
        "      # Do cool stuff\n",
        "      return  # return something?\n",
        "  ```\n",
        "\n",
        "- Want to learn more about functions, docstrings, defaulting values for parameters, pass-by-reference vs. pass-by-value, etc.? Check out [this lecture notebook](https://github.com/CU-Denver-MathStats-OER/Programming-for-Data-Science/blob/main/Lectures-and-Assignments/03-Functions-Loops-Modules/lectures/03_lecture_part_a.ipynb) from the MATH 1376 Programming for Data Science course."
      ],
      "metadata": {
        "id": "9NgUM-lbxBYK"
      }
    },
    {
      "cell_type": "code",
      "source": [
        "# We raise a number to a power using ** not ^\n",
        "def my_polynomial(x):\n",
        "    return x**3 - 4*x**2 + x - 1"
      ],
      "metadata": {
        "id": "Zpq9VCbjTpyD"
      },
      "execution_count": null,
      "outputs": []
    },
    {
      "cell_type": "code",
      "source": [
        "x = np.linspace(-1, 4, 70)  # An array of 70 points from -1 to 4\n",
        "plt.figure(figsize=(4, 5))\n",
        "plt.plot(x, my_polynomial(x), color='r', linewidth=3, linestyle='-.')\n",
        "plt.title('Polynomials are smooth', fontsize=14)\n",
        "plt.grid()"
      ],
      "metadata": {
        "id": "9zczgNO9T5OE"
      },
      "execution_count": null,
      "outputs": []
    },
    {
      "cell_type": "markdown",
      "source": [
        "In the two plots above, we can *see* where the local maxima and minima occur (as well as where any global maxima and minima occur) within the plotted domain. <mark>***We need to think critically, explore, and experiment.***</mark>\n",
        "\n",
        "<br>\n",
        "\n",
        "---\n",
        "#<center> ✋ What qualitative observations can we make❓</center>\n",
        "---\n",
        "\n",
        "<br>\n",
        "\n",
        "Notice that at an interior point where a function has a local maximum, the function changes from *increasing* to *decreasing* on either side of this point.\n",
        "\n",
        "Similarly, at an interior point where a function has a local minimum, the function changes from *decreasing* to *increasing*. \n",
        "\n"
      ],
      "metadata": {
        "id": "Wo9_U0YfeyLX"
      }
    },
    {
      "cell_type": "code",
      "source": [
        "x = np.linspace(0, 2*np.pi, 100)  # Make an array of 100 x values from 0 to 2\\pi \n",
        "plt.figure(figsize=(12,4))\n",
        "plt.plot(x, np.sin(x))\n",
        "plt.axvline(np.pi/2, c='r', ls=':')\n",
        "plt.axvline(3*np.pi/2, c='r', ls=':')\n",
        "plt.title('$\\sin(x)$ is a smooth function', fontsize=14)\n",
        "\n",
        "\n",
        "# Now we add fancier annotations to the plot with text and arrows in a two-step process\n",
        "\n",
        "# First, we define the dict (dictionary) of properties of the textboxes and arrows used in the annotation\n",
        "bbox = dict(boxstyle=\"round\", fc='yellow', color='r', alpha=0.8, linewidth=2)  # properties for bounding box of text\n",
        "arrowprops = dict(arrowstyle='->', color='k', alpha=0.75, linewidth=3)  # properties for the arrow\n",
        "\n",
        "# Now annotate the plot\n",
        "plt.annotate('Function increases\\nthen decreases\\nas we cross\\nthis point.', \n",
        "             fontsize=14, xy=(np.pi/2, 1), xytext=(0,-0.5), color='k',\n",
        "             bbox = bbox, arrowprops = arrowprops)\n",
        "\n",
        "plt.annotate('Function decreases\\nthen increases\\nas we cross\\nthis point.', \n",
        "             fontsize=14, xy=(3*np.pi/2, -1), xytext=(3.,0), color='k',\n",
        "             bbox = bbox, arrowprops = arrowprops)   "
      ],
      "metadata": {
        "id": "aF6FlBSgnSfm"
      },
      "execution_count": null,
      "outputs": []
    },
    {
      "cell_type": "markdown",
      "source": [
        "<br>\n",
        "\n",
        "---\n",
        "# <center> ✋ Can we quantify what increasing and decreasing means❓</center>\n",
        "---\n",
        "\n",
        "<br>\n",
        "\n",
        "The answer to this question is best found by asking a related, but different, question that points to a fundamental truth across all of computational and data science: <mark>***it is always a good idea to try and relate new ideas/questions to old ideas/questions where hard-earned wisdom can light the way.***</mark>\n",
        "\n"
      ],
      "metadata": {
        "id": "aa7ayaMCmziA"
      }
    },
    {
      "cell_type": "markdown",
      "source": [
        "\n",
        "<br>\n",
        "\n",
        "---\n",
        "# <center>✋ Are there classes of functions for which it is obvious that they are increasing or decreasing❓</center>\n",
        "---\n",
        "\n",
        "<br>\n",
        "\n",
        "<mark>***YES! LINEAR FUNCTIONS!***</mark>\n",
        "\n",
        "Recall that if $f(x)=mx+b$ and the slope, $m$, is positive (i.e., $m>0$, then the function is increasing (i.e., the line is \"tilted up\") whereas if $m<0$, then the function is decreasing (i.e., the line is \"tilted down\").\n",
        "\n",
        "We show this below just in case you forgot where we also make use of widgets to enhance interactivity.\n"
      ],
      "metadata": {
        "id": "MncS1I6Rm3vx"
      }
    },
    {
      "cell_type": "markdown",
      "source": [
        "---\n",
        "### $\\large 🤔$ What is an interactive Python widget?\n",
        "---\n",
        "\n",
        "- There are many interactive Python widgets available that help add interactivity to code. Click [here](https://ipywidgets.readthedocs.io/en/latest/examples/Widget%20List.html) to see a list of available widgets.\n",
        "\n",
        "- Widgets are just a way to add \"control\" features to a function like sliders, check-boxes, drop-down menus, etc. that help you quickly re-run a function with new inputs without having to re-run a code cell.\n",
        "\n",
        "- Want to learn more about widgets? Check out [this lecture notebook](https://github.com/CU-Denver-MathStats-OER/Programming-for-Data-Science/blob/main/Lectures-and-Assignments/03-Functions-Loops-Modules/lectures/03_lecture_part_c.ipynb) from the MATH 1376 Programming for Data Science course."
      ],
      "metadata": {
        "id": "cZWQEk2S0pkn"
      }
    },
    {
      "cell_type": "code",
      "source": [
        "# Usually place these at the top of a notebook if you know you are going to use widgets\n",
        "# This cell only needs to be executed once\n",
        "from ipywidgets import interact, interactive, fixed, interact_manual\n",
        "import ipywidgets as widgets"
      ],
      "metadata": {
        "id": "wHnTtPPWjjjE"
      },
      "execution_count": null,
      "outputs": []
    },
    {
      "cell_type": "code",
      "source": [
        "def plot_line(m, b):\n",
        "    x = np.linspace(-1, 1, 2)\n",
        "    y = m*x + b\n",
        "    plt.figure(figsize=(4,4))\n",
        "    plt.plot(x, y)\n",
        "    title_str = '$f(x) = ' + str(m) + 'x + ' + str(b) + '$'\n",
        "    plt.title(title_str)\n",
        "    plt.grid();"
      ],
      "metadata": {
        "id": "X3QO-oynexxy"
      },
      "execution_count": null,
      "outputs": []
    },
    {
      "cell_type": "code",
      "source": [
        "interact(plot_line, \n",
        "             m = widgets.FloatSlider(value=0.1, min=-1, max=1, step=0.1),\n",
        "             b = widgets.FloatSlider(value=0, min=-1, max=1)\n",
        "        )"
      ],
      "metadata": {
        "id": "rMmpgZAWjifX"
      },
      "execution_count": null,
      "outputs": []
    },
    {
      "cell_type": "markdown",
      "source": [
        "<br>\n",
        "\n",
        "---\n",
        "# <center>✋ How can we apply this to nonlinear functions❓</center>\n",
        "---\n",
        "\n",
        "<br>\n",
        "\n",
        "Well, if it is a *smooth* function, then imagine that at each point we were to ***approximate it with a linear function*** where the answer to the increasing/decreasing question becomes self-evident?\n"
      ],
      "metadata": {
        "id": "Wt9yC3Iiiy2D"
      }
    },
    {
      "cell_type": "markdown",
      "source": [
        "<br>\n",
        "\n",
        "---\n",
        "# <center>✋ How should we construct such a local linear approximation (and also make proper interpretations)❓</center>\n",
        "---\n",
        "\n",
        "<br>\n",
        "\n",
        "We begin with a simple approximation procedure known as ***interpolation.*** \n",
        "\n",
        "- At each $x$ value, we could evaluate the function at both $x$ and $x+h$ for some given $h>0$ where the size of $h$ determines the ***quality*** of the local linear approximation. \n",
        "\n",
        "- In other words, we can just use the line connecting $(x,f(x))$ and $(x+h,f(x+h))$ as a proxy for the function $f$ between these points. This line is called a **secant line**.The **slopes** are given by the simple formula below.\n",
        "\n",
        "<br>\n",
        "\n",
        "$$\n",
        "\\large  \\frac{f(x+h)-f(x)}{x+h - x} = \\boxed{\\frac{f(x+h)-f(x)}{h}}\n",
        "$$\n",
        "<br>\n",
        "\n",
        "\n",
        "- As $h$ approaches zero (mathematically written as $h\\to 0$), the secant line approaches what is known as a **tangent line** where the slope of this line being positive or negative tells us whether or not the function is increasing or decreasing at a particular point. This is illustrated in the gif below.\n",
        "\n",
        "<center>\n",
        "<img src=\"https://upload.wikimedia.org/wikipedia/commons/a/aa/Derivative_GIF.gif\" width=60% />\n",
        "</center>\n",
        "\n",
        "- The value of the slope of the tangent line to the curve at a particular point is often referred to as the **derivative** of the function at the particular point. Notationally, if we let $f(x)$ denote the function evaluated at $x$, then $f'(x)$ is used to denote this derivative.\n",
        "\n",
        "<mark>***The key takeaway.***</mark>\n",
        "- At any point of a given function $f(x)$, we can approximate the values of these slopes of tangency to get key insights into the behavior of the function. This is illustrated in the gif below.\n",
        "\n",
        "<center>\n",
        "<img src=\"https://upload.wikimedia.org/wikipedia/commons/8/81/Differentiation_of_sine.gif\" width=70%/>\n",
        "</center>\n",
        "\n",
        "- Want to learn more about derivatives? Consider taking the calculus sequence of courses at CU Denver such as MATH 1401, 2411, and 2421.\n",
        "\n",
        "Below, we visualize both the relationship between a function and the slopes of the associated secant lines as well as the approximate roots of these slopes (i.e., where they are approximately equal to zero)."
      ],
      "metadata": {
        "id": "dEzhZJGRm_Ty"
      }
    },
    {
      "cell_type": "code",
      "source": [
        "def secant_line_slope(f, x, h):\n",
        "    return (f(x+h)-f(x))/h"
      ],
      "metadata": {
        "id": "c6Btc0eZmxoG"
      },
      "execution_count": null,
      "outputs": []
    },
    {
      "cell_type": "code",
      "source": [
        "def plot_linear_approx(f, xmin, xmax, h, n, show_slope_approx_roots=False):\n",
        "    xs = np.linspace(xmin, xmax, n)\n",
        "\n",
        "    fig, ax1 = plt.subplots(figsize=(8,8))\n",
        "    \n",
        "    # First plot the function\n",
        "    ax1.plot(xs, f(xs), color='b')\n",
        "    ax1.set_ylabel('f(x)', color='b', fontsize=14)\n",
        "\n",
        "    # instantiate a second axes that shares the same x-axis\n",
        "    ax2 = ax1.twinx()  \n",
        "    # now plot the secant line slopes\n",
        "    ax2.plot(xs, secant_line_slope(f, xs, h), color='r')\n",
        "    ax2.set_ylabel('Secant line slopes', color='r', fontsize=14) \n",
        "\n",
        "    # Let's add the x-axis to the ax2 plot so that we can see where the derivative\n",
        "    # is equal to zero\n",
        "    ax2.axhline(0, linewidth=2, linestyle=':', c='k');  # plot typical x-axis\n",
        "    \n",
        "    # Do we want to see where the slopes are approximately zero?\n",
        "    if show_slope_approx_roots:\n",
        "        roots = []\n",
        "        delta_x = xs[1]-xs[0]\n",
        "        for x in xs:\n",
        "            if secant_line_slope(f, x, h) == 0:\n",
        "                roots.append(x)\n",
        "            elif secant_line_slope(f, x-delta_x, h) * secant_line_slope(f, x+delta_x, h) < 0:\n",
        "                roots.append(x)\n",
        "        for root in roots:\n",
        "            ax2.axvline(root, linewidth=1, linestyle=':', c='r')"
      ],
      "metadata": {
        "id": "0IsqQXe6lep6"
      },
      "execution_count": null,
      "outputs": []
    },
    {
      "cell_type": "code",
      "source": [
        "interact_manual(plot_linear_approx,\n",
        "                    f = fixed(lambda x: np.sin(x)),  # We use a lambda function here\n",
        "                    xmin = fixed(0),\n",
        "                    xmax = fixed(2*np.pi),\n",
        "                    h = widgets.FloatLogSlider(value=0.01, min=-16, max=-2, base=10, step=1),\n",
        "                    n = widgets.IntSlider(value=100, min=50, max=1000, step=50),\n",
        "                    show_slope_approx_roots = widgets.Checkbox(value=False,\n",
        "                                                       description='Show approx. roots of slopes?')\n",
        "\n",
        "               );"
      ],
      "metadata": {
        "id": "nN_m3I3cnnH_"
      },
      "execution_count": null,
      "outputs": []
    },
    {
      "cell_type": "code",
      "source": [
        "interact_manual(plot_linear_approx,\n",
        "                    f = fixed(my_polynomial),  # We use a lambda function here\n",
        "                    xmin = fixed(0),\n",
        "                    xmax = fixed(2),\n",
        "                    h = widgets.FloatLogSlider(value=0.01, min=-16, max=-2, base=10, step=1),\n",
        "                    n = widgets.IntSlider(value=100, min=50, max=1000, step=50),\n",
        "                    show_slope_approx_roots = widgets.Checkbox(value=False,\n",
        "                                                       description='Show approx. roots of slopes?')\n",
        "\n",
        "               );"
      ],
      "metadata": {
        "id": "tKqIOMkTvW0I"
      },
      "execution_count": null,
      "outputs": []
    },
    {
      "cell_type": "markdown",
      "source": [
        "---\n",
        "# <center> Putting it all together </center>\n",
        "---\n",
        "\n",
        "<br>\n",
        "\n",
        "---\n",
        "# <center>✋ What is the mathematically precise definition of smoothness❓</center>\n",
        "---\n",
        "\n",
        "<br>\n",
        "\n",
        "Mathematically, it means the function has as many *derivatives* as we require. \n",
        "\n",
        "<br>\n",
        "\n",
        "---\n",
        "# <center>✋ What are some conceptual interpretations of derivatives❓</center>\n",
        "---\n",
        "\n",
        "<br>\n",
        "\n",
        "While derivatives are a concept from calculus used to measure the instantaneous rate of change of a function, it is often useful to think of it in very physical terms: the derivative of position as a function of time is velocity, the derivative of velocity as a function of time is acceleration, etc. \n",
        "\n",
        "Is there a physically meaningful derivative of acceleration? Yes! It is called the *jerk*, and I do not mean in the context \"This lying jerk said we didn't need to know calculus to get through this tutorial!\". \n",
        "\n",
        "<br>\n",
        "\n",
        "---\n",
        "# <center>✋ Why do we care about derivatives again❓</center>\n",
        "---\n",
        "\n",
        "<br>\n",
        "\n",
        "Briefly put: *optimization*. <mark>***Where a derivative is equal to zero corresponds to what is called a critical point of the function.***</mark> \n",
        "\n",
        "In other words, the *roots* of a derivative are *critical points* of the original function. \n",
        "\n",
        "<br>\n",
        "\n",
        "---\n",
        "# <center> ✋ What is so important about critical points❓</center>\n",
        "---\n",
        "\n",
        "<br>\n",
        "\n",
        "These are the potential locations of maxima and minima of a function. These points are of great interest in many computational and data science problems.\n",
        "\n",
        "<br>\n",
        "\n",
        "---\n",
        "# <center>✋ Do we need to actually know how to find the exact derivatives of a given function❓</center>\n",
        "---\n",
        "\n",
        "<br>\n",
        "\n",
        "No! We can use code to produce numerical estimates of derivatives that we either write or are available for us to use in various optimization codes. \n",
        "\n",
        "But, if you want to learn more about the details of derivatives, then you should consider taking some calculus courses starting with MATH 1401 Calculus I. If you want to learn more about the impact of numerical approximations of derivatives and other mathematical objects on various algorithms, then consider taking MATH 4650/5660 Numerical Analysis I. "
      ],
      "metadata": {
        "id": "kjr3Th5zJFV_"
      }
    },
    {
      "cell_type": "markdown",
      "source": [
        "<br>\n",
        "\n",
        "---\n",
        "# <center>✋ Do all functions have derivatives❓</center>\n",
        "---\n",
        "\n",
        "<br>\n",
        "\n",
        "*Most* continuous functions you are familiar with are smooth, which makes one wonder...when is a function not smooth? $\\huge 🤔$\n",
        "\n",
        "<br>\n",
        "\n",
        "---\n",
        "\n",
        "<br>\n",
        "\n",
        "We generally start to see issues with smoothness when the function is either piecewise defined, involves rational powers, or there is a potential division by zero/other source of a vertical asymptote. But, even in those cases, the functions are smooth if we can restrict the domain just a bit to avoid these issues.\n",
        "\n",
        "Below, we show one method of coding a non-smooth, but continuous, tent function given by\n",
        "<br>\n",
        "\n",
        "$$\n",
        "\\large f(x) = \\begin{cases}\n",
        "            x+1, & -1<x<0, \\\\\n",
        "            1-x, & 0\\leq x<1, \\\\\n",
        "            0, & \\text{else}.\n",
        "           \\end{cases}\n",
        "$$"
      ],
      "metadata": {
        "id": "lrJfBklFX3mm"
      }
    },
    {
      "cell_type": "markdown",
      "source": [
        "---\n",
        "### $\\large 🤔$ How do we code conditional statements?\n",
        "---\n",
        "\n",
        "- We use the `if-elif-else` structure as shown below where `elif` stands for \"else if\". \n",
        "\n",
        "  ```\n",
        "  if (some condition is True):\n",
        "      do some stuff\n",
        "  elif (some other condition is True):\n",
        "      do some other stuff\n",
        "  else:  # notice there is no condition here\n",
        "      do something else entirely\n",
        "  ```\n",
        "\n",
        "- An \"if\" or \"else if\" statement has a condition attached that is checked. If it is `True`, then the *indented* code below that \"if\" or \"else if\" statement is executed and *no other code* within the `if-elif-else` structure is executed upon the first `True` condition being encountered.\n",
        "\n",
        "- An `elif` is entirely optional. We only use it if necessary. We can also have an aribtrary number of these meaning we can have 0, 1, 2, ... such parts of an `if-elif-else` structure.\n",
        "\n",
        "- If no \"if\" or \"else if\" conditions are `True`, then the indented code following the `else:` statement will run (note there is no condition after the `else`). \n",
        "\n",
        "- However, the `else:` part is also optional. If there is no `else:` part so that we have an `if-elif` structure, then the code just continues as if nothing happened. \n",
        "\n",
        "- Finally, conditions can be made multi-faceted by joining several conditions together through the use of `and`/`or` statements.\n",
        "\n",
        "- Want to learn more about logic and conditionals? Check out [this lecture notebook](https://github.com/CU-Denver-MathStats-OER/Programming-for-Data-Science/blob/main/Lectures-and-Assignments/03-Functions-Loops-Modules/lectures/03_lecture_part_a.ipynb) from the MATH 1376 Programming for Data Science course."
      ],
      "metadata": {
        "id": "GWT12c7g2eeS"
      }
    },
    {
      "cell_type": "code",
      "source": [
        "def tent(x):\n",
        "    if (-1 < x) and (x < 0):\n",
        "        return x+1\n",
        "    elif (0 <= x) and (x < 1):\n",
        "        return 1-x\n",
        "    else:\n",
        "        return 0"
      ],
      "metadata": {
        "id": "TbB73miuXLRK"
      },
      "execution_count": null,
      "outputs": []
    },
    {
      "cell_type": "markdown",
      "source": [
        "The `tent` function above can be evaluated on scalar inputs (specific $x\\in\\mathbb{R}$). <mark>Unfortunately, we cannot evaluate it on `numpy` arrays as we show below. </mark>"
      ],
      "metadata": {
        "id": "LIFPPgTli98L"
      }
    },
    {
      "cell_type": "code",
      "source": [
        "# We canNOT evaluate the function above on numpy arrays!\n",
        "# Why not? The answer lies within the inequalities...\n",
        "\n",
        "x = np.linspace(-2, 2, 101)\n",
        "y = tent(x)"
      ],
      "metadata": {
        "id": "ywG-OaaLZPVG"
      },
      "execution_count": null,
      "outputs": []
    },
    {
      "cell_type": "markdown",
      "source": [
        "Below, we show a workaround that can serve as a simple template for turning any function into one that can handle arrays of inputs."
      ],
      "metadata": {
        "id": "2ED9df2HjVOK"
      }
    },
    {
      "cell_type": "code",
      "source": [
        "# Let's define a tent function that can handle arrays\n",
        "def tent4array(xs):\n",
        "    n = len(xs)  # obtain the length of the xs array\n",
        "    ys = np.zeros(n)  # Make an array of zeros that is the same length as the array of x values\n",
        "    # Now loop over each of the components in the xs array\n",
        "    for i in range(n):\n",
        "        ys[i] = tent(xs[i])\n",
        "    \n",
        "    return ys"
      ],
      "metadata": {
        "id": "txZP93sqZoVm"
      },
      "execution_count": null,
      "outputs": []
    },
    {
      "cell_type": "code",
      "source": [
        "plt.figure(figsize=(10,3))\n",
        "x = np.linspace(-2, 2, 201)\n",
        "plt.plot(x, tent4array(x), color='purple', linewidth=2, linestyle=':')\n",
        "plt.title('This function has 3 points of non-smoothness', fontsize=14)\n",
        "plt.grid()"
      ],
      "metadata": {
        "id": "PWpdOBkgaXtc"
      },
      "execution_count": null,
      "outputs": []
    },
    {
      "cell_type": "markdown",
      "metadata": {
        "id": "_C-SsgtGjz3A"
      },
      "source": [
        "## Back to our quest for world domination in the cutthroat world of pasta sauce\n",
        "---\n",
        "\n",
        "Let's address some obvious constraints. \n",
        "\n",
        "- ***This is a glass container! It can NOT have edges or corners!***\n",
        "\n",
        "\n",
        "- The shape required is a [right-circular cylinder](https://en.wikipedia.org/wiki/Cylinder) (we will ignore the slight curvature that you always see near the bottom/top of the container for simplicity) with a solid glass bottom (otherwise the sauce will not stay in the container) and an open top (where the sauce is poured into the container during production before a lid is screwed on to secure the contents). \n",
        "\n",
        "<center>\n",
        "<img src=\"https://upload.wikimedia.org/wikipedia/commons/3/3f/Cylinder.svg\" width=20% />\n",
        "</center>\n",
        "\n",
        "- This means that you have to determine the radius $r$ (equal to half the diameter $d$) of the circular base and the height $h$ of the container. \n",
        "\n",
        "- Assume that the thickness of the glass is the same for all shapes of containers so that the cost of the commercial-grade raw materials used to make any glass container can be expressed in terms of the surface area of the cylinder. \n",
        "Your objective is then clear: design a 1000 cm$^3$ container with minimal surface area.\n"
      ]
    },
    {
      "cell_type": "markdown",
      "source": [
        "## The mathematics of the cost of making the jars\n",
        "---\n",
        "\n",
        "The surface area of a container you specify with base radius $r$ and height $h$ is given by\n",
        "\n",
        "$$\n",
        " \\large   S = \\underbrace{\\pi r^2}_{\\text{Base}} + \\underbrace{2\\pi r h}_{\\text{Side}},\n",
        "$$\n",
        "\n",
        "while the volume is given by\n",
        "\n",
        "$$\n",
        "   \\large V = \\pi r^2 h.\n",
        "$$\n",
        "\n",
        "Since the volume needs to be 1000 cm$^3$, the (constrained) optimization problem is summarized as\n",
        "\n",
        "$$\n",
        "\\large    \\begin{array}{c} \n",
        "        \\text{minimize  } S=\\pi r^2 + 2\\pi rh \\\\\n",
        "        \\text{subject to  } 1000 = \\pi r^2h.\n",
        "    \\end{array}\n",
        "$$\n",
        "\n",
        "Using the constraint, we have that $\\large h=\\frac{1000}{\\pi r^2}$, so we can substitute this into the surface area equation to simplify this problem to the following\n",
        "$$\n",
        "\\large \\text{minimize } S=\\pi r^2 + \\frac{2000}{r}.\n",
        "$$\n",
        "\n",
        "The only \"obvious\" constraint now is that $r>0$ (the circular base has to have a positive radius). Otherwise, all positive values of $r$ are now \"fair game\" in the optimal design of the container. \n",
        "\n",
        "Once $r$ is determined, we can use $\\large h=\\frac{1000}{\\pi r^2}$ to determine $h$."
      ],
      "metadata": {
        "id": "GMthq19gMmy7"
      }
    },
    {
      "cell_type": "code",
      "execution_count": null,
      "metadata": {
        "id": "vFsiqw1fjz3C"
      },
      "outputs": [],
      "source": [
        "def surfArea(r):\n",
        "\n",
        "    if np.any(r <= 0):\n",
        "        raise ValueError('The circular base requires r>0')\n",
        "    \n",
        "    S = np.pi*r**2 + 2000/r \n",
        "    \n",
        "    return S"
      ]
    },
    {
      "cell_type": "code",
      "execution_count": null,
      "metadata": {
        "id": "7tYbn5W3jz3E"
      },
      "outputs": [],
      "source": [
        "r = np.linspace(0, 40, 100)\n",
        "\n",
        "plt.figure(figsize=(7,7))\n",
        "plt.plot(r[1:], surfArea(r[1:]))  # Note that we do NOT use r[0] in the plotting\n",
        "plt.title('Surf. Area of 1 L container vs. base radius', fontsize=16)\n",
        "plt.ylabel('Surf. Area [cm$^2$]', fontsize=14)\n",
        "plt.xlabel('Radius [cm] of base', fontsize=14)"
      ]
    },
    {
      "cell_type": "markdown",
      "metadata": {
        "id": "qkGwrFL6jz3G"
      },
      "source": [
        "To find the precise radius where surface area is minimized, we turn to the optimization subpackage of `scipy`.\n",
        "\n",
        "Let's take a few short minutes just to peruse the documentation where we will see references to root finding, derivative approximations, and a bevy of methods useful for optimization: https://docs.scipy.org/doc/scipy/reference/optimize.html"
      ]
    },
    {
      "cell_type": "code",
      "source": [
        "from IPython.display import IFrame\n",
        "IFrame(\"https://docs.scipy.org/doc/scipy/reference/optimize.html\", 900,500)"
      ],
      "metadata": {
        "id": "RrFSMDtdBh4w"
      },
      "execution_count": null,
      "outputs": []
    },
    {
      "cell_type": "code",
      "source": [
        "import scipy.optimize as opt"
      ],
      "metadata": {
        "id": "vNPWKP_-lFjN"
      },
      "execution_count": null,
      "outputs": []
    },
    {
      "cell_type": "code",
      "execution_count": null,
      "metadata": {
        "id": "J0uxZFO9jz3G"
      },
      "outputs": [],
      "source": [
        "optimal_jar_info = opt.minimize(surfArea, x0=5)\n",
        "print(optimal_jar_info)"
      ]
    },
    {
      "cell_type": "code",
      "execution_count": null,
      "metadata": {
        "id": "Bc9ka-9Jjz3G"
      },
      "outputs": [],
      "source": [
        "r_opt = optimal_jar_info.x\n",
        "print(r_opt)"
      ]
    },
    {
      "cell_type": "markdown",
      "source": [
        "We visualize the optimal radius value along with the derivative (using [`scipy.optimize.approx_fprime`](https://docs.scipy.org/doc/scipy/reference/generated/scipy.optimize.approx_fprime.html#scipy.optimize.approx_fprime)) below.\n",
        "\n",
        "The annoying thing about the `approx_fprime` function is that it can only approximate the derivative at a single point. Luckily for us, the `tent` function example above showed us how to turn any function into one that can handle arrays of inputs, which is very useful for plotting purposes. "
      ],
      "metadata": {
        "id": "-1B17d8toQVJ"
      }
    },
    {
      "cell_type": "code",
      "source": [
        "def approx_deriv_4_arrays(f, xs):\n",
        "    n = len(xs)  # obtain the length of the xs array\n",
        "    ys = np.zeros(n)  # Make an array of zeros that is the same length as the array of x values\n",
        "    # Now loop over each of the components in the xs array\n",
        "    for i in range(n):\n",
        "        ys[i] = opt.approx_fprime(xs[i], f, epsilon=1e-7)\n",
        "    \n",
        "    return ys"
      ],
      "metadata": {
        "id": "tjBaIQEEp_gB"
      },
      "execution_count": null,
      "outputs": []
    },
    {
      "cell_type": "code",
      "execution_count": null,
      "metadata": {
        "id": "d3-GcOxajz3F"
      },
      "outputs": [],
      "source": [
        "fig, ax1 = plt.subplots(figsize=(8,8))\n",
        "\n",
        "ax1.set_xlabel('Radius [cm] of base', fontsize=14)\n",
        "ax1.set_ylabel('Surf. Area [cm$^2$]', color='b', fontsize=14)\n",
        "\n",
        "ax1.plot(r[1:], surfArea(r[1:]), color='b')\n",
        "ax1.tick_params(axis='y', labelcolor='b')\n",
        "\n",
        "# instantiate a second axes that shares the same x-axis\n",
        "ax2 = ax1.twinx()  \n",
        "\n",
        "# we already handled the x-label with ax1 so we should just label the new y-axis\n",
        "ax2.set_ylabel('$dS/dr$', color='r', fontsize=14) \n",
        "\n",
        "ax2.plot(r[1:],approx_deriv_4_arrays(surfArea, r[1:]), color='r')\n",
        "ax2.tick_params(axis='y', labelcolor='r')\n",
        "\n",
        "ax2.axhline(0, linewidth=1, linestyle=':', c='k')  # plot typical x-axis\n",
        "ax2.axvline(r_opt, linewidth=1, linestyle=':', c='k');"
      ]
    },
    {
      "cell_type": "markdown",
      "metadata": {
        "id": "zT-YMNXDjz3M"
      },
      "source": [
        "## We forgot the lid! How did we forget the lid?!\n",
        "---\n",
        "\n",
        "So, yeah, we kind of forget to account for the cost of the lid in the container. Oops!\n",
        "\n",
        "Suppose that the cost of the materials for making the glass part of the container is given as $\\$.001$/cm$^2$ for the thickness of glass we need. In other words, it costs one-tenth of one penny per square centimeter of glass needed at the desired thickness. \n",
        "\n",
        "Suppose the cost of the materials for making an aluminum lid is given in terms of $\\$.003$/cm$^2$ at the desired thickness of the lid, in other words, it costs three-tenths of one penny per square centimeter of aluminum needed.\n",
        "\n",
        "The *total cost* (in USD) to produce a single 1 L container (with lid) is given by\n",
        "\n",
        "$$\n",
        "   \\large C = 0.001\\left(\\pi r^2 + \\frac{2000}{r}\\right) + 0.003 \\pi r^2.\n",
        "$$\n",
        "\n",
        "This is coded in the function `totalCost` below. \n",
        "\n"
      ]
    },
    {
      "cell_type": "code",
      "execution_count": null,
      "metadata": {
        "id": "YJ4Xf5s0jz3N"
      },
      "outputs": [],
      "source": [
        "def totalCost(r):\n",
        "\n",
        "    if np.any(r <= 0):\n",
        "        raise ValueError('The circular base requires r>0')\n",
        "    \n",
        "    cost_of_glass = 0.001*surfArea(r)\n",
        "    cost_of_lid = 0.003*np.pi*r**2\n",
        "    \n",
        "    return cost_of_glass + cost_of_lid"
      ]
    },
    {
      "cell_type": "code",
      "execution_count": null,
      "metadata": {
        "id": "MdggToT4jz3N"
      },
      "outputs": [],
      "source": [
        "r = np.linspace(0, 40, 100)\n",
        "\n",
        "plt.figure(figsize=(7,7))\n",
        "plt.plot(r[1:], totalCost(r[1:]))  # Note that we do NOT use r[0] in the plotting\n",
        "plt.title('Total cost of 1 L container vs. base radius', fontsize=16)\n",
        "plt.ylabel('Total cost [\\$]', fontsize=14)\n",
        "plt.xlabel('Radius [cm] of base', fontsize=14)"
      ]
    },
    {
      "cell_type": "code",
      "execution_count": null,
      "metadata": {
        "id": "epZe4TRsjz3N"
      },
      "outputs": [],
      "source": [
        "real_optimal_jar_info = opt.minimize(totalCost, x0=5)\n",
        "print(real_optimal_jar_info)"
      ]
    },
    {
      "cell_type": "code",
      "source": [
        "real_r_opt = real_optimal_jar_info.x"
      ],
      "metadata": {
        "id": "eV2EZxE5t1MC"
      },
      "execution_count": null,
      "outputs": []
    },
    {
      "cell_type": "code",
      "source": [
        "fig, ax1 = plt.subplots(figsize=(8,8))\n",
        "\n",
        "ax1.set_xlabel('Radius [cm] of base', fontsize=14)\n",
        "ax1.set_ylabel('Total Cost [\\$]', color='b', fontsize=14)\n",
        "\n",
        "ax1.plot(r[1:], totalCost(r[1:]), color='b')\n",
        "ax1.tick_params(axis='y', labelcolor='b')\n",
        "\n",
        "# instantiate a second axes that shares the same x-axis\n",
        "ax2 = ax1.twinx()  \n",
        "\n",
        "# we already handled the x-label with ax1 so we should just label the new y-axis\n",
        "ax2.set_ylabel('$dC/dr$', color='r', fontsize=14) \n",
        "\n",
        "ax2.plot(r[1:],approx_deriv_4_arrays(totalCost, r[1:]), color='r')\n",
        "ax2.tick_params(axis='y', labelcolor='r')\n",
        "\n",
        "ax2.axhline(0, linewidth=1, linestyle=':', c='k')  # plot typical x-axis\n",
        "ax2.axvline(real_r_opt, linewidth=1, linestyle=':', c='k')\n",
        "ax2.annotate('Optimal radius\\n' + r'$\\approx$ {:.2f}'.format(real_r_opt[0]), \n",
        "             fontsize=14, xy=(real_r_opt[0], -1), xytext=(real_r_opt[0]+5,-2), \n",
        "             color='k', bbox = bbox, arrowprops = arrowprops);"
      ],
      "metadata": {
        "id": "hbNBmfpBtk2r"
      },
      "execution_count": null,
      "outputs": []
    },
    {
      "cell_type": "markdown",
      "source": [
        "A quick online search will reveal that a typical 24 oz pasta jar (equivalent to about 0.7 L) has a height of about 6.61 inches with a base diameter of about 3.37 inches. \n",
        "Recall that a diameter is just two times the radius.\n",
        "  \n",
        "Which of these problems is producing results that look more like a typical pasta jar in terms of the ratio of height to diameter?"
      ],
      "metadata": {
        "id": "7Gb4oRtxs3B8"
      }
    },
    {
      "cell_type": "code",
      "source": [
        "jar_1_h = 1000/(np.pi*r_opt**2)\n",
        "jar_2_h = 1000/(np.pi*real_r_opt**2)"
      ],
      "metadata": {
        "id": "nNML4tQ9uBkA"
      },
      "execution_count": null,
      "outputs": []
    },
    {
      "cell_type": "code",
      "source": [
        "# \"usual\" ratio of height to radius\n",
        "print('Usual ratio of h to r for pasta jars: ', 6.61/(3.37/2))"
      ],
      "metadata": {
        "id": "fvBmXwl-u0s3"
      },
      "execution_count": null,
      "outputs": []
    },
    {
      "cell_type": "code",
      "source": [
        "print('Minimizing glass results in ratio of h to r of: ', jar_1_h/r_opt)"
      ],
      "metadata": {
        "id": "nq9pJJ8bu8_Z"
      },
      "execution_count": null,
      "outputs": []
    },
    {
      "cell_type": "code",
      "source": [
        "print('Minimizing total cost results in ratio of h to r of: ', jar_2_h/real_r_opt)"
      ],
      "metadata": {
        "id": "XhlNs25yvIt5"
      },
      "execution_count": null,
      "outputs": []
    }
  ],
  "metadata": {
    "kernelspec": {
      "display_name": "Python 3",
      "language": "python",
      "name": "python3"
    },
    "language_info": {
      "codemirror_mode": {
        "name": "ipython",
        "version": 3
      },
      "file_extension": ".py",
      "mimetype": "text/x-python",
      "name": "python",
      "nbconvert_exporter": "python",
      "pygments_lexer": "ipython3",
      "version": "3.9.2"
    },
    "colab": {
      "provenance": []
    }
  },
  "nbformat": 4,
  "nbformat_minor": 0
}