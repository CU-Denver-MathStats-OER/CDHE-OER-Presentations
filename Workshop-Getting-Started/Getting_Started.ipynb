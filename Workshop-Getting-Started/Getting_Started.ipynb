{
  "nbformat": 4,
  "nbformat_minor": 0,
  "metadata": {
    "colab": {
      "provenance": [],
      "collapsed_sections": []
    },
    "kernelspec": {
      "name": "python3",
      "display_name": "Python 3"
    },
    "language_info": {
      "name": "python"
    }
  },
  "cells": [
    {
      "cell_type": "markdown",
      "metadata": {
        "id": "idn6jGEEXAKn"
      },
      "source": [
        "# <center>Workshop on Intro to Data Science and Scientific Computing with Python, Jupyter, and Google's Colab</center>\n",
        "---\n"
      ]
    },
    {
      "cell_type": "markdown",
      "source": [
        "## <center> Acknowledgments </center>\n",
        "---\n",
        "\n",
        "<center>\n",
        "\n",
        "**Support for this workshop is made possible by:**\n",
        "<br><br>\n",
        "\n",
        "**[Doug Sicker](https://www.ucdenver.edu/about/leadership/vice-chancellors/chief-computing-officer), Vice Chancellor of Technology, Strategy, and Innovation & CTO**\n",
        "\n",
        "![Doug Sicker](https://www.ucdenver.edu/images/librariesprovider15/leadership-profile-images/doug-sicker.tmb-image350.jpg?sfvrsn=a84086ba_1)\n",
        "\n",
        "<br><br>\n",
        "\n",
        "**Colorado Department of Higher Education (CDHE) funding for a two-year Institutional OER Grant (2022-24)**\n",
        "<br><br>\n",
        "\n",
        "![CDHE](https://cdhe.colorado.gov/sites/highered/files/logo.svg)\n",
        "\n",
        "</center>\n",
        "\n",
        "<br><br>"
      ],
      "metadata": {
        "id": "SKF2b9BO4bDP"
      }
    },
    {
      "cell_type": "markdown",
      "source": [
        "## Learning Objectives for Notebooks and Colab (Part 1 of Workshop)\n",
        "---\n",
        "\n",
        "<mark>The **big picture** is to see how to incorporate Jupyter notebooks, GitHub, and Colab into your day-to-day workflows (educational, research, or administrative).</mark>\n",
        "\n",
        "- Understand how to load a notebook directly from a GitHub repo into Colab, save a copy to your Google Drive, and organize/move notebook files within your Google Drive.\n",
        "\n",
        "  - Learn to explore/utilize the [Open Educational Resources](https://en.wikipedia.org/wiki/Open_educational_resources) resources developed by [Department of Mathematical and Statistical Sciences at CU Denver](https://clas.ucdenver.edu/mathematical-and-statistical-sciences/) that are disseminated via GitHub: https://github.com/CU-Denver-MathStats-OER.\n",
        "\n",
        "- Understand the notebook environment, the difference between code and Markdown (i.e., Text) cells, and how to add/delete/edit such cells.\n",
        "\n",
        "  - Create Markdown cells with some ***stylized*** ~txt~ text  formats.\n",
        "  \n",
        "  - Understand how to use the commenting feature to annotate both code and Markdown cells.\n",
        "  \n",
        "  - Understand how to Share your notebook by creating a link and controlling permissions.\n",
        "\n",
        "  - Experiment with the execution order of code cells and understand how the order of execution impacts results.\n",
        "\n",
        "  - Understand how to experiment with Scratch code cells."
      ],
      "metadata": {
        "id": "Ci4NHB2M1Z2Z"
      }
    },
    {
      "cell_type": "code",
      "source": [
        "# What happens if you forget to how load a notebook into Colab from GitHub? \n",
        "# Run this code cell to watch a video that reminds you how to do it...\n",
        "\n",
        "from IPython.display import YouTubeVideo\n",
        "\n",
        "YouTubeVideo('8cjcjN5csxc', width=800, height=450)"
      ],
      "metadata": {
        "colab": {
          "base_uri": "https://localhost:8080/",
          "height": 472
        },
        "id": "1yoJiI6iAzRW",
        "outputId": "d2990fdc-dfa4-4b54-d391-0c08adee0df6"
      },
      "execution_count": 1,
      "outputs": [
        {
          "output_type": "execute_result",
          "data": {
            "text/plain": [
              "<IPython.lib.display.YouTubeVideo at 0x7fe5cfbc1c10>"
            ],
            "text/html": [
              "\n",
              "        <iframe\n",
              "            width=\"800\"\n",
              "            height=\"450\"\n",
              "            src=\"https://www.youtube.com/embed/8cjcjN5csxc\"\n",
              "            frameborder=\"0\"\n",
              "            allowfullscreen\n",
              "        ></iframe>\n",
              "        "
            ],
            "image/jpeg": "[encoded data removed]"
          },
          "metadata": {},
          "execution_count": 1
        }
      ]
    },
    {
      "cell_type": "markdown",
      "source": [
        "### A notebook is composed of a sequence of different kinds of cells.\n",
        "---\n",
        "\n",
        "**The two most important types are**\n",
        "\n",
        " - ***Markdown*** cells (called Text cells in Colab), like this one, display text with some formatting. For help with the formatting, Google Colab includes a Markdown Guide notebook. To access it, go to \"File -> Open notebook -> Examples\" and look for the \"Markdown Guide\" notebook and open it in a new tab.\n",
        " \n",
        "   Or, better yet, bookmark a [cheatsheet.](https://github.com/adam-p/markdown-here/wiki/Markdown-Cheatsheet \"Markdown-Cheatsheet\")\n",
        "\n",
        "   Or, ***BEST YET***, just play around/explore/experiment by double-clicking any such cell in any notebook to see ~precisely~ exactly how such text was made to appear the way it appears.\n",
        "\n",
        " - ***Code*** cells contain code to be executed by a particular piece of software (referred to as the *kernel* in more general settings and as the \"Runtime\" on Colab). The cell above this was a code cell that loaded a YouTube video into the notebook.\n",
        " \n",
        "In a traditional Jupyter notebook or Jupyter lab environment, there are also \"raw\" cells that are good for displaying code that does not run, but we will hardly (if ever) use these. Google colab also allows you to \"Insert\" scratch code cells where you can test out or investigate some small pieces of code before putting them in code cells."
      ],
      "metadata": {
        "id": "VmHgT1X3AHQH"
      }
    },
    {
      "cell_type": "markdown",
      "source": [
        "### Colab notebooks have a built-in \"Table of contents\"\n",
        "---\n",
        "\n",
        "<mark>It is useful to double click on this (and any Markdown/text cell) to view contents in their \"raw\" form. This is the quickest way to learn Markdown and also mathematical typesetting with TeX.</mark>\n",
        "\n",
        "- We use #, ##, ###, etc. as section, subsection, subsubsection, etc. headers.\n",
        "\n",
        "- Colab uses these to automatically create an easily navigable \"Table of contents\" that is accessible by either going to \"View --> Table of contents\" or clicking on the top icon in the left panel that looks like the one shown below:\n",
        "<br>\n",
        "\n",
        "<center>\n",
        "<img src=\"https://cdn.iconscout.com/icon/free/png-256/bullets-30-444533.png\" width=15% alt=\"Table of Contents Icon\"/>\n",
        "</center>\n",
        "<br>\n",
        "\n",
        "- We can \"collapse\" (i.e., \"hide from view\") cells in any section or subsection by clicking on the small downward-pointing triangle icon that appears to the left of the cell containing the header:\n",
        "\n",
        "<center>\n",
        "<img src=\"https://cdn.iconscout.com/icon/free/png-256/triangle-173-433424.png\" width=25% />\n",
        "</center>\n",
        "\n",
        "- We can view hidden cells by re-clicking on this triangle icon (which is now pointing to the right):\n",
        "\n",
        "<center>\n",
        "<img src=\"https://upload.wikimedia.org/wikipedia/commons/thumb/8/83/OOjs_UI_icon_rightTriangle.svg/768px-OOjs_UI_icon_rightTriangle.svg.png?20180204153345\" width=25% />\n",
        "</center>\n",
        "\n",
        "- We can add comments to cells by clicking on the \"chat/comment\" icon that appears at the top-right of a given cell and looks similar to the following:\n",
        "\n",
        "<center>\n",
        "<img src=\"https://cdn.iconscout.com/icon/free/png-256/chat-2451564-2082567.png\" width=20%/>\n",
        "</center>\n",
        "\n",
        "- We can move cells using the up/down arrows that appear to the left of the comment icon."
      ],
      "metadata": {
        "id": "F_8sCTQ13JN1"
      }
    },
    {
      "cell_type": "markdown",
      "source": [
        "### Sharing is caring\n",
        "---\n",
        "\n",
        "- It is easy to share a notebook on Colab by choosing \"Share\" in the upper-right corner and either adding people/groups or creating a shareable link under the \"General access\" option. \n",
        "\n",
        "  We play with this in the activity below.\n",
        "\n",
        "- If you give edit access, it is recommended that you first go to \"File --> Save and pin revision\" which allows you to compare changes to view a \"diff\" file showing the differences in your revision history. \n",
        "\n"
      ],
      "metadata": {
        "id": "wQOLT_49_4Tn"
      }
    },
    {
      "cell_type": "markdown",
      "source": [
        "---\n",
        "### Activity 1: Make a stylized list and share (3 minutes)\n",
        "---\n",
        "\n",
        "1. In the Markdown cell below, make a *bullet* list with ~different~ various **stylized** fonts describing what you want from ***this*** workshop. I will help get you started.\n",
        "\n",
        "2. Created a shareable link with permissions set to \"Commenter\" and email that link to someone sitting next to you in the room.\n",
        "\n",
        "3. Add a comment to the cell below in the notebook that is shared with you."
      ],
      "metadata": {
        "id": "ixnquc_J_47H"
      }
    },
    {
      "cell_type": "markdown",
      "source": [
        "<mark>Your response to Activity 1 goes in this cell.</mark>\n",
        "\n",
        "- ~I want Troy to stop talking.~"
      ],
      "metadata": {
        "id": "-V8rrcUn_4py"
      }
    },
    {
      "cell_type": "markdown",
      "source": [
        "End of Activity 1.\n",
        "\n",
        "---"
      ],
      "metadata": {
        "id": "uo0x-vXt_4iL"
      }
    },
    {
      "cell_type": "markdown",
      "source": [
        "### Code cells and execution order\n",
        "---\n",
        "\n",
        "Although the interaction of a notebook is broken down into cells, in a single session of running a notebook ***all of the cell executions form a single \"dialogue\", with persistence of state between cells.***\n",
        "\n",
        "For example, in the next code cell, the line `x = 2` is an assignment: it declares a new variable `x` and set it to have the value `2`. That value will persist if we perform another execution. \n"
      ],
      "metadata": {
        "id": "C1InIYHlFiQX"
      }
    },
    {
      "cell_type": "code",
      "source": [
        "x = 2"
      ],
      "metadata": {
        "id": "W-4igV1yGALp"
      },
      "execution_count": 2,
      "outputs": []
    },
    {
      "cell_type": "code",
      "source": [
        "print(x)"
      ],
      "metadata": {
        "colab": {
          "base_uri": "https://localhost:8080/"
        },
        "id": "t4Jx_mq0GEIJ",
        "outputId": "54ce6c90-8069-4bcb-dc42-db60d5b1126f"
      },
      "execution_count": 3,
      "outputs": [
        {
          "output_type": "stream",
          "name": "stdout",
          "text": [
            "2\n"
          ]
        }
      ]
    },
    {
      "cell_type": "markdown",
      "source": [
        "\n",
        "In Google Colab, selecting \"Runtime -> Restart runtime\" will restart the kernel.\n",
        "\n",
        "In a more traditional Jupyter notebook or Jupyter lab environment, the \"Restart\" command under the \"Kernel\" menu can be used.\n",
        "\n",
        "This will not clear outputs though, which is also generally something you should do when you restart the kernel. In Google Colab, after restarting the runtime, you should also select \"Edit -> Clear all outputs\" which is what I always recommend before a final save, download, and submission/emailing of the notebook. This helps make the file smaller and easier for you to share via traditional means or if it is to be uploaded to Canvas as part of a class assignment. This also helps clear annoying metadata that makes it easier to track commits/changes/etc if you are ultimately hosting such files on GitHub or utilizing another version control software."
      ],
      "metadata": {
        "id": "6mtdoEsmF_p-"
      }
    },
    {
      "cell_type": "markdown",
      "source": [
        "**One potential source of confusion:** when you look at a notebook, you see a series of code cells in the order in which the developer decided to present them. \n",
        "\n",
        "<mark>***However***</mark>, in any given session, you can choose to execute the cells in any order; this includes repeatedly executing a single cell, or skipping one entirely. (Notice the numbers appearing at the top of the left margin of the code cell in square brackets which tells you about the execution order.) \n",
        "\n",
        "In Colab, we are able to go to \"View\" and select \"Executed code history\" which is very useful.\n",
        "\n",
        "This is explored a bit more with the following activity. "
      ],
      "metadata": {
        "id": "Hocd3qhWFiI3"
      }
    },
    {
      "cell_type": "markdown",
      "source": [
        "---\n",
        "### Activity 2: Playing with the order of code execution (3 minutes)\n",
        "---\n",
        "\n",
        "1. Run the code cell below that assigns `x=4` and then scroll back up to the code cell that has `print(x)` and re-run it. \n",
        "\n",
        "2. Go to \"View --> Executed code history\" to understand results from the runtime's (i.e., the kernel's) perspective.\n",
        "\n",
        "3. Go to \"Insert --> Scratch code cell\" and run `x=9` and then re-run the `print(x)` code cell in this notebook. Review the executed code history."
      ],
      "metadata": {
        "id": "hSGNR3kOFiBJ"
      }
    },
    {
      "cell_type": "code",
      "source": [
        "x = 4"
      ],
      "metadata": {
        "id": "siroWaqPHMuY"
      },
      "execution_count": 4,
      "outputs": []
    },
    {
      "cell_type": "markdown",
      "source": [
        "End of Activity 2.\n",
        "\n",
        "---"
      ],
      "metadata": {
        "id": "MR_9dt0YFhyl"
      }
    },
    {
      "cell_type": "code",
      "source": [
        "# Break time!\n",
        "YouTubeVideo('Mw91RJ_m_7g', width=800, height=450)"
      ],
      "metadata": {
        "colab": {
          "base_uri": "https://localhost:8080/",
          "height": 472
        },
        "id": "ZN-OLtEsIy24",
        "outputId": "940f86c0-f983-4c14-86fe-3c0ebf7321c0"
      },
      "execution_count": 5,
      "outputs": [
        {
          "output_type": "execute_result",
          "data": {
            "text/plain": [
              "<IPython.lib.display.YouTubeVideo at 0x7fe5cc158e50>"
            ],
            "text/html": [
              "\n",
              "        <iframe\n",
              "            width=\"800\"\n",
              "            height=\"450\"\n",
              "            src=\"https://www.youtube.com/embed/Mw91RJ_m_7g\"\n",
              "            frameborder=\"0\"\n",
              "            allowfullscreen\n",
              "        ></iframe>\n",
              "        "
            ],
            "image/jpeg": "[encoded data removed]"
          },
          "metadata": {},
          "execution_count": 5
        }
      ]
    },
    {
      "cell_type": "markdown",
      "source": [
        "## Learning Objectives for Notebooks and Colab (Part 2 of Workshop)\n",
        "---\n",
        "\n",
        "In the second part of this workshop, we provide a guided (but brief) tour of notebooks associated with [MATH 1376: Programming for Data Science](https://github.com/CU-Denver-MathStats-OER/Programming-for-Data-Science). \n",
        "\n",
        "We help participants access and save several of these notebooks on their Google Drive and give brief tutorials on several of these notebooks to help you get started with Python. Each of these lecture notebooks contains embedded YouTube video lectures that provide a more thorough explanation of results.\n",
        "\n",
        "Our specific leearning objectives/goals are:\n",
        "\n",
        "- Understand what content is contained within the 6 modules of this course and how to access/interact with this content.\n",
        "\n",
        "- Know the basics of Python critical to all of data science and scientific computing including\n",
        "\n",
        "    - Variable assignment and data types.\n",
        "\n",
        "    - Importing libraries.\n",
        "\n",
        "    - Python indexing and array slicing.\n",
        "\n",
        "    - Plotting/visualizing data.\n",
        "\n",
        "    - User-defined functions.\n",
        "\n",
        "    - Loops?\n",
        "\n",
        "    - Web-scraping?\n",
        "\n",
        "<mark>This is meant to be a high-level introduction that helps to break down barriers and get you started on freely available materials with guided lecture videos. Do not worry if some details are fuzzy initially because they will become clearer over time.</mark>"
      ],
      "metadata": {
        "id": "iJTjejwbHMGM"
      }
    }
  ]
}