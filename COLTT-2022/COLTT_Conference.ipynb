{
  "cells": [
    {
      "cell_type": "markdown",
      "id": "dc860e89-a831-4d66-9fa4-1bbce53a35db",
      "metadata": {
        "id": "dc860e89-a831-4d66-9fa4-1bbce53a35db"
      },
      "source": [
        "<center>\n",
        "\n",
        "---\n",
        "# Colorado Learning and Teaching with Technology\n",
        "---\n",
        "\n",
        "</center>"
      ]
    },
    {
      "cell_type": "markdown",
      "id": "baefcf66-0f11-4740-8170-e0643bbe3cc7",
      "metadata": {
        "id": "baefcf66-0f11-4740-8170-e0643bbe3cc7"
      },
      "source": [
        "<center>\n",
        "\n",
        "---\n",
        "# Creating a Dynamic Learning Environment With Computational Notebooks\n",
        "---\n",
        "\n",
        "<br><br>\n",
        "\n",
        "---\n",
        "An interactive presentation by Troy Butler, Yaning Liu, and Adam Spiegler\n",
        "\n",
        "---\n",
        "\n",
        "<br><br>\n",
        "\n",
        "---\n",
        "Project funded by a two-year Institutional OER Grant from the CDHE (2022-24)\n",
        "\n",
        "---\n",
        "\n",
        "<br><br>\n",
        "\n",
        "---\n",
        "Project GitHub Organization: https://github.com/CU-Denver-MathStats-OER\n",
        "\n",
        "---\n",
        "\n",
        "<br><br>\n",
        "\n",
        "---\n",
        "This presentation: https://github.com/CU-Denver-MathStats-OER/CDHE-OER-Presentations\n",
        "\n",
        "---\n",
        "\n",
        "<br><br>\n",
        "\n",
        "</center>"
      ]
    },
    {
      "cell_type": "markdown",
      "source": [
        "---\n",
        "### Project Participants (Dept. of Math & Stats at CU Denver)\n",
        "---\n",
        "\n",
        "- Troy Butler, Assoc. Prof. & Assoc. Chair\n",
        "\n",
        "- Joshua French, Assoc. Prof. & Director of Statistical Programs\n",
        "\n",
        "- Adam Spiegler, Clinical Assoc. Prof. & Undergraduate Director\n",
        "\n",
        "- Stephen Hartke, Assoc. Prof. & Univ. of Colo. OER Champion Award Winner\n",
        "\n",
        "- Yaning Liu, Asst. Prof.\n",
        "\n",
        "- Gary Olson, Senior Instr. & Director of General Education Mathematics\n",
        "\n",
        "- Dmitry Ostrovsky, Clinical Asst. Prof. \n",
        "\n",
        "- Jonathon Hirschi, Ph.D. Student"
      ],
      "metadata": {
        "id": "b5uMg4_pGEvR"
      },
      "id": "b5uMg4_pGEvR"
    },
    {
      "cell_type": "markdown",
      "source": [
        "---\n",
        "### Project Motivation and Vision\n",
        "---\n",
        "\n",
        "We seek to bring two foundational beliefs together within an OER framework:\n",
        "\n",
        "- We believe in the creation and dissemination of free knowledge.\n",
        "\n",
        "- We believe a revolution in higher-level mathematical and statistical education is required to equip students with the knowledge & skills necessary to compete in a global workforce that demands state-of-the-art computational and data science skills.\n",
        "\n",
        "Our vision is to transform curriculum across multiple levels of mathematics and statistics courses to train students as \"computational experimentalists\" utilizing virtual laboratory settings to enable an active computational learning environment. "
      ],
      "metadata": {
        "id": "HxpZ9BNlIc_u"
      },
      "id": "HxpZ9BNlIc_u"
    },
    {
      "cell_type": "markdown",
      "id": "2f71da2e-ee1f-4ada-a4de-65d18b070e74",
      "metadata": {
        "id": "2f71da2e-ee1f-4ada-a4de-65d18b070e74"
      },
      "source": [
        "---\n",
        "### About Jupyter\n",
        "---\n",
        "\n",
        "[Jupyter](https://jupyter.org/) is\n",
        "\n",
        "> Free software, open standards, and web services for interactive computing across all programming languages\n",
        "\n",
        "Jupyter supports \n",
        "\n",
        "- over 40 programming languages, including Python, R, Julia, and Scala\n",
        "\n",
        "- notebooks containing *rich*, **interactive** ***output***: HTML, images, videos, LaTeX, and custom MIME types"
      ]
    },
    {
      "cell_type": "markdown",
      "source": [
        "---\n",
        "### So, who can use this and what is needed?\n",
        "---\n",
        "\n",
        "- ***ANYONE*** and ***EVERYONE*** can use this as long as you have an internet capable device. \n",
        "\n",
        "- If you can use Google docs, then you can use this!"
      ],
      "metadata": {
        "id": "Tnu6PSOi7ddP"
      },
      "id": "Tnu6PSOi7ddP"
    },
    {
      "cell_type": "markdown",
      "id": "c0614fe1-d9c6-40ee-bda1-33e6314791e9",
      "metadata": {
        "id": "c0614fe1-d9c6-40ee-bda1-33e6314791e9"
      },
      "source": [
        "---\n",
        "### Equity and computing\n",
        "---\n",
        "\n",
        "<mark>**We believe that all computing technology and educational resources should be accessible and usable no matter the socioeconomic circumstances of the user or institution.**</mark>\n",
        "\n",
        "What is needed to *run* a notebook?\n",
        "\n",
        "- An internet capable device with a web browser.\n",
        "\n",
        "  - Institutions with sufficient resources can setup servers to host a Jupyter Hub for users, courses, researchers, etc.\n",
        "  \n",
        "  - Google colaboratory is a free resource that any institution or user can utilize.\n",
        "  \n",
        "***Utilizing cloud based resources levels the playing field and reduces barriers to access. Users with smart phones, tablet computers, laptops, or state-of-the-art desktops all have access to the same exact computing resources.***"
      ]
    },
    {
      "cell_type": "markdown",
      "id": "a294f23b-ddce-49cb-a0d6-dc48443c4a17",
      "metadata": {
        "id": "a294f23b-ddce-49cb-a0d6-dc48443c4a17"
      },
      "source": [
        "---\n",
        "### About those notebooks\n",
        "---\n",
        "\n",
        "Notebooks are made up of a mixture of Markdown cells (like this one) that contain narrative text, mathematics, images, videos, etc., and code cells (like the one below).\n",
        "\n",
        "- Cell contents are ~easy~ ~trivial~ straightforward to edit by the user. \n",
        "\n",
        "- Code cells can be used to import videos of lessons (like the one below) as well as useful libraries/packages (we'll get to that)."
      ]
    },
    {
      "cell_type": "code",
      "execution_count": null,
      "id": "6a3e8a46-9649-40d8-a123-0661bf6b40b3",
      "metadata": {
        "id": "6a3e8a46-9649-40d8-a123-0661bf6b40b3"
      },
      "outputs": [],
      "source": [
        "# 1. Running this cell with embed the short recorded lecture associated with this part of the notebook\n",
        "# 2. Press on the \"play\" button to start the video.\n",
        "\n",
        "from IPython.display import YouTubeVideo\n",
        "\n",
        "YouTubeVideo('x9L3Os8b16k', width=800, height=450)  # Any youtube \"tag\" can be put in here \n",
        "\n",
        "# Try substituting vZ5M2e3gNyo for x9L3Os8b16k above\n",
        "\n",
        "# Try different widths and heights above"
      ]
    },
    {
      "cell_type": "markdown",
      "id": "ad0fe739-b302-4cc5-b520-90d946a5528d",
      "metadata": {
        "id": "ad0fe739-b302-4cc5-b520-90d946a5528d"
      },
      "source": [
        "> ***Mathematics and statistics courses are often taught in a highly refined form that obscures the underlying \"messiness\" in discovery and exploration of concepts and techniques.***\n",
        "\n",
        "---\n",
        "### Inspiring the computational experimentalist, active learning, and bridging the divide between theory and practice\n",
        "---\n",
        "\n",
        "The environment is engaging and intuitive. It promotes an active learning classroom where students and instructors can \n",
        "\n",
        "- create variants of examples in real-time to build intuition,\n",
        "\n",
        "- explore the \"edge\" cases where the theory no longer applies or the computations break-down, and\n",
        "\n",
        "- think and behave, collectively, as \"computational experimentalists\" that treat the computer as a laboratory environment where mathematical and statistical concepts come alive."
      ]
    },
    {
      "cell_type": "markdown",
      "id": "e7d1f74c-86a3-4c0a-ad5e-76cb8da17823",
      "metadata": {
        "id": "e7d1f74c-86a3-4c0a-ad5e-76cb8da17823"
      },
      "source": [
        "---\n",
        "### Example: Exploring the concept of a derivative\n",
        "---\n",
        "\n",
        "*The material in this example is adopted from [MATH 1376: Programming for Data Science](https://github.com/CU-Denver-UQ/Math1376) created by Troy Butler.*\n",
        "\n",
        "It is ***far too common*** in calculus to focus the educational experience on symbolic manipulations that are abstracted away from the meaning behind these manipulations.\n",
        "\n",
        "The derivative is an example where many rules are committed to memory in order to \"quickly compute\" what the derivative of a function is. \n"
      ]
    },
    {
      "cell_type": "markdown",
      "source": [
        "\n",
        "But, what does a derivative mean? Can we visually explore and understand the usefulness of this concept before we learn how to \"take the derivative\" via a seemingly endless plethora of rules?"
      ],
      "metadata": {
        "id": "wMK45hBq8OQI"
      },
      "id": "wMK45hBq8OQI"
    },
    {
      "cell_type": "markdown",
      "source": [
        "---\n",
        "#### The \"usual way\" of teaching derivative (death by symbols)\n",
        "---\n",
        "\n",
        "A function $f:\\mathbb{R}\\to\\mathbb{R}$ has a derivative at $x$ if\n",
        "\n",
        "$$\n",
        "   \\lim_{h\\to 0} \\frac{f(x+h)-f(x)}{h} \n",
        "$$\n",
        "\n",
        "exists as a real number. We denote this limit as $f'(x)$. We sometimes write $\\frac{d}{dx} f(x)$ to denote the derivative as well.\n",
        "\n",
        "- Use this definition to show a few examples of \"simple\" things like\n",
        "\n",
        "  - $f(x)=x$ implies $f'(x)=1$, and\n",
        "  \n",
        "  - $f(x) = x^2$ implies $f'(x)=2x$.\n",
        "  \n",
        "- Show students typical theorems/results like\n",
        "\n",
        "  - Derivatives of polynomials: $f(x) = a_nx^n + a_{n-1}x^{n-1} + \\cdots + a_1x+a_0$ implies $f'(x) = nx^{n-1} + (n-1)a_{n-1}x^{n-2} + \\cdots + 2a_2x + a_1$; \n",
        "  \n",
        "  - Product Rule: $(fg)'(x) = f'(x)g(x) + f(x)g'(x)$; \n",
        "  \n",
        "  - Chain Rule: $(f(g(x))' = f'(g(x))g'(x)$;\n",
        "\n",
        "  - Quotient Rule: $\\left(\\frac{f(x)}{g(x)}\\right)' = \\frac{f'(x)g(x) - f(x)g'(x)}{g^2(x)}$;\n",
        "\n",
        "  - Derivatives of trigonometric functions: $f(x)=\\sin(x)$ implies $f'(x) = \\cos(x)$ but $f(x)=\\cos(x)$ implies $f'(x) = -\\sin(x)$;\n",
        "\n",
        "  - Derivatives of exponential functions: $f(x) = e^x$ implies $f'(x)=e^x$;\n",
        "\n",
        "  - ... and so on and so forth ...\n",
        "\n",
        "- Have students use all of this to perform symbolic gymnastics to show (what we consider simple) derivatives are like\n",
        "\n",
        "$$\n",
        "  \\begin{align}\n",
        "    \\frac{d}{dx}\\frac{e^x}{x^2} &= \\frac{\\left(\\frac{d}{dx} e^x\\right)(x^2) - (e^x)\\left(\\frac{d}{dx} x^2\\right)}{(x^2)^2} \\\\ \\\\\n",
        "                                &= \\frac{(e^x)(x^2)-(e^x)(2x)}{x^4} \\\\ \\\\\n",
        "                                &= \\frac{e^x x(x-2)}{x^4} \\\\ \\\\\n",
        "                                &= \\boxed{\\frac{e^x (x-2)}{x^3}}\n",
        "  \\end{align}\n",
        "$$\n",
        "\n",
        "- And all the while, we wonder why so many are struggling and do not seem to care about this thing we call the derivative.\n"
      ],
      "metadata": {
        "id": "Hzg_VTSg8Qe6"
      },
      "id": "Hzg_VTSg8Qe6"
    },
    {
      "cell_type": "markdown",
      "id": "ec38c49a-a6e9-49b5-aea7-9d58b38e499d",
      "metadata": {
        "id": "ec38c49a-a6e9-49b5-aea7-9d58b38e499d"
      },
      "source": [
        "#### <mark> A computational perspective and Jupyter can illuminate</mark>\n",
        "\n",
        "A function $f:\\mathbb{R}\\to\\mathbb{R}$ has a derivative at $x$ if\n",
        "\n",
        "$$\n",
        "   \\lim_{h\\to 0} \\frac{f(x+h)-f(x)}{h} \n",
        "$$\n",
        "\n",
        "exists as a real number. We denote this limit as $f'(x)$.\n",
        "\n",
        "We often speak of concepts when teaching students how to perform symbolic gymnastics like\n",
        "\n",
        "- a derivative is like a slope of a function (the slope of its tangent line to be precise);\n",
        "\n",
        "- an example of a derivative is velocity which is the derivative of position, and acceleration is the derivative of velocity.\n",
        "\n",
        "But we do not often explore the following *obvious* concept\n",
        "\n",
        "- for any $h\\neq 0$, an approximation to the derivative is *trivial* to compute."
      ]
    },
    {
      "cell_type": "code",
      "source": [
        "def deriv_approx(f, x, h=0.1):\n",
        "    return (f(x+h)-f(x))/h"
      ],
      "metadata": {
        "id": "Pi9Om4RWH4FD"
      },
      "id": "Pi9Om4RWH4FD",
      "execution_count": null,
      "outputs": []
    },
    {
      "cell_type": "markdown",
      "id": "8ecf499f-4337-4e32-be26-d19c4448fa2f",
      "metadata": {
        "id": "8ecf499f-4337-4e32-be26-d19c4448fa2f"
      },
      "source": [
        "Having a computational function to approximate the derivative of *any* function that only requires the function and *no knowledge of what its derivative looks like* allows us to focus on deeper questions immediately like\n",
        "\n",
        "<mark>***What does $\\lim_{h\\to 0}$ mean? What information does this give us? Why should we care?***</mark>\n",
        "\n",
        "We use a mixture of Markdown and code cells to explore the answers to these questions.\n",
        "\n",
        "- Why do we care about the derivative of a function? \n",
        "\n",
        "  - Because the derivative gives us very important information about the function. While you can read a lot about the [derivative on Wikipedia](https://en.wikipedia.org/wiki/Derivative), we are more interested in the [applications of derivatives](https://en.wikipedia.org/wiki/Differential_calculus#Applications_of_derivatives) to build an appreciation and intuition for these objects.\n",
        "\n",
        "  - What is an important application of derivative? \n",
        "  \n",
        "    Briefly put: *optimization*. Where a derivative is equal to zero corresponds to what is called a *critical point* of the function. For our purposes, these are the potential locations of maxima and minima of a function. These points are of great interest in many computational and data science problems."
      ]
    },
    {
      "cell_type": "markdown",
      "source": [
        "We also explore the practical limitations of computations. <mark>***The goal is not just to use computations to gain insight, but to also evaluate computational results critically.***</mark>\n",
        "\n",
        "Otherwise, we may just drive our car into the lake..."
      ],
      "metadata": {
        "id": "nPopqV6AFWOo"
      },
      "id": "nPopqV6AFWOo"
    },
    {
      "cell_type": "code",
      "source": [
        "from datetime import timedelta\n",
        "\n",
        "start=int(timedelta(hours=0, minutes=0, seconds=26).total_seconds())\n",
        "\n",
        "YouTubeVideo(\"DOW_kPzY_JY\", start=start, autoplay=1, theme=\"light\", color=\"red\",\n",
        "             width=850, height=500)"
      ],
      "metadata": {
        "id": "WWjraqzAKPxQ"
      },
      "id": "WWjraqzAKPxQ",
      "execution_count": null,
      "outputs": []
    },
    {
      "cell_type": "code",
      "execution_count": null,
      "id": "5b7a8e93-69ac-474a-adfd-abc6f9f2677a",
      "metadata": {
        "id": "5b7a8e93-69ac-474a-adfd-abc6f9f2677a"
      },
      "outputs": [],
      "source": [
        "import numpy as np  # numpy is a library useful for creating/working with arrays of data\n",
        "import matplotlib.pyplot as plt  # for plotting"
      ]
    },
    {
      "cell_type": "code",
      "execution_count": null,
      "id": "2f71d22e-acfb-4eb4-ab71-f775e51a0874",
      "metadata": {
        "id": "2f71d22e-acfb-4eb4-ab71-f775e51a0874"
      },
      "outputs": [],
      "source": [
        "def my_fun(x):  # a function with a somewhat interesting plot\n",
        "    return np.exp(-x**2)*np.sin(np.pi*x)"
      ]
    },
    {
      "cell_type": "code",
      "execution_count": null,
      "id": "6c88232b-0da9-41bc-9aa9-399267bde10d",
      "metadata": {
        "id": "6c88232b-0da9-41bc-9aa9-399267bde10d"
      },
      "outputs": [],
      "source": [
        "# Where the derivative is zero is where the function achieves\n",
        "# its maxima or minima. Pay attention # to where the derivative \n",
        "# curve crosses the x-axis and where the maxima of the function is.\n",
        "\n",
        "fig, ax1 = plt.subplots(figsize=(8,5))\n",
        "\n",
        "x = np.linspace(0, 3, 200)  # an array of 200 equally spaced numbers from 0 to 3\n",
        "\n",
        "ax1.plot(x, my_fun(x), color='b')\n",
        "ax1.set_ylabel('f(x)', color='b', fontsize=22)\n",
        "\n",
        "# instantiate a second axes that shares the same x-axis\n",
        "ax2 = ax1.twinx()  \n",
        "\n",
        "h = 0.01  # Try 0.1, 0.01, and then 1e-7, 1e-12, 1e-15, and 1e-20. What is happening?!\n",
        "ax2.plot(x, deriv_approx(my_fun, x, h=h), color='r')\n",
        "ax2.set_ylabel(r'$\\approx f^\\prime$', color='r', fontsize=22) \n",
        "\n",
        "# Let's add the x-axis to the ax2 plot so that we can see where the derivative\n",
        "# is equal to zero\n",
        "ax2.axhline(0, linewidth=1, linestyle=':', c='k')  # plot typical x-axis\n",
        "\n",
        "plt.tight_layout()"
      ]
    },
    {
      "cell_type": "markdown",
      "id": "4add3b7d-e308-47e0-a7a8-57cc71085726",
      "metadata": {
        "id": "4add3b7d-e308-47e0-a7a8-57cc71085726"
      },
      "source": [
        "---\n",
        "#### Enhancing interactivity with widgets\n",
        "---\n",
        "\n",
        "***We use widgets to create interactivity with functions. [Widgets](https://ipywidgets.readthedocs.io/en/latest/examples/Widget%20List.html) are very useful for illustrating concepts and exploring ideas. They are very useful when we are visualizing the impact of varying choices of inputs to functions in plots.***"
      ]
    },
    {
      "cell_type": "code",
      "execution_count": null,
      "id": "6f772280-c5b5-4171-9d91-8f36fcfd53ac",
      "metadata": {
        "id": "6f772280-c5b5-4171-9d91-8f36fcfd53ac"
      },
      "outputs": [],
      "source": [
        "# Usually place these at the top of a notebook if you know you are going to use\n",
        "# widgets. This cell only needs to be executed once\n",
        "from ipywidgets import interact, interactive, fixed, interact_manual\n",
        "import ipywidgets as widgets"
      ]
    },
    {
      "cell_type": "code",
      "source": [
        "# A special thing from colab to enable widgets\n",
        "from google.colab import output\n",
        "output.enable_custom_widget_manager()"
      ],
      "metadata": {
        "id": "Ey119YA64id9"
      },
      "id": "Ey119YA64id9",
      "execution_count": null,
      "outputs": []
    },
    {
      "cell_type": "code",
      "execution_count": null,
      "id": "7f8fc25a-cb44-47ed-9bc2-b14a1cade840",
      "metadata": {
        "id": "7f8fc25a-cb44-47ed-9bc2-b14a1cade840"
      },
      "outputs": [],
      "source": [
        "def plot_derivs(f, h, n, xmin=0.05, xmax=1):\n",
        "\n",
        "    fig, ax1 = plt.subplots(figsize=(8, 5))  # create a figure for the plots\n",
        "    x = np.linspace(xmin, xmax, n)\n",
        "\n",
        "    fprime = deriv_approx(f, x, h) \n",
        "    \n",
        "    ax1.plot(x, f(x), c='b')\n",
        "    ax1.set_ylabel('f(x)', color='b', fontsize=22)\n",
        "\n",
        "    # instantiate a second axes that shares the same x-axis\n",
        "    ax2 = ax1.twinx()  \n",
        "\n",
        "    ax2.plot(x, deriv_approx(f, x, h=h), color='r')\n",
        "    ax2.set_ylabel(r'$\\approx f^\\prime$', color='r', fontsize=22) \n",
        "\n",
        "    # Let's add the x-axis to the ax2 plot so that we can see where the derivative\n",
        "    # is equal to zero\n",
        "    ax2.axhline(0, linewidth=1, linestyle=':', c='k')  # plot typical x-axis\n",
        "\n",
        "    plt.title('Using n=' + str(n) + ' and h=' + str(h))\n",
        "    plt.tight_layout()\n",
        "    plt.show()"
      ]
    },
    {
      "cell_type": "markdown",
      "id": "d65595d6-6f79-46ed-8aba-4fac0df165ce",
      "metadata": {
        "id": "d65595d6-6f79-46ed-8aba-4fac0df165ce"
      },
      "source": [
        "<mark>**Using the function `my_f` and widget below, we explore the \"limit\" as $h\\downarrow 0$ which is useful for understanding the limits of computations.**</mark>\n",
        "\n",
        "Remember, we do not want to drive into the lake...\n",
        "\n",
        "![Don't drive into the lake](https://68.media.tumblr.com/bcfa1cd1d333bdbd46f739c47a9aaac5/tumblr_o77cb0RYPa1snyhzgo1_250.gif)"
      ]
    },
    {
      "cell_type": "code",
      "execution_count": null,
      "id": "3688f162-5eba-43f3-8a0e-b9fa91d2dd14",
      "metadata": {
        "id": "3688f162-5eba-43f3-8a0e-b9fa91d2dd14"
      },
      "outputs": [],
      "source": [
        "def my_f(x):\n",
        "    return x**2*np.sin(np.pi*1/x)"
      ]
    },
    {
      "cell_type": "code",
      "execution_count": null,
      "id": "b002f0fd-99ac-4f3c-a59b-9448e8ca1cf3",
      "metadata": {
        "id": "b002f0fd-99ac-4f3c-a59b-9448e8ca1cf3"
      },
      "outputs": [],
      "source": [
        "%reset -f out \n",
        "\n",
        "%matplotlib inline\n",
        "# Click on \"Run Interact\" to create the plot for each new choice of n or h.\n",
        "\n",
        "interact_manual(plot_derivs, \n",
        "                f=fixed(my_f),\n",
        "                h=widgets.FloatLogSlider(value=0.01, min=-20, max=-2, base=10, step=1),\n",
        "                n=widgets.IntSlider(value=100, min=50, max=10000, step=50),\n",
        "                xmin = fixed(0.01),\n",
        "                xmax = fixed(1))"
      ]
    },
    {
      "cell_type": "markdown",
      "id": "11079ebc-c9f9-401c-a972-5d0c8af96b23",
      "metadata": {
        "id": "11079ebc-c9f9-401c-a972-5d0c8af96b23"
      },
      "source": [
        "---\n",
        "### Example: Animations and Simulated Experiments\n",
        "---\n",
        "\n",
        "*The material in this example will appear in Chapter 5 of the OER Jupyter Notebook based textbook for [Introduction to Partial Differential Equations: Theory and Computations](https://github.com/CU-Denver-MathStats-OER/Intro-PDEs-Theory-and-Computations) created by Troy Butler and supported by a CDHE OER institutional grant.*\n",
        "\n",
        "The following partial differential equation, boundary conditions, and initial conditions describe the motion of a wave in a single spatial dimension for an \"elastic string\" of unit length that is clamped down at the endpoints $x=0$ and $x=1$, and is initially deformed into a shape described by $f(x)$ with an initial speed described by $g(x)$, \n",
        "\n",
        "$$\n",
        "\\begin{eqnarray*}\n",
        "    u_{tt} &=& u_{xx}, \\qquad x\\in(0,1), \\ t>0, \\\\ \n",
        "    u(0,t) &=& u(1,t) = 0, \\qquad  t>0, \\\\ \n",
        "    u(x,0) &=& f(x), \\qquad x\\in(0,1), \\\\\n",
        "    u_t(x,0) &=& g(x), \\qquad x\\in(0,1).\n",
        "\\end{eqnarray*}\n",
        "$$\n",
        "\n",
        "We use some basic approximations to derivatives to discretize this equation and obtain intuition about the behavior of solutions. For simplicity, we set $g(x)=0$."
      ]
    },
    {
      "cell_type": "code",
      "execution_count": null,
      "id": "6ab83fec-4474-4318-b7e3-dc263b87e7ab",
      "metadata": {
        "id": "6ab83fec-4474-4318-b7e3-dc263b87e7ab"
      },
      "outputs": [],
      "source": [
        "def f(x):  # It is kind of fun to change this by choosing which function to return\n",
        "    # Try x*(1-x)\n",
        "    # Try x*(1-x)*(0.2-x), it is my favorite\n",
        "    # Try np.sin(k * np.pi * x) for different choices of k like 2, 5, 10\n",
        "    # Try x*np.sin(1/x)*(1-x)\n",
        "    # Can also try some that don't satisfy the BCs like np.sin(1/x)\n",
        "    return x*(1-x)*(0.2-x)"
      ]
    },
    {
      "cell_type": "code",
      "execution_count": null,
      "id": "348caccc-0d66-463f-8e5c-a1c8a7ef8b84",
      "metadata": {
        "id": "348caccc-0d66-463f-8e5c-a1c8a7ef8b84"
      },
      "outputs": [],
      "source": [
        "g = lambda x: 0"
      ]
    },
    {
      "cell_type": "code",
      "execution_count": null,
      "id": "b8053d31-bc2b-4cee-aeb4-4fc3955272ec",
      "metadata": {
        "id": "b8053d31-bc2b-4cee-aeb4-4fc3955272ec"
      },
      "outputs": [],
      "source": [
        "def make_A(n):\n",
        "    A = np.zeros((n,n))\n",
        "    np.fill_diagonal(A,2)\n",
        "    A += np.diag(-np.ones(n-1),k=1)\n",
        "    A += np.diag(-np.ones(n-1),k=-1)    \n",
        "    A *= 1/dx**2\n",
        "    return A"
      ]
    },
    {
      "cell_type": "code",
      "execution_count": null,
      "id": "7875908d-aad5-4ef1-b7bc-7c585f599cd2",
      "metadata": {
        "id": "7875908d-aad5-4ef1-b7bc-7c585f599cd2"
      },
      "outputs": [],
      "source": [
        "# Choose an n for discretizing space (and subsequently time)\n",
        "n = 49  \n",
        "\n",
        "# Now setup the spatial-temporal discretization\n",
        "x = np.linspace(0,1,n+2)\n",
        "dx = x[1]-x[0]\n",
        "A = make_A(n)\n",
        "\n",
        "r = 1.0  # If this is greater than 1, then numerical solutions become unstable\n",
        "dt = r*dx\n",
        "\n",
        "B = 2*np.eye(n)-dt**2*A"
      ]
    },
    {
      "cell_type": "code",
      "execution_count": null,
      "id": "eb5176f5-0c88-439d-b72a-d8a021f34589",
      "metadata": {
        "id": "eb5176f5-0c88-439d-b72a-d8a021f34589"
      },
      "outputs": [],
      "source": [
        "# Now setup the numpy arrays that we utilize for visualization purposes\n",
        "v_old = f(x)\n",
        "v_current = 0*x\n",
        "v_current[1:-1] = v_old[1:-1] + dt*g(x[1:-1]) - dt**2/2.*np.dot(A,v_old[1:-1])\n",
        "\n",
        "def v_at_frame(v_current, v_old):\n",
        "    # Create the solution to plot in a given frame of the movie\n",
        "    v_new = np.dot(B,v_current[1:-1]) - v_old[1:-1] \n",
        "    \n",
        "    # Update state of wave in-place\n",
        "    v_old *= 0\n",
        "    v_old += v_current\n",
        "    v_current *= 0\n",
        "    v_current[1:-1] += v_new\n",
        "    return"
      ]
    },
    {
      "cell_type": "code",
      "execution_count": null,
      "id": "45609c28-5021-4e35-83db-58863c1dba9c",
      "metadata": {
        "id": "45609c28-5021-4e35-83db-58863c1dba9c"
      },
      "outputs": [],
      "source": [
        "from matplotlib.animation import FuncAnimation\n",
        "\n",
        "from IPython.display import HTML"
      ]
    },
    {
      "cell_type": "code",
      "execution_count": null,
      "id": "be5a8837-f2fb-4499-9c1c-f11125c1535f",
      "metadata": {
        "id": "be5a8837-f2fb-4499-9c1c-f11125c1535f"
      },
      "outputs": [],
      "source": [
        "fig, ax = plt.subplots(figsize=(8,5))\n",
        "line1 = ax.plot([], [], 'b')[0]  # Using b-. or b: for line-style will create a weird visual\n",
        "line2 = ax.plot([], [], 'r:')[0]\n",
        "line3 = ax.plot([], [], markersize=10, marker='s', mfc='k')[0]\n",
        "\n",
        "ax.set_xlim(0, 1)\n",
        "ax.set_ylim(-1.1*np.max(np.abs(f(x[1:-1]))), 1.1*np.max(np.abs(f(x[1:-1]))))\n",
        "\n",
        "plt.title('The Wave')\n",
        "time_text = ax.text(0.1, 0.9*np.max(np.abs(f(x[1:-1]))), \"\", \n",
        "                    fontsize=15, color='red',\n",
        "                    bbox=dict(facecolor='blue', alpha=0.1))\n",
        "plt.tight_layout()\n",
        "plt.close()\n",
        "\n",
        "def animate_v(frame, v_current, v_old):\n",
        "    v_at_frame(v_current, v_old)\n",
        "    line1.set_data((x, v_current))\n",
        "    t = frame*dt\n",
        "    time_text.set_text(\"Time: {:5.2f}\".format(t))\n",
        "    line2.set_data([0.5, 0.5], [-1, 1])\n",
        "    marker_idx = np.argmax(np.abs(v_current))\n",
        "    #line3.set_data(x[marker_idx],v_current[marker_idx])\n",
        "    return line1, line2, line3\n",
        "\n",
        "anim = FuncAnimation(fig, animate_v, frames=int((4/dt)), fargs=(v_current, v_old,), interval=1000*dt)"
      ]
    },
    {
      "cell_type": "code",
      "execution_count": null,
      "id": "2f2c318a-bdf4-4d37-92b4-06c6a1233a4f",
      "metadata": {
        "tags": [],
        "id": "2f2c318a-bdf4-4d37-92b4-06c6a1233a4f"
      },
      "outputs": [],
      "source": [
        "HTML(anim.to_jshtml())"
      ]
    },
    {
      "cell_type": "markdown",
      "metadata": {
        "id": "8623739e"
      },
      "source": [
        "---\n",
        "### High-level math is not immune to death by symbols\n",
        "---\n",
        "\n",
        "*The material below is taken from course material that will appear in the Numerical Analysis OER material created by Yaning Liu.*\n",
        "\n",
        "<mark> ***Below, we show how students are usually exposed to Newton's method in a 4000/5000 Numerical Analysis course and contrast that with how Jupyter can enhance the learning experience.*** </mark>"
      ],
      "id": "8623739e"
    },
    {
      "cell_type": "markdown",
      "metadata": {
        "id": "19b51d96"
      },
      "source": [
        "#### Newton's Method: A \"Traditional\" Presentation\n",
        "\n",
        "**Begin with assumptions, derive method, summarize, and provide a graphical interpretation**\n",
        "\n",
        "Suppose $f\\in C^{2}[a,b],$ i.e., $f,f',f''$ are continuous on $[a,b].$\n",
        "Let $p_{0}$ be a \"good\" approximation to $p$ such that $f'(p_{0})\\neq0$\n",
        "and $|p-p_{0}|$ is \"small\". First Taylor polynomial for $f$\n",
        "at $p_{0}$ with the remainder term is\n",
        "\n",
        "$$\n",
        "f(x)=f(p_{0})+(x-p_{0})f'(p_{0})+\\frac{(x-p_{0})^{2}}{2!}f''(\\xi(x))\n",
        "$$\n",
        "\n",
        "where $\\xi(x)$ is a number between $x$ and $p_{0}.$ Substitute\n",
        "$x=p$ and note $f(p)=0$ to get:\n",
        "\n",
        "$$\n",
        "0=f(p_{0})+(p-p_{0})f'(p_{0})+\\frac{(p-p_{0})^{2}}{2!}f''(\\xi(p))\n",
        "$$\n",
        "\n",
        "where $\\xi(p)$ is a number between $p$ and $p_{0}.$ Rearrange the equation to get\n",
        "\n",
        "$$\n",
        "p=p_{0}-\\frac{f(p_{0})}{f'(p_{0})}-\\frac{(p-p_{0})^{2}}{2}\\frac{f''(\\xi(p))}{f'(p_{0})}.\n",
        "$$\n",
        "\n",
        "If $|p-p_{0}|$ is \"small\" then $(p-p_{0})^{2}$ is even smaller,\n",
        "and the error term can be dropped to obtain the following approximation:\n",
        "\n",
        "$$\n",
        "p\\approx p_{0}-\\frac{f(p_{0})}{f'(p_{0})}.\n",
        "$$\n",
        "\n",
        "The idea in Newton's method is to set the next iterate, $p_{1}$, to this approximation:\n",
        "\n",
        "$$\n",
        "p_{1}=p_{0}-\\frac{f(p_{0})}{f'(p_{0})}.\n",
        "$$\n",
        "\n",
        "From above, we now write\n",
        "\n",
        "$$\n",
        "p=p_{1}-\\frac{(p-p_{0})^{2}}{2}\\frac{f''(\\xi(p))}{f'(p_{0})}.$$\n",
        "\n",
        "**Summary**: \n",
        "Start with an initial approximation $p_{0}$ to $p$\n",
        "and generate the sequence $\\{p_{n}\\}_{n=1}^{\\infty}$ by\n",
        "\n",
        "$$\n",
        "p_{n}=p_{n-1}-\\frac{f(p_{n-1})}{f'(p_{n-1})},n\\geq 1.\n",
        "$$\n",
        "\n",
        "This is called Newton's method.\n",
        "\n",
        "**Graphical interpretation:**\n",
        "\n",
        "Start with $p_{0}.$ Draw the tangent line at $(p_{0},f(p_{0}))$\n",
        "and approximate $p$ by the intercept $p_{1}$ of the line:\n",
        "\n",
        "$$\n",
        "f'(p_{0})=\\frac{0-f(p_{0})}{p_{1}-p_{0}}\\Rightarrow p_{1}-p_{0}=-\\frac{f(p_{0})}{f'(p_{0})}\\Rightarrow p_{1}=p_{0}-\\frac{f(p_{0})}{f'(p_{0})}.\n",
        "$$\n",
        "\n",
        "Now draw the tangent at $(p_{1},f(p_{1}))$ and continue.\n"
      ],
      "id": "19b51d96"
    },
    {
      "cell_type": "markdown",
      "source": [
        "---\n",
        "#### Utilizing a gif in Jupyter to bring the graphical interpretation to life\n",
        "---\n",
        "\n",
        "![Newton's method illustrated](https://upload.wikimedia.org/wikipedia/commons/e/e0/NewtonIteration_Ani.gif)"
      ],
      "metadata": {
        "id": "e-Vh1u5Ncoxv"
      },
      "id": "e-Vh1u5Ncoxv"
    },
    {
      "cell_type": "markdown",
      "metadata": {
        "id": "7e082733"
      },
      "source": [
        "---\n",
        "#### Utilizing code to explore Newton's method\n",
        "---\n",
        "\n",
        "Let's apply Newton's method to find the root of $f(x)=x^5+2x^3-5x-2$, a function we considered before. First, we plot the function."
      ],
      "id": "7e082733"
    },
    {
      "cell_type": "code",
      "execution_count": null,
      "metadata": {
        "scrolled": true,
        "id": "9a0df386"
      },
      "outputs": [],
      "source": [
        "def newton(f, fprime, pin, eps, N):\n",
        "    n = 1\n",
        "    p = 0. # to ensure the value of p carries out of the while loop\n",
        "    while n <= N:\n",
        "        p = pin - f(pin)/fprime(pin)\n",
        "        if np.isclose(f(p), 0) or np.abs(p-pin) < eps:\n",
        "            print('p is ', p, ' and the iteration number is ', n)\n",
        "            return\n",
        "        pin = p\n",
        "        n += 1\n",
        "    y = f(p)\n",
        "    print('Method did not converge. The last iteration gives ', \n",
        "          p, ' with function value ', y)"
      ],
      "id": "9a0df386"
    },
    {
      "cell_type": "code",
      "execution_count": null,
      "metadata": {
        "scrolled": false,
        "id": "994959eb"
      },
      "outputs": [],
      "source": [
        "plt.figure(figsize=(12,6))\n",
        "x = np.linspace(-2, 2, 1000)\n",
        "y = x**5+2*x**3-5*x-2\n",
        "ax = plt.gca()\n",
        "ax.spines['left'].set_position('center')\n",
        "ax.spines['right'].set_position('center')\n",
        "ax.spines['bottom'].set_position('center')\n",
        "ax.spines['top'].set_position('center')\n",
        "ax.set_ylim([-40, 40])\n",
        "plt.plot(x,y, lw=2),\n",
        "plt.title('$f(x)=x^5+2x^3-5x-2$', fontsize=20);"
      ],
      "id": "994959eb"
    },
    {
      "cell_type": "markdown",
      "metadata": {
        "id": "bde5368d"
      },
      "source": [
        "The derivative is $f'=5x^4+6x^2-5$, we set $\\text{pin}=1$,\n",
        "$\\text{eps}=\\epsilon=10^{-4}$, and $N=20$, in the code."
      ],
      "id": "bde5368d"
    },
    {
      "cell_type": "code",
      "execution_count": null,
      "metadata": {
        "scrolled": true,
        "id": "7bc00f64"
      },
      "outputs": [],
      "source": [
        "newton(lambda x: x**5+2*x**3-5*x-2, lambda x: 5*x**4+6*x**2-5, pin=1, eps=1e-4, N=20)"
      ],
      "id": "7bc00f64"
    },
    {
      "cell_type": "markdown",
      "metadata": {
        "id": "8cbb2741"
      },
      "source": [
        "---\n",
        "#### Utilizing code with animations to illustrate convergence of Newton's method\n",
        "---"
      ],
      "id": "8cbb2741"
    },
    {
      "cell_type": "code",
      "execution_count": null,
      "metadata": {
        "scrolled": true,
        "id": "4cff9866"
      },
      "outputs": [],
      "source": [
        "def newton_animation(f, fprime, pin, eps, N):\n",
        "    n = 1\n",
        "    p = pin # to ensure the value of p carries out of the while loop\n",
        "    while n <= N:\n",
        "        p = pin - f(pin)/fprime(pin)\n",
        "        if np.isclose(f(p), 0) or np.abs(p-pin) < eps:\n",
        "            return p\n",
        "        pin = p\n",
        "        n += 1\n",
        "    return p"
      ],
      "id": "4cff9866"
    },
    {
      "cell_type": "code",
      "execution_count": null,
      "metadata": {
        "scrolled": false,
        "id": "d68921a9"
      },
      "outputs": [],
      "source": [
        "pin = -3\n",
        "fig, ax = plt.subplots(figsize=(12,5))\n",
        "def animate(i):\n",
        "    ax.cla()\n",
        "    ax.set_xlim(-4, 4)\n",
        "    ax.set_ylim(-50, 50)\n",
        "    x = newton_animation(lambda x: x**5+2*x**3-5*x-2, lambda x: 5*x**4+6*x**2-5, pin, 1e-4, i)\n",
        "    ax.plot(x, 0, 'o')\n",
        "    xf = np.linspace(-10, 10, 1000)\n",
        "    yf = xf**5+2*xf**3-5*xf-2\n",
        "    yp = (5*x**4+6*x**2-5)*(xf-x) + (x**5+2*x**3-5*x-2)\n",
        "    ax.plot(xf, yf, 'b')\n",
        "    ax.plot(xf, yp, 'r')\n",
        "    ax.legend(['Current estimate', 'f', \"f'\"])\n",
        "    ax.axhline()\n",
        "    ax.axvline()\n",
        "    ax.set_title('Iteration step '+str(i))\n",
        "plt.close()\n",
        "anim = FuncAnimation(fig, animate, frames=20, interval=500)\n",
        "HTML(anim.to_jshtml())"
      ],
      "id": "d68921a9"
    },
    {
      "cell_type": "markdown",
      "metadata": {
        "id": "4411bfa4"
      },
      "source": [
        "---\n",
        "#### Utilizing widgets to explore different convergence regions\n",
        "---"
      ],
      "id": "4411bfa4"
    },
    {
      "cell_type": "code",
      "execution_count": null,
      "metadata": {
        "scrolled": false,
        "id": "8b87eb19"
      },
      "outputs": [],
      "source": [
        "interact(newton, f=fixed(lambda x: x**5+2*x**3-5*x-2), fprime=fixed(lambda x: 5*x**4+6*x**2-5), \n",
        "         pin=widgets.FloatSlider(min=-10, max=10, interval=0.1, description='Initial guess'),\n",
        "         eps=fixed(1e-4), N=fixed(200));\n",
        "# picture with fractals"
      ],
      "id": "8b87eb19"
    },
    {
      "cell_type": "markdown",
      "metadata": {
        "id": "20c40383"
      },
      "source": [
        "---\n",
        "#### Utilizing visualizations to explore convergence regions and connections to fractals\n",
        "---\n",
        "\n",
        "Consider the complex polynomial $z^3−1$, whose zeros are the three cube roots of unity. Generate a picture showing three basins of attraction in the complex plane in the square region defined by $−1 \\le \\text{Real}(z) \\le 1$ and $−1 \\le \\text{Imaginary}(z) \\le 1$."
      ],
      "id": "20c40383"
    },
    {
      "cell_type": "code",
      "execution_count": null,
      "metadata": {
        "scrolled": true,
        "id": "d2c462dc"
      },
      "outputs": [],
      "source": [
        "# Modify the code so that the stopping criterion is changed.\n",
        "def Newton_tol(f, fp, x_0, tol, kmax):\n",
        "    \"\"\"\n",
        "    Newton Ralphsom Method\n",
        "    f: the function\n",
        "    fp: first derivative of the function\n",
        "    x_0: initial guess\n",
        "    tol: if the error between the two iterates from two successive\n",
        "         steps is less than tol, and the function evaluated at the\n",
        "         iterate is less than tol, then stop.\n",
        "    kmax: the maximum number of iterations.\n",
        "    return the approximated solution and bool variable to show\n",
        "    True: successfully converged; False: did not converge\n",
        "    \"\"\"    \n",
        "    sol_old = x_0\n",
        "    sol_new = sol_old - f(sol_old)/fp(sol_old)\n",
        "    count = 1\n",
        "    while (np.abs(sol_new-sol_old) > tol \n",
        "           or np.abs(f(sol_new)) > tol) and count < kmax:\n",
        "        sol_old = sol_new\n",
        "        sol_new = sol_old - f(sol_old)/fp(sol_old)\n",
        "        count += 1\n",
        "    \n",
        "    if (np.abs(sol_new-sol_old) > tol \n",
        "        or np.abs(f(sol_new)) > tol):\n",
        "        success = False\n",
        "    else:\n",
        "        success = True\n",
        "    # Find which root it converges to\n",
        "    distances = np.abs(sol_new-np.array([-1/2+np.sqrt(3)/2j, -1/2-np.sqrt(3)/2j, 1]))\n",
        "    pos = np.argmin(distances)\n",
        "    return sol_new, success, pos"
      ],
      "id": "d2c462dc"
    },
    {
      "cell_type": "code",
      "execution_count": null,
      "metadata": {
        "scrolled": true,
        "id": "ffb4ea85"
      },
      "outputs": [],
      "source": [
        "def f(x):\n",
        "    return x**3 - 1\n",
        "\n",
        "def fp(x):\n",
        "    return 3*x**2"
      ],
      "id": "ffb4ea85"
    },
    {
      "cell_type": "markdown",
      "metadata": {
        "id": "c447f0d8"
      },
      "source": [
        "Now use $200\\times 200$ pixels."
      ],
      "id": "c447f0d8"
    },
    {
      "cell_type": "code",
      "execution_count": null,
      "metadata": {
        "scrolled": false,
        "id": "a2653770"
      },
      "outputs": [],
      "source": [
        "# 200 pixels in each axis, so 1001 end points\n",
        "n = 201\n",
        "x = np.linspace(-1., 1., n)\n",
        "y = np.linspace(-1., 1., n)\n",
        "xx, yy = np.meshgrid(x, y)\n",
        "# zz is 1 if success, 0 if not success\n",
        "zz = np.zeros((n-1, n-1))\n",
        "sol = np.zeros((n-1, n-1))\n",
        "\n",
        "# For each mid point use Newton iteraton, and return success\n",
        "tol = 1e-5\n",
        "kmax = 100\n",
        "for i in range(n-1):\n",
        "    for j in range(n-1):\n",
        "        tmp,zz[i,j],sol[i,j] = Newton_tol(f, fp, (xx[i,j]+xx[i,j+1])/2+(yy[i,j]+yy[i+1,j])/2j, \n",
        "                                      tol, kmax)\n",
        "        \n",
        "\n",
        "plt.figure(figsize=(12,8))\n",
        "plt.pcolor(xx, yy, sol)\n",
        "plt.colorbar()\n",
        "# Plot the three roots\n",
        "plt.plot(-1/2, np.sqrt(3)/2, 'o', c=(1,0,0))\n",
        "plt.text(-1/2-1/10, np.sqrt(3)/2, '$r_1$', c=(1,0,0), size=12)\n",
        "plt.plot(-1/2, -np.sqrt(3)/2, 'o', c=(1,0,0))\n",
        "plt.text(-1/2-1/10, -np.sqrt(3)/2, '$r_2$', c=(1,0,0), size=12)\n",
        "plt.plot(1, 0, 'o', c=(1,0,0))\n",
        "plt.text(1-1/10, 0, '$r_3$', c=(1,0,0), size=12);"
      ],
      "id": "a2653770"
    },
    {
      "cell_type": "markdown",
      "metadata": {
        "id": "499bf251"
      },
      "source": [
        "---\n",
        "## Another example of enhanced learning with Jupyter: Exploring Runge's Phenomen\n",
        "---"
      ],
      "id": "499bf251"
    },
    {
      "cell_type": "markdown",
      "metadata": {
        "id": "2ccf0dc4"
      },
      "source": [
        "Interpolate $f(x)=1/(1+12x^2)$ at evenly spaced points in $[-1,1]$. We consider using $2, 3, 4,...30$ points."
      ],
      "id": "2ccf0dc4"
    },
    {
      "cell_type": "code",
      "execution_count": null,
      "metadata": {
        "scrolled": false,
        "id": "c3f536f6"
      },
      "outputs": [],
      "source": [
        "# Newton Divided Difference Interpolation Method\n",
        "def NewtonDivDiffInterp(x, y):\n",
        "    \"\"\"\n",
        "    Computes coefficients of interpolating polynomial\n",
        "    x: the x coordinate of the data points\n",
        "    y: the y coordinate of the data points\n",
        "    return: the coefficients $c$ of \n",
        "    \"\"\"\n",
        "    if x.size != y.size:\n",
        "        print('x and y should have the same size!')\n",
        "        stop\n",
        "    \n",
        "    n = x.size\n",
        "    v = np.zeros((n,n))\n",
        "    # Fill in y column\n",
        "    for j in range(n):\n",
        "        v[j,0] = y[j]\n",
        "        \n",
        "    # Fill in all the other columns i:\n",
        "    for i in range(1, n):\n",
        "        for j in range(0, n-i):\n",
        "            v[j,i] = (v[j+1,i-1]-v[j,i-1])/(x[j+i]-x[j])\n",
        "    \n",
        "    c = np.zeros(n,)\n",
        "    for i in range(n):\n",
        "        c[i] = v[0, i]\n",
        "        \n",
        "    return c\n",
        "\n",
        "def nest(d,c,x,b):\n",
        "    \"\"\"\n",
        "    Evaluates polynomial from nested form using Horner's Method\n",
        "    base points need to be passed in.\n",
        "    Input: \n",
        "    d: degree of polynomial\n",
        "    c: array of d+1 coefficients (constant term first)\n",
        "    x: x-coordinate at which to evaluate\n",
        "    \"\"\"\n",
        "    \n",
        "    y = c[d]\n",
        "    for i in range(d-1,-1,-1):\n",
        "        y = y*(x-b[i])+c[i]\n",
        "        \n",
        "    return y\n",
        "\n",
        "xf = np.linspace(-1, 1, 100)\n",
        "# change the following line for another function\n",
        "yf = 1/(1+12*xf**2)\n",
        "\n",
        "fig, ax = plt.subplots(figsize=(8,6))\n",
        "ax.set_xlim(-1, 1)\n",
        "def animate(i):\n",
        "    ax.cla()\n",
        "    x = np.linspace(-1, 1, i)\n",
        "    # change the following line for another function\n",
        "    y = 1./(1+12*x**2)\n",
        "    c = NewtonDivDiffInterp(x, y)\n",
        "    xp = np.linspace(-1, 1, 100)\n",
        "    yp = nest(i-1, c, xp, x)\n",
        "    ax.plot(xf, yf, c='b')\n",
        "    ax.plot(xp, yp, c='r')\n",
        "    ax.plot(x, y, 'o')\n",
        "    ax.set_title('Interpolation with '+ str(i) +' points')\n",
        "    ax.legend(['f(x)', 'Interpolating poly', 'Data'])\n",
        "\n",
        "plt.close()\n",
        "anim = FuncAnimation(fig, animate, frames=range(2,31), interval=1500)\n",
        "HTML(anim.to_jshtml())"
      ],
      "id": "c3f536f6"
    },
    {
      "cell_type": "markdown",
      "metadata": {
        "id": "0d20564e"
      },
      "source": [
        "Note close to the end points, there is a lot of wiggling. As a result the accuracy of the interpolating polynomial is very low close to the end points. \n",
        "\n",
        "This happens commonly when a large number of points are used for interpolation.\n",
        "\n",
        "This phenomenon is called **Runge's phenomenon**.\n",
        "\n",
        "The treatment for such undesired behavior is to use more points around the ends."
      ],
      "id": "0d20564e"
    },
    {
      "cell_type": "markdown",
      "metadata": {
        "id": "ad55c2ff"
      },
      "source": [
        "### Aleviating Runge's phenomenon with Chebyshev points"
      ],
      "id": "ad55c2ff"
    },
    {
      "cell_type": "markdown",
      "metadata": {
        "id": "2abed03f"
      },
      "source": [
        "Using the Chebyshev roots defined by\n",
        "\\begin{equation*}\n",
        "x_{i}=\\cos \\frac{(2 i-1) \\pi}{2 n} \\quad \\text { for } i=1, \\ldots, n\n",
        "\\end{equation*}\n",
        "as the data points for interpolation distributes the interpolation error as evenly as possible across the interval $[−1,1]$. We call the interpolating polynomial that uses the Chebyshev roots as data points the **Chebyshev interpolating polynomial**.\n",
        "\n",
        "We now show Runge's phenomenon is hardly noticed using the Chebyshev roots."
      ],
      "id": "2abed03f"
    },
    {
      "cell_type": "code",
      "execution_count": null,
      "metadata": {
        "scrolled": false,
        "id": "574220ed"
      },
      "outputs": [],
      "source": [
        "xf = np.linspace(-1, 1, 100)\n",
        "# use a dropdown or some other widgets to choose a range of functions\n",
        "yf = 1/(1+12*xf**2)\n",
        "\n",
        "fig, (ax1, ax2) = plt.subplots(1, 2, figsize=(12,6))\n",
        "ax1.set_xlim(-1, 1)\n",
        "ax2.set_xlim(-1, 1)\n",
        "def animate(i):\n",
        "    ax1.clear()\n",
        "    ax2.clear()\n",
        "    x = np.cos(((2*np.arange(1,i+1)-1)*np.pi)/(2*(i)))\n",
        "    y = 1./(1+12*x**2)\n",
        "    c = NewtonDivDiffInterp(x, y)\n",
        "    xp = np.linspace(-1, 1, 100)\n",
        "    yp = nest(i-1, c, xp, x)\n",
        "    ax1.plot(xf, yf, c='b')\n",
        "    ax1.plot(xp, yp, c='r')\n",
        "    ax1.plot(x, y, 'o')\n",
        "    ax1.set_title('Interpolation with '+ str(i) +' Chebyshev points')\n",
        "    ax1.legend(['f(x)', 'Interpolating poly', 'Data'])\n",
        "    \n",
        "    \n",
        "    x = np.linspace(-1, 1, i)\n",
        "    # change the following line for another function\n",
        "    y = 1./(1+12*x**2)\n",
        "    c = NewtonDivDiffInterp(x, y)\n",
        "    xp = np.linspace(-1, 1, 100)\n",
        "    yp = nest(i-1, c, xp, x)\n",
        "    ax2.plot(xf, yf, c='b')\n",
        "    ax2.plot(xp, yp, c='r')\n",
        "    ax2.plot(x, y, 'o')\n",
        "    ax2.set_title('Interpolation with '+ str(i) +' uniform points')\n",
        "    ax2.legend(['f(x)', 'Interpolating poly', 'Data'])\n",
        "\n",
        "plt.close()\n",
        "anim = FuncAnimation(fig, animate, frames=range(2,31), interval=1500)\n",
        "HTML(anim.to_jshtml())"
      ],
      "id": "574220ed"
    },
    {
      "cell_type": "code",
      "source": [
        ""
      ],
      "metadata": {
        "id": "pRe9U-zJt5ZN"
      },
      "id": "pRe9U-zJt5ZN",
      "execution_count": null,
      "outputs": []
    }
  ],
  "metadata": {
    "kernelspec": {
      "display_name": "Python 3 (ipykernel)",
      "language": "python",
      "name": "python3"
    },
    "language_info": {
      "codemirror_mode": {
        "name": "ipython",
        "version": 3
      },
      "file_extension": ".py",
      "mimetype": "text/x-python",
      "name": "python",
      "nbconvert_exporter": "python",
      "pygments_lexer": "ipython3",
      "version": "3.9.12"
    },
    "colab": {
      "name": "COLTT-Conference.ipynb",
      "provenance": [],
      "collapsed_sections": []
    }
  },
  "nbformat": 4,
  "nbformat_minor": 5
}